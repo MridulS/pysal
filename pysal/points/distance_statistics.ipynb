{
 "cells": [
  {
   "cell_type": "code",
   "execution_count": 38,
   "metadata": {
    "collapsed": true
   },
   "outputs": [],
   "source": [
    "import scipy.spatial\n",
    "import pysal as ps\n",
    "import numpy as np"
   ]
  },
  {
   "cell_type": "code",
   "execution_count": 39,
   "metadata": {
    "collapsed": false
   },
   "outputs": [],
   "source": [
    "run distance_statistics"
   ]
  },
  {
   "cell_type": "code",
   "execution_count": 40,
   "metadata": {
    "collapsed": false
   },
   "outputs": [
    {
     "data": {
      "text/plain": [
       "8.9958712752017522"
      ]
     },
     "execution_count": 40,
     "metadata": {},
     "output_type": "execute_result"
    }
   ],
   "source": [
    "p1.min_nnd"
   ]
  },
  {
   "cell_type": "code",
   "execution_count": 41,
   "metadata": {
    "collapsed": false
   },
   "outputs": [
    {
     "data": {
      "text/plain": [
       "21.792944822977631"
      ]
     },
     "execution_count": 41,
     "metadata": {},
     "output_type": "execute_result"
    }
   ],
   "source": [
    "p1.mean_nnd"
   ]
  },
  {
   "cell_type": "code",
   "execution_count": 42,
   "metadata": {
    "collapsed": false
   },
   "outputs": [
    {
     "data": {
      "text/plain": [
       "34.63124167568931"
      ]
     },
     "execution_count": 42,
     "metadata": {},
     "output_type": "execute_result"
    }
   ],
   "source": [
    "p1.max_nnd"
   ]
  },
  {
   "cell_type": "code",
   "execution_count": 43,
   "metadata": {
    "collapsed": false
   },
   "outputs": [
    {
     "data": {
      "text/plain": [
       "(array([[1, 4],\n",
       "        [3, 4],\n",
       "        [4, 3],\n",
       "        [1, 4],\n",
       "        [2, 3]]), array([[ 44.86326448,  44.89484603],\n",
       "        [ 15.64542745,  38.60403735],\n",
       "        [ 21.11125292,  54.61691771],\n",
       "        [ 15.64542745,  36.05221907],\n",
       "        [ 21.11125292,  36.05221907]]))"
      ]
     },
     "execution_count": 43,
     "metadata": {},
     "output_type": "execute_result"
    }
   ],
   "source": [
    "p2.knn(2)"
   ]
  },
  {
   "cell_type": "code",
   "execution_count": 44,
   "metadata": {
    "collapsed": false
   },
   "outputs": [
    {
     "data": {
      "text/plain": [
       "array([[  0.        ,   0.        ],\n",
       "       [  4.48632645,   0.        ],\n",
       "       [  8.9726529 ,   0.        ],\n",
       "       [ 13.45897934,   0.        ],\n",
       "       [ 17.94530579,   0.4       ],\n",
       "       [ 22.43163224,   0.8       ],\n",
       "       [ 26.91795869,   0.8       ],\n",
       "       [ 31.40428514,   0.8       ],\n",
       "       [ 35.89061159,   0.8       ],\n",
       "       [ 40.37693803,   0.8       ],\n",
       "       [ 44.86326448,   0.8       ],\n",
       "       [ 49.34959093,   1.        ]])"
      ]
     },
     "execution_count": 44,
     "metadata": {},
     "output_type": "execute_result"
    }
   ],
   "source": [
    "p2.G()"
   ]
  },
  {
   "cell_type": "code",
   "execution_count": 45,
   "metadata": {
    "collapsed": false
   },
   "outputs": [
    {
     "data": {
      "text/plain": [
       "array([[  0.        ,   0.        ],\n",
       "       [  3.46312417,   0.        ],\n",
       "       [  6.92624834,   0.        ],\n",
       "       [ 10.3893725 ,   0.16666667],\n",
       "       [ 13.85249667,   0.16666667],\n",
       "       [ 17.31562084,   0.25      ],\n",
       "       [ 20.77874501,   0.25      ],\n",
       "       [ 24.24186917,   0.58333333],\n",
       "       [ 27.70499334,   0.83333333],\n",
       "       [ 31.16811751,   0.83333333],\n",
       "       [ 34.63124168,   1.        ],\n",
       "       [ 38.09436584,   1.        ]])"
      ]
     },
     "execution_count": 45,
     "metadata": {},
     "output_type": "execute_result"
    }
   ],
   "source": [
    "p1.G(10)"
   ]
  },
  {
   "cell_type": "code",
   "execution_count": 46,
   "metadata": {
    "collapsed": false
   },
   "outputs": [
    {
     "data": {
      "text/plain": [
       "array([[  0.        ,   0.        ],\n",
       "       [  1.38524967,   0.        ],\n",
       "       [  2.77049933,   0.        ],\n",
       "       [  4.155749  ,   0.        ],\n",
       "       [  5.54099867,   0.        ],\n",
       "       [  6.92624834,   0.        ],\n",
       "       [  8.311498  ,   0.        ],\n",
       "       [  9.69674767,   0.16666667],\n",
       "       [ 11.08199734,   0.16666667],\n",
       "       [ 12.467247  ,   0.16666667],\n",
       "       [ 13.85249667,   0.16666667],\n",
       "       [ 15.23774634,   0.16666667],\n",
       "       [ 16.622996  ,   0.25      ],\n",
       "       [ 18.00824567,   0.25      ],\n",
       "       [ 19.39349534,   0.25      ],\n",
       "       [ 20.77874501,   0.25      ],\n",
       "       [ 22.16399467,   0.58333333],\n",
       "       [ 23.54924434,   0.58333333],\n",
       "       [ 24.93449401,   0.75      ],\n",
       "       [ 26.31974367,   0.83333333],\n",
       "       [ 27.70499334,   0.83333333],\n",
       "       [ 29.09024301,   0.83333333],\n",
       "       [ 30.47549267,   0.83333333],\n",
       "       [ 31.86074234,   0.83333333],\n",
       "       [ 33.24599201,   0.91666667],\n",
       "       [ 34.63124168,   1.        ],\n",
       "       [ 36.01649134,   1.        ]])"
      ]
     },
     "execution_count": 46,
     "metadata": {},
     "output_type": "execute_result"
    }
   ],
   "source": [
    "p1.G(25)"
   ]
  },
  {
   "cell_type": "code",
   "execution_count": 47,
   "metadata": {
    "collapsed": false
   },
   "outputs": [],
   "source": [
    "c =np.vstack((a,b)).T"
   ]
  },
  {
   "cell_type": "code",
   "execution_count": 48,
   "metadata": {
    "collapsed": false
   },
   "outputs": [
    {
     "data": {
      "text/plain": [
       "array([[  0.        ,   0.        ],\n",
       "       [  3.46312417,   0.        ],\n",
       "       [  6.92624834,   0.        ],\n",
       "       [ 10.3893725 ,   0.16666667],\n",
       "       [ 13.85249667,   0.16666667],\n",
       "       [ 17.31562084,   0.25      ],\n",
       "       [ 20.77874501,   0.25      ],\n",
       "       [ 24.24186917,   0.58333333],\n",
       "       [ 27.70499334,   0.83333333],\n",
       "       [ 31.16811751,   0.83333333],\n",
       "       [ 34.63124168,   1.        ],\n",
       "       [ 38.09436584,   1.        ]])"
      ]
     },
     "execution_count": 48,
     "metadata": {},
     "output_type": "execute_result"
    }
   ],
   "source": [
    "c"
   ]
  },
  {
   "cell_type": "code",
   "execution_count": 49,
   "metadata": {
    "collapsed": false
   },
   "outputs": [
    {
     "data": {
      "text/plain": [
       "(array([[10],\n",
       "        [10],\n",
       "        [10],\n",
       "        [10],\n",
       "        [10]]), array([[ 108.83047597],\n",
       "        [  64.84924826],\n",
       "        [ 110.79904918],\n",
       "        [  58.96644809],\n",
       "        [  94.49216105]]))"
      ]
     },
     "execution_count": 49,
     "metadata": {},
     "output_type": "execute_result"
    }
   ],
   "source": [
    "p1.knn_other(p2, k=1)"
   ]
  },
  {
   "cell_type": "code",
   "execution_count": 50,
   "metadata": {
    "collapsed": false
   },
   "outputs": [
    {
     "data": {
      "text/plain": [
       "(array([[3],\n",
       "        [1],\n",
       "        [1],\n",
       "        [1],\n",
       "        [1],\n",
       "        [3],\n",
       "        [3],\n",
       "        [1],\n",
       "        [3],\n",
       "        [3],\n",
       "        [1],\n",
       "        [3]]), array([[ 107.55869514],\n",
       "        [ 141.42135624],\n",
       "        [ 100.34875435],\n",
       "        [ 145.35741949],\n",
       "        [ 110.88855532],\n",
       "        [  79.81676328],\n",
       "        [ 126.9858248 ],\n",
       "        [ 140.93209606],\n",
       "        [  51.61964452],\n",
       "        [  90.6541571 ],\n",
       "        [  64.84924826],\n",
       "        [ 134.3210769 ]]))"
      ]
     },
     "execution_count": 50,
     "metadata": {},
     "output_type": "execute_result"
    }
   ],
   "source": [
    "p2.knn_other(p1, k=1)"
   ]
  },
  {
   "cell_type": "code",
   "execution_count": 51,
   "metadata": {
    "collapsed": false
   },
   "outputs": [
    {
     "data": {
      "text/plain": [
       "[[66.22, 32.54],\n",
       " [22.52, 22.39],\n",
       " [31.01, 81.21],\n",
       " [9.47, 31.02],\n",
       " [30.78, 60.1],\n",
       " [75.21, 58.93],\n",
       " [79.26, 7.68],\n",
       " [8.23, 39.93],\n",
       " [98.73, 80.53],\n",
       " [89.78, 42.53],\n",
       " [65.19, 92.08],\n",
       " [54.46, 8.48]]"
      ]
     },
     "execution_count": 51,
     "metadata": {},
     "output_type": "execute_result"
    }
   ],
   "source": [
    "points"
   ]
  },
  {
   "cell_type": "code",
   "execution_count": 54,
   "metadata": {
    "collapsed": false
   },
   "outputs": [
    {
     "data": {
      "text/plain": [
       "NotImplemented"
      ]
     },
     "execution_count": 54,
     "metadata": {},
     "output_type": "execute_result"
    }
   ],
   "source": [
    "p2.J()"
   ]
  },
  {
   "cell_type": "code",
   "execution_count": 53,
   "metadata": {
    "collapsed": false
   },
   "outputs": [
    {
     "data": {
      "text/plain": [
       "<ckdtree.cKDTree at 0x7fe57fa44aa0>"
      ]
     },
     "execution_count": 53,
     "metadata": {},
     "output_type": "execute_result"
    }
   ],
   "source": [
    "po = Point_Pattern(points)\n",
    "po.tree"
   ]
  },
  {
   "cell_type": "code",
   "execution_count": null,
   "metadata": {
    "collapsed": false
   },
   "outputs": [],
   "source": [
    "po.knn()"
   ]
  },
  {
   "cell_type": "code",
   "execution_count": null,
   "metadata": {
    "collapsed": false
   },
   "outputs": [],
   "source": [
    "po.knn(k=2)"
   ]
  },
  {
   "cell_type": "code",
   "execution_count": null,
   "metadata": {
    "collapsed": false
   },
   "outputs": [],
   "source": [
    "po.knn_other([[7,7]])"
   ]
  },
  {
   "cell_type": "code",
   "execution_count": null,
   "metadata": {
    "collapsed": false
   },
   "outputs": [],
   "source": [
    "po.find_pairs(20.0)"
   ]
  },
  {
   "cell_type": "code",
   "execution_count": null,
   "metadata": {
    "collapsed": false
   },
   "outputs": [],
   "source": [
    "po.points"
   ]
  },
  {
   "cell_type": "code",
   "execution_count": null,
   "metadata": {
    "collapsed": false
   },
   "outputs": [],
   "source": [
    "nn_ids(points)"
   ]
  },
  {
   "cell_type": "code",
   "execution_count": null,
   "metadata": {
    "collapsed": false
   },
   "outputs": [],
   "source": [
    "k3 = knn(points, 3)\n",
    "k3[0]"
   ]
  },
  {
   "cell_type": "code",
   "execution_count": null,
   "metadata": {
    "collapsed": false
   },
   "outputs": [],
   "source": [
    "k3[1]"
   ]
  },
  {
   "cell_type": "code",
   "execution_count": null,
   "metadata": {
    "collapsed": false
   },
   "outputs": [],
   "source": [
    "%pylab inline"
   ]
  },
  {
   "cell_type": "code",
   "execution_count": null,
   "metadata": {
    "collapsed": false
   },
   "outputs": [],
   "source": [
    "import numpy as np\n",
    "points = np.array(points)\n",
    "scatter(points[:,0], points[:,1])\n",
    "#xlim([0,100])\n",
    "#ylim([0,100])"
   ]
  },
  {
   "cell_type": "code",
   "execution_count": null,
   "metadata": {
    "collapsed": false
   },
   "outputs": [],
   "source": [
    "40 / 10."
   ]
  },
  {
   "cell_type": "code",
   "execution_count": null,
   "metadata": {
    "collapsed": false
   },
   "outputs": [],
   "source": [
    "G_bf(points)"
   ]
  },
  {
   "cell_type": "code",
   "execution_count": null,
   "metadata": {
    "collapsed": false
   },
   "outputs": [],
   "source": [
    "nn_distances(points)"
   ]
  },
  {
   "cell_type": "code",
   "execution_count": null,
   "metadata": {
    "collapsed": false
   },
   "outputs": [],
   "source": [
    " mbr_bf(points)"
   ]
  },
  {
   "cell_type": "code",
   "execution_count": null,
   "metadata": {
    "collapsed": false
   },
   "outputs": [],
   "source": []
  },
  {
   "cell_type": "code",
   "execution_count": null,
   "metadata": {
    "collapsed": false
   },
   "outputs": [],
   "source": []
  },
  {
   "cell_type": "code",
   "execution_count": null,
   "metadata": {
    "collapsed": false
   },
   "outputs": [],
   "source": [
    "F_bf(points)"
   ]
  },
  {
   "cell_type": "code",
   "execution_count": null,
   "metadata": {
    "collapsed": false
   },
   "outputs": [],
   "source": [
    "G = G_bf(points)"
   ]
  },
  {
   "cell_type": "code",
   "execution_count": null,
   "metadata": {
    "collapsed": false
   },
   "outputs": [],
   "source": [
    "F_cdf = F_cdf_bf(points)"
   ]
  },
  {
   "cell_type": "code",
   "execution_count": null,
   "metadata": {
    "collapsed": false
   },
   "outputs": [],
   "source": [
    "F_cdf = np.array(F_cdf).T"
   ]
  },
  {
   "cell_type": "code",
   "execution_count": null,
   "metadata": {
    "collapsed": false
   },
   "outputs": [],
   "source": [
    "scatter(F_cdf[:,0], F_cdf[:,1])\n",
    "xlim(0,40)\n",
    "ylim(0,1.0)"
   ]
  },
  {
   "cell_type": "code",
   "execution_count": null,
   "metadata": {
    "collapsed": false
   },
   "outputs": [],
   "source": [
    "G = np.array(G).T"
   ]
  },
  {
   "cell_type": "code",
   "execution_count": null,
   "metadata": {
    "collapsed": false
   },
   "outputs": [],
   "source": [
    "scatter(G[:,0], G[:,1])\n",
    "xlim(0,40)\n",
    "ylim(0,1.)"
   ]
  },
  {
   "cell_type": "code",
   "execution_count": null,
   "metadata": {
    "collapsed": false
   },
   "outputs": [],
   "source": [
    "plot(G[:,0], G[:,1],label='G')\n",
    "F = F_cdf\n",
    "plot(F[:,0], F[:,1], label='F')\n",
    "legend(loc='lower right')"
   ]
  },
  {
   "cell_type": "code",
   "execution_count": null,
   "metadata": {
    "collapsed": false
   },
   "outputs": [],
   "source": [
    "k_bf(points)"
   ]
  },
  {
   "cell_type": "code",
   "execution_count": null,
   "metadata": {
    "collapsed": false
   },
   "outputs": [],
   "source": [
    "12*12 - 12"
   ]
  },
  {
   "cell_type": "code",
   "execution_count": null,
   "metadata": {
    "collapsed": false
   },
   "outputs": [],
   "source": []
  },
  {
   "cell_type": "code",
   "execution_count": null,
   "metadata": {
    "collapsed": false
   },
   "outputs": [],
   "source": [
    "np.random.poisson(1.5)"
   ]
  },
  {
   "cell_type": "code",
   "execution_count": null,
   "metadata": {
    "collapsed": false
   },
   "outputs": [],
   "source": [
    "c = csr_bf(mbr_bf(points), 12)"
   ]
  },
  {
   "cell_type": "code",
   "execution_count": null,
   "metadata": {
    "collapsed": false
   },
   "outputs": [],
   "source": [
    "c"
   ]
  },
  {
   "cell_type": "code",
   "execution_count": null,
   "metadata": {
    "collapsed": false
   },
   "outputs": [],
   "source": [
    "cl = csr_bf(mbr_bf(points),12, n_conditioned=False)"
   ]
  },
  {
   "cell_type": "code",
   "execution_count": null,
   "metadata": {
    "collapsed": false
   },
   "outputs": [],
   "source": [
    "cl"
   ]
  },
  {
   "cell_type": "code",
   "execution_count": null,
   "metadata": {
    "collapsed": false
   },
   "outputs": [],
   "source": [
    "import shapely"
   ]
  },
  {
   "cell_type": "code",
   "execution_count": null,
   "metadata": {
    "collapsed": false
   },
   "outputs": [],
   "source": []
  },
  {
   "cell_type": "code",
   "execution_count": null,
   "metadata": {
    "collapsed": true
   },
   "outputs": [],
   "source": []
  },
  {
   "cell_type": "code",
   "execution_count": null,
   "metadata": {
    "collapsed": true
   },
   "outputs": [],
   "source": []
  }
 ],
 "metadata": {
  "kernelspec": {
   "display_name": "Python 2",
   "language": "python",
   "name": "python2"
  },
  "language_info": {
   "codemirror_mode": {
    "name": "ipython",
    "version": 2
   },
   "file_extension": ".py",
   "mimetype": "text/x-python",
   "name": "python",
   "nbconvert_exporter": "python",
   "pygments_lexer": "ipython2",
   "version": "2.7.10"
  }
 },
 "nbformat": 4,
 "nbformat_minor": 0
}
