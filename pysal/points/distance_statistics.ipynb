{
 "cells": [
  {
   "cell_type": "code",
   "execution_count": 1,
   "metadata": {
    "collapsed": false
   },
   "outputs": [
    {
     "name": "stdout",
     "output_type": "stream",
     "text": [
      "Populating the interactive namespace from numpy and matplotlib\n"
     ]
    }
   ],
   "source": [
    "import scipy.spatial\n",
    "import pysal as ps\n",
    "import numpy as np\n",
    "%pylab inline"
   ]
  },
  {
   "cell_type": "code",
   "execution_count": 2,
   "metadata": {
    "collapsed": false
   },
   "outputs": [],
   "source": [
    "run distance_statistics"
   ]
  },
  {
   "cell_type": "code",
   "execution_count": 3,
   "metadata": {
    "collapsed": false
   },
   "outputs": [
    {
     "data": {
      "text/plain": [
       "8.9958712752017522"
      ]
     },
     "execution_count": 3,
     "metadata": {},
     "output_type": "execute_result"
    }
   ],
   "source": [
    "p1.min_nnd"
   ]
  },
  {
   "cell_type": "code",
   "execution_count": 4,
   "metadata": {
    "collapsed": false
   },
   "outputs": [
    {
     "data": {
      "text/plain": [
       "array([[  8.23,  98.73],\n",
       "       [  7.68,  92.08]])"
      ]
     },
     "execution_count": 4,
     "metadata": {},
     "output_type": "execute_result"
    }
   ],
   "source": [
    "p1.mbb"
   ]
  },
  {
   "cell_type": "code",
   "execution_count": 5,
   "metadata": {
    "collapsed": false
   },
   "outputs": [
    {
     "data": {
      "text/plain": [
       "7638.2000000000007"
      ]
     },
     "execution_count": 5,
     "metadata": {},
     "output_type": "execute_result"
    }
   ],
   "source": [
    "p1.mbb_area"
   ]
  },
  {
   "cell_type": "code",
   "execution_count": 6,
   "metadata": {
    "collapsed": false
   },
   "outputs": [
    {
     "data": {
      "text/plain": [
       "0.0015710507711240867"
      ]
     },
     "execution_count": 6,
     "metadata": {},
     "output_type": "execute_result"
    }
   ],
   "source": [
    "p1.lambda_bb"
   ]
  },
  {
   "cell_type": "code",
   "execution_count": 7,
   "metadata": {
    "collapsed": false
   },
   "outputs": [
    {
     "data": {
      "text/plain": [
       "array([[  0.00000000e+00,   0.00000000e+00],\n",
       "       [  3.46312417e+00,   2.00000000e-02],\n",
       "       [  6.92624834e+00,   1.60000000e-01],\n",
       "       [  1.03893725e+01,   4.10000000e-01],\n",
       "       [  1.38524967e+01,   6.70000000e-01],\n",
       "       [  1.73156208e+01,   8.40000000e-01],\n",
       "       [  2.07787450e+01,   9.50000000e-01],\n",
       "       [  2.42418692e+01,   9.90000000e-01],\n",
       "       [  2.77049933e+01,   1.00000000e+00],\n",
       "       [  3.11681175e+01,   1.00000000e+00],\n",
       "       [  3.46312417e+01,   1.00000000e+00],\n",
       "       [  3.80943658e+01,   1.00000000e+00]])"
      ]
     },
     "execution_count": 7,
     "metadata": {},
     "output_type": "execute_result"
    }
   ],
   "source": [
    "p1.F()"
   ]
  },
  {
   "cell_type": "code",
   "execution_count": 8,
   "metadata": {
    "collapsed": false
   },
   "outputs": [
    {
     "data": {
      "text/plain": [
       "array([[  0.        ,   0.        ],\n",
       "       [  3.46312417,   0.        ],\n",
       "       [  6.92624834,   0.        ],\n",
       "       [ 10.3893725 ,   0.16666667],\n",
       "       [ 13.85249667,   0.16666667],\n",
       "       [ 17.31562084,   0.25      ],\n",
       "       [ 20.77874501,   0.25      ],\n",
       "       [ 24.24186917,   0.58333333],\n",
       "       [ 27.70499334,   0.83333333],\n",
       "       [ 31.16811751,   0.83333333],\n",
       "       [ 34.63124168,   1.        ],\n",
       "       [ 38.09436584,   1.        ]])"
      ]
     },
     "execution_count": 8,
     "metadata": {},
     "output_type": "execute_result"
    }
   ],
   "source": [
    "p1.G()"
   ]
  },
  {
   "cell_type": "code",
   "execution_count": 9,
   "metadata": {
    "collapsed": false
   },
   "outputs": [
    {
     "data": {
      "text/plain": [
       "array([[  0.        ,   3.46312417,   6.92624834,  10.3893725 ,\n",
       "         13.85249667,  17.31562084,  20.77874501],\n",
       "       [  1.        ,   0.92      ,   0.75      ,   0.612     ,\n",
       "          0.348     ,   0.24      ,   0.08      ]])"
      ]
     },
     "execution_count": 9,
     "metadata": {},
     "output_type": "execute_result"
    }
   ],
   "source": [
    "\n",
    "\n",
    "p1.J()"
   ]
  },
  {
   "cell_type": "code",
   "execution_count": 10,
   "metadata": {
    "collapsed": false
   },
   "outputs": [
    {
     "data": {
      "text/plain": [
       "[<matplotlib.lines.Line2D at 0x1093c54d0>]"
      ]
     },
     "execution_count": 10,
     "metadata": {},
     "output_type": "execute_result"
    },
    {
     "data": {
      "image/png": "[encoded data removed]",
      "text/plain": [
       "<matplotlib.figure.Figure at 0x109311a50>"
      ]
     },
     "metadata": {},
     "output_type": "display_data"
    }
   ],
   "source": [
    "j = p1.J().T\n",
    "plot(j[:,0], j[:,1])"
   ]
  },
  {
   "cell_type": "code",
   "execution_count": 11,
   "metadata": {
    "collapsed": false
   },
   "outputs": [
    {
     "data": {
      "text/plain": [
       "[<matplotlib.lines.Line2D at 0x109664210>]"
      ]
     },
     "execution_count": 11,
     "metadata": {},
     "output_type": "execute_result"
    },
    {
     "data": {
      "image/png": "[encoded data removed]",
      "text/plain": [
       "<matplotlib.figure.Figure at 0x10939ef50>"
      ]
     },
     "metadata": {},
     "output_type": "display_data"
    }
   ],
   "source": [
    "g = p1.G()\n",
    "plot(g[:,0], g[:,1])"
   ]
  },
  {
   "cell_type": "code",
   "execution_count": 12,
   "metadata": {
    "collapsed": false
   },
   "outputs": [
    {
     "data": {
      "text/plain": [
       "[<matplotlib.lines.Line2D at 0x1097b9450>]"
      ]
     },
     "execution_count": 12,
     "metadata": {},
     "output_type": "execute_result"
    },
    {
     "data": {
      "image/png": "[encoded data removed]",
      "text/plain": [
       "<matplotlib.figure.Figure at 0x1093118d0>"
      ]
     },
     "metadata": {},
     "output_type": "display_data"
    }
   ],
   "source": [
    "f = p1.F()\n",
    "plot(f[:,0], f[:,1])"
   ]
  },
  {
   "cell_type": "code",
   "execution_count": 13,
   "metadata": {
    "collapsed": true
   },
   "outputs": [],
   "source": [
    "p3 = np.random.uniform"
   ]
  },
  {
   "cell_type": "code",
   "execution_count": 14,
   "metadata": {
    "collapsed": false
   },
   "outputs": [
    {
     "data": {
      "text/plain": [
       "34.63124167568931"
      ]
     },
     "execution_count": 14,
     "metadata": {},
     "output_type": "execute_result"
    }
   ],
   "source": [
    "p1.max_nnd"
   ]
  },
  {
   "cell_type": "code",
   "execution_count": 15,
   "metadata": {
    "collapsed": false
   },
   "outputs": [
    {
     "data": {
      "text/plain": [
       "(array([[1, 4],\n",
       "        [3, 4],\n",
       "        [4, 3],\n",
       "        [1, 4],\n",
       "        [2, 3]]), array([[ 44.86326448,  44.89484603],\n",
       "        [ 15.64542745,  38.60403735],\n",
       "        [ 21.11125292,  54.61691771],\n",
       "        [ 15.64542745,  36.05221907],\n",
       "        [ 21.11125292,  36.05221907]]))"
      ]
     },
     "execution_count": 15,
     "metadata": {},
     "output_type": "execute_result"
    }
   ],
   "source": [
    "p2.knn(2)"
   ]
  },
  {
   "cell_type": "code",
   "execution_count": 16,
   "metadata": {
    "collapsed": false
   },
   "outputs": [
    {
     "data": {
      "text/plain": [
       "array([[  0.        ,   0.        ],\n",
       "       [  4.48632645,   0.        ],\n",
       "       [  8.9726529 ,   0.        ],\n",
       "       [ 13.45897934,   0.        ],\n",
       "       [ 17.94530579,   0.4       ],\n",
       "       [ 22.43163224,   0.8       ],\n",
       "       [ 26.91795869,   0.8       ],\n",
       "       [ 31.40428514,   0.8       ],\n",
       "       [ 35.89061159,   0.8       ],\n",
       "       [ 40.37693803,   0.8       ],\n",
       "       [ 44.86326448,   0.8       ],\n",
       "       [ 49.34959093,   1.        ]])"
      ]
     },
     "execution_count": 16,
     "metadata": {},
     "output_type": "execute_result"
    }
   ],
   "source": [
    "p2.G()"
   ]
  },
  {
   "cell_type": "code",
   "execution_count": 17,
   "metadata": {
    "collapsed": false
   },
   "outputs": [
    {
     "data": {
      "text/plain": [
       "array([[  0.        ,   0.        ],\n",
       "       [  3.46312417,   0.        ],\n",
       "       [  6.92624834,   0.        ],\n",
       "       [ 10.3893725 ,   0.16666667],\n",
       "       [ 13.85249667,   0.16666667],\n",
       "       [ 17.31562084,   0.25      ],\n",
       "       [ 20.77874501,   0.25      ],\n",
       "       [ 24.24186917,   0.58333333],\n",
       "       [ 27.70499334,   0.83333333],\n",
       "       [ 31.16811751,   0.83333333],\n",
       "       [ 34.63124168,   1.        ],\n",
       "       [ 38.09436584,   1.        ]])"
      ]
     },
     "execution_count": 17,
     "metadata": {},
     "output_type": "execute_result"
    }
   ],
   "source": [
    "p1.G(10)"
   ]
  },
  {
   "cell_type": "code",
   "execution_count": 18,
   "metadata": {
    "collapsed": false
   },
   "outputs": [
    {
     "data": {
      "text/plain": [
       "array([[  0.        ,   0.        ],\n",
       "       [  1.38524967,   0.        ],\n",
       "       [  2.77049933,   0.        ],\n",
       "       [  4.155749  ,   0.        ],\n",
       "       [  5.54099867,   0.        ],\n",
       "       [  6.92624834,   0.        ],\n",
       "       [  8.311498  ,   0.        ],\n",
       "       [  9.69674767,   0.16666667],\n",
       "       [ 11.08199734,   0.16666667],\n",
       "       [ 12.467247  ,   0.16666667],\n",
       "       [ 13.85249667,   0.16666667],\n",
       "       [ 15.23774634,   0.16666667],\n",
       "       [ 16.622996  ,   0.25      ],\n",
       "       [ 18.00824567,   0.25      ],\n",
       "       [ 19.39349534,   0.25      ],\n",
       "       [ 20.77874501,   0.25      ],\n",
       "       [ 22.16399467,   0.58333333],\n",
       "       [ 23.54924434,   0.58333333],\n",
       "       [ 24.93449401,   0.75      ],\n",
       "       [ 26.31974367,   0.83333333],\n",
       "       [ 27.70499334,   0.83333333],\n",
       "       [ 29.09024301,   0.83333333],\n",
       "       [ 30.47549267,   0.83333333],\n",
       "       [ 31.86074234,   0.83333333],\n",
       "       [ 33.24599201,   0.91666667],\n",
       "       [ 34.63124168,   1.        ],\n",
       "       [ 36.01649134,   1.        ]])"
      ]
     },
     "execution_count": 18,
     "metadata": {},
     "output_type": "execute_result"
    }
   ],
   "source": [
    "p1.G(25)"
   ]
  },
  {
   "cell_type": "code",
   "execution_count": 19,
   "metadata": {
    "collapsed": false
   },
   "outputs": [
    {
     "data": {
      "text/plain": [
       "(array([8, 8, 8, 8, 8]),\n",
       " array([  85.2052827 ,   48.14793557,  105.72824031,   51.61964452,\n",
       "          85.78220911]))"
      ]
     },
     "execution_count": 19,
     "metadata": {},
     "output_type": "execute_result"
    }
   ],
   "source": [
    "p1.knn_other(p2, k=1)"
   ]
  },
  {
   "cell_type": "code",
   "execution_count": 20,
   "metadata": {
    "collapsed": false
   },
   "outputs": [
    {
     "data": {
      "text/plain": [
       "(array([1, 3, 3, 3, 3, 1, 1, 3, 1, 1, 3, 1]),\n",
       " array([ 106.03165801,  139.14301779,   92.9355029 ,  141.42135624,\n",
       "         105.93282069,   79.15432837,  122.59613248,  136.18709814,\n",
       "          48.14793557,   86.31064361,   58.96644809,  132.69382691]))"
      ]
     },
     "execution_count": 20,
     "metadata": {},
     "output_type": "execute_result"
    }
   ],
   "source": [
    "p2.knn_other(p1, k=1)"
   ]
  },
  {
   "cell_type": "code",
   "execution_count": 21,
   "metadata": {
    "collapsed": false
   },
   "outputs": [
    {
     "data": {
      "text/plain": [
       "[[66.22, 32.54],\n",
       " [22.52, 22.39],\n",
       " [31.01, 81.21],\n",
       " [9.47, 31.02],\n",
       " [30.78, 60.1],\n",
       " [75.21, 58.93],\n",
       " [79.26, 7.68],\n",
       " [8.23, 39.93],\n",
       " [98.73, 80.53],\n",
       " [89.78, 42.53],\n",
       " [65.19, 92.08],\n",
       " [54.46, 8.48]]"
      ]
     },
     "execution_count": 21,
     "metadata": {},
     "output_type": "execute_result"
    }
   ],
   "source": [
    "points"
   ]
  },
  {
   "cell_type": "code",
   "execution_count": 22,
   "metadata": {
    "collapsed": false
   },
   "outputs": [
    {
     "data": {
      "text/plain": [
       "array([[  0.        ,   4.48632645,   8.9726529 ,  13.45897934,\n",
       "         17.94530579,  22.43163224,  26.91795869,  31.40428514],\n",
       "       [  1.        ,   0.95      ,   0.75      ,   0.55      ,\n",
       "          0.53333333,   0.65      ,   0.25      ,   0.1       ]])"
      ]
     },
     "execution_count": 22,
     "metadata": {},
     "output_type": "execute_result"
    }
   ],
   "source": [
    "p2.J()"
   ]
  },
  {
   "cell_type": "code",
   "execution_count": 23,
   "metadata": {
    "collapsed": false
   },
   "outputs": [
    {
     "data": {
      "text/plain": [
       "<scipy.spatial.ckdtree.cKDTree at 0x1093172b0>"
      ]
     },
     "execution_count": 23,
     "metadata": {},
     "output_type": "execute_result"
    }
   ],
   "source": [
    "po = Point_Pattern(points)\n",
    "po.tree"
   ]
  },
  {
   "cell_type": "code",
   "execution_count": 24,
   "metadata": {
    "collapsed": false
   },
   "outputs": [
    {
     "data": {
      "text/plain": [
       "(array([[ 9],\n",
       "        [ 3],\n",
       "        [ 4],\n",
       "        [ 7],\n",
       "        [ 2],\n",
       "        [ 9],\n",
       "        [11],\n",
       "        [ 3],\n",
       "        [ 5],\n",
       "        [ 5],\n",
       "        [ 5],\n",
       "        [ 6]]), array([[ 25.59050019],\n",
       "        [ 15.64542745],\n",
       "        [ 21.11125292],\n",
       "        [  8.99587128],\n",
       "        [ 21.11125292],\n",
       "        [ 21.93729473],\n",
       "        [ 24.81289987],\n",
       "        [  8.99587128],\n",
       "        [ 31.93353097],\n",
       "        [ 21.93729473],\n",
       "        [ 34.63124168],\n",
       "        [ 24.81289987]]))"
      ]
     },
     "execution_count": 24,
     "metadata": {},
     "output_type": "execute_result"
    }
   ],
   "source": [
    "po.knn()"
   ]
  },
  {
   "cell_type": "code",
   "execution_count": 25,
   "metadata": {
    "collapsed": false
   },
   "outputs": [
    {
     "data": {
      "text/plain": [
       "(array([[ 9, 11],\n",
       "        [ 3,  7],\n",
       "        [ 4, 10],\n",
       "        [ 7,  1],\n",
       "        [ 2,  7],\n",
       "        [ 9,  0],\n",
       "        [11,  0],\n",
       "        [ 3,  1],\n",
       "        [ 5, 10],\n",
       "        [ 5,  0],\n",
       "        [ 5,  8],\n",
       "        [ 6,  0]]), array([[ 25.59050019,  26.78023898],\n",
       "        [ 15.64542745,  22.62422816],\n",
       "        [ 21.11125292,  35.86682729],\n",
       "        [  8.99587128,  15.64542745],\n",
       "        [ 21.11125292,  30.2544443 ],\n",
       "        [ 21.93729473,  27.87924317],\n",
       "        [ 24.81289987,  28.07242775],\n",
       "        [  8.99587128,  22.62422816],\n",
       "        [ 31.93353097,  35.47300523],\n",
       "        [ 21.93729473,  25.59050019],\n",
       "        [ 34.63124168,  35.47300523],\n",
       "        [ 24.81289987,  26.78023898]]))"
      ]
     },
     "execution_count": 25,
     "metadata": {},
     "output_type": "execute_result"
    }
   ],
   "source": [
    "po.knn(k=2)"
   ]
  },
  {
   "cell_type": "code",
   "execution_count": 26,
   "metadata": {
    "collapsed": false
   },
   "outputs": [
    {
     "data": {
      "text/plain": [
       "(array([1]), array([ 21.85686391]))"
      ]
     },
     "execution_count": 26,
     "metadata": {},
     "output_type": "execute_result"
    }
   ],
   "source": [
    "po.knn_other([[7,7]])"
   ]
  },
  {
   "cell_type": "code",
   "execution_count": 27,
   "metadata": {
    "collapsed": false
   },
   "outputs": [
    {
     "data": {
      "text/plain": [
       "{(1, 3), (3, 7)}"
      ]
     },
     "execution_count": 27,
     "metadata": {},
     "output_type": "execute_result"
    }
   ],
   "source": [
    "po.find_pairs(20.0)"
   ]
  },
  {
   "cell_type": "code",
   "execution_count": 28,
   "metadata": {
    "collapsed": false
   },
   "outputs": [
    {
     "data": {
      "text/plain": [
       "array([[ 66.22,  32.54],\n",
       "       [ 22.52,  22.39],\n",
       "       [ 31.01,  81.21],\n",
       "       [  9.47,  31.02],\n",
       "       [ 30.78,  60.1 ],\n",
       "       [ 75.21,  58.93],\n",
       "       [ 79.26,   7.68],\n",
       "       [  8.23,  39.93],\n",
       "       [ 98.73,  80.53],\n",
       "       [ 89.78,  42.53],\n",
       "       [ 65.19,  92.08],\n",
       "       [ 54.46,   8.48]])"
      ]
     },
     "execution_count": 28,
     "metadata": {},
     "output_type": "execute_result"
    }
   ],
   "source": [
    "po.points"
   ]
  },
  {
   "cell_type": "code",
   "execution_count": 29,
   "metadata": {
    "collapsed": false
   },
   "outputs": [
    {
     "name": "stdout",
     "output_type": "stream",
     "text": [
      "Populating the interactive namespace from numpy and matplotlib\n"
     ]
    },
    {
     "name": "stderr",
     "output_type": "stream",
     "text": [
      "WARNING: pylab import has clobbered these variables: ['f', 'random']\n",
      "`%matplotlib` prevents importing * from pylab and numpy\n"
     ]
    }
   ],
   "source": [
    "%pylab inline"
   ]
  },
  {
   "cell_type": "code",
   "execution_count": 30,
   "metadata": {
    "collapsed": false
   },
   "outputs": [
    {
     "data": {
      "text/plain": [
       "<matplotlib.collections.PathCollection at 0x109329b50>"
      ]
     },
     "execution_count": 30,
     "metadata": {},
     "output_type": "execute_result"
    },
    {
     "data": {
      "image/png": "[encoded data removed]",
      "text/plain": [
       "<matplotlib.figure.Figure at 0x1097d1d10>"
      ]
     },
     "metadata": {},
     "output_type": "display_data"
    }
   ],
   "source": [
    "import numpy as np\n",
    "points = np.array(points)\n",
    "scatter(points[:,0], points[:,1])\n",
    "#xlim([0,100])\n",
    "#ylim([0,100])"
   ]
  },
  {
   "cell_type": "code",
   "execution_count": 31,
   "metadata": {
    "collapsed": false
   },
   "outputs": [
    {
     "data": {
      "text/plain": [
       "4.0"
      ]
     },
     "execution_count": 31,
     "metadata": {},
     "output_type": "execute_result"
    }
   ],
   "source": [
    "40 / 10."
   ]
  },
  {
   "cell_type": "code",
   "execution_count": 33,
   "metadata": {
    "collapsed": true
   },
   "outputs": [],
   "source": [
    "from centrography import mbr, hull"
   ]
  },
  {
   "cell_type": "code",
   "execution_count": 34,
   "metadata": {
    "collapsed": false
   },
   "outputs": [
    {
     "data": {
      "text/plain": [
       "array([[ 31.01,  81.21],\n",
       "       [  8.23,  39.93],\n",
       "       [  9.47,  31.02],\n",
       "       [ 22.52,  22.39],\n",
       "       [ 54.46,   8.48],\n",
       "       [ 79.26,   7.68],\n",
       "       [ 89.78,  42.53],\n",
       "       [ 98.73,  80.53],\n",
       "       [ 65.19,  92.08]])"
      ]
     },
     "execution_count": 34,
     "metadata": {},
     "output_type": "execute_result"
    }
   ],
   "source": [
    "hull(points)"
   ]
  },
  {
   "cell_type": "code",
   "execution_count": 35,
   "metadata": {
    "collapsed": false
   },
   "outputs": [
    {
     "data": {
      "text/plain": [
       "array([[ 66.22,  32.54],\n",
       "       [ 22.52,  22.39],\n",
       "       [ 31.01,  81.21],\n",
       "       [  9.47,  31.02],\n",
       "       [ 30.78,  60.1 ],\n",
       "       [ 75.21,  58.93],\n",
       "       [ 79.26,   7.68],\n",
       "       [  8.23,  39.93],\n",
       "       [ 98.73,  80.53],\n",
       "       [ 89.78,  42.53],\n",
       "       [ 65.19,  92.08],\n",
       "       [ 54.46,   8.48]])"
      ]
     },
     "execution_count": 35,
     "metadata": {},
     "output_type": "execute_result"
    }
   ],
   "source": [
    "points"
   ]
  },
  {
   "cell_type": "code",
   "execution_count": null,
   "metadata": {
    "collapsed": true
   },
   "outputs": [],
   "source": []
  }
 ],
 "metadata": {
  "kernelspec": {
   "display_name": "Python 2",
   "language": "python",
   "name": "python2"
  },
  "language_info": {
   "codemirror_mode": {
    "name": "ipython",
    "version": 2
   },
   "file_extension": ".py",
   "mimetype": "text/x-python",
   "name": "python",
   "nbconvert_exporter": "python",
   "pygments_lexer": "ipython2",
   "version": "2.7.11"
  }
 },
 "nbformat": 4,
 "nbformat_minor": 0
}
