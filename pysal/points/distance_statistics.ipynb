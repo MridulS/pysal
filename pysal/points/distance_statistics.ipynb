{
 "metadata": {
  "name": "",
  "signature": "sha256:52f5b4c12c9368c52c0273af054588ce86854384280819dbe0daa9a48ee90a8b"
 },
 "nbformat": 3,
 "nbformat_minor": 0,
 "worksheets": [
  {
   "cells": [
    {
     "cell_type": "code",
     "collapsed": false,
     "input": [
      "run distance_statistics"
     ],
     "language": "python",
     "metadata": {},
     "outputs": [],
     "prompt_number": 115
    },
    {
     "cell_type": "code",
     "collapsed": false,
     "input": [
      "points"
     ],
     "language": "python",
     "metadata": {},
     "outputs": [
      {
       "metadata": {},
       "output_type": "pyout",
       "prompt_number": 116,
       "text": [
        "[[66.22, 32.54],\n",
        " [22.52, 22.39],\n",
        " [31.01, 81.21],\n",
        " [9.47, 31.02],\n",
        " [30.78, 60.1],\n",
        " [75.21, 58.93],\n",
        " [79.26, 7.68],\n",
        " [8.23, 39.93],\n",
        " [98.73, 80.53],\n",
        " [89.78, 42.53],\n",
        " [65.19, 92.08],\n",
        " [54.46, 8.48]]"
       ]
      }
     ],
     "prompt_number": 116
    },
    {
     "cell_type": "code",
     "collapsed": false,
     "input": [
      "%pylab inline"
     ],
     "language": "python",
     "metadata": {},
     "outputs": [
      {
       "output_type": "stream",
       "stream": "stdout",
       "text": [
        "Populating the interactive namespace from numpy and matplotlib\n"
       ]
      },
      {
       "output_type": "stream",
       "stream": "stderr",
       "text": [
        "WARNING: pylab import has clobbered these variables: ['random']\n",
        "`%matplotlib` prevents importing * from pylab and numpy\n"
       ]
      }
     ],
     "prompt_number": 117
    },
    {
     "cell_type": "code",
     "collapsed": false,
     "input": [
      "import numpy as np\n",
      "points = np.array(points)\n",
      "scatter(points[:,0], points[:,1])\n",
      "xlim([0,100])\n",
      "ylim([0,100])"
     ],
     "language": "python",
     "metadata": {},
     "outputs": [
      {
       "metadata": {},
       "output_type": "pyout",
       "prompt_number": 118,
       "text": [
        "(0, 100)"
       ]
      },
      {
       "metadata": {},
       "output_type": "display_data",
       "png": "[encoded data removed]",
       "text": [
        "<matplotlib.figure.Figure at 0x10a107f50>"
       ]
      }
     ],
     "prompt_number": 118
    },
    {
     "cell_type": "code",
     "collapsed": false,
     "input": [
      "40 / 10."
     ],
     "language": "python",
     "metadata": {},
     "outputs": [
      {
       "metadata": {},
       "output_type": "pyout",
       "prompt_number": 119,
       "text": [
        "4.0"
       ]
      }
     ],
     "prompt_number": 119
    },
    {
     "cell_type": "code",
     "collapsed": false,
     "input": [
      "G_bf(points)"
     ],
     "language": "python",
     "metadata": {},
     "outputs": [
      {
       "metadata": {},
       "output_type": "pyout",
       "prompt_number": 120,
       "text": [
        "([0.0,\n",
        "  3.463124167568931,\n",
        "  6.926248335137862,\n",
        "  10.389372502706792,\n",
        "  13.852496670275723,\n",
        "  17.315620837844655,\n",
        "  20.778745005413583,\n",
        "  24.241869172982515,\n",
        "  27.704993340551447,\n",
        "  31.16811750812038,\n",
        "  34.63124167568931,\n",
        "  38.09436584325824],\n",
        " [0.0,\n",
        "  0.0,\n",
        "  0.0,\n",
        "  0.16666666666666666,\n",
        "  0.16666666666666666,\n",
        "  0.25,\n",
        "  0.25,\n",
        "  0.5833333333333334,\n",
        "  0.8333333333333334,\n",
        "  0.8333333333333334,\n",
        "  1.0,\n",
        "  1.0])"
       ]
      }
     ],
     "prompt_number": 120
    },
    {
     "cell_type": "code",
     "collapsed": false,
     "input": [
      "nn_distances(points)"
     ],
     "language": "python",
     "metadata": {},
     "outputs": [
      {
       "metadata": {},
       "output_type": "pyout",
       "prompt_number": 121,
       "text": [
        "([9, 3, 4, 7, 2, 9, 11, 3, 5, 5, 5, 6],\n",
        " [25.590500190500382,\n",
        "  15.645427447021062,\n",
        "  21.111252923500295,\n",
        "  8.995871275201752,\n",
        "  21.111252923500295,\n",
        "  21.93729472838436,\n",
        "  24.81289987083332,\n",
        "  8.995871275201752,\n",
        "  31.93353096668141,\n",
        "  21.93729472838436,\n",
        "  34.63124167568931,\n",
        "  24.81289987083332])"
       ]
      }
     ],
     "prompt_number": 121
    },
    {
     "cell_type": "code",
     "collapsed": false,
     "input": [
      " mbr_bf(points)"
     ],
     "language": "python",
     "metadata": {},
     "outputs": [
      {
       "metadata": {},
       "output_type": "pyout",
       "prompt_number": 122,
       "text": [
        "(8.2300000000000004,\n",
        " 7.6799999999999997,\n",
        " 98.730000000000004,\n",
        " 92.079999999999998)"
       ]
      }
     ],
     "prompt_number": 122
    },
    {
     "cell_type": "code",
     "collapsed": false,
     "input": [],
     "language": "python",
     "metadata": {},
     "outputs": [],
     "prompt_number": 122
    },
    {
     "cell_type": "code",
     "collapsed": false,
     "input": [],
     "language": "python",
     "metadata": {},
     "outputs": [],
     "prompt_number": 122
    },
    {
     "cell_type": "code",
     "collapsed": false,
     "input": [
      "F_bf(points)"
     ],
     "language": "python",
     "metadata": {},
     "outputs": [
      {
       "metadata": {},
       "output_type": "pyout",
       "prompt_number": 123,
       "text": [
        "([4.092686633268692,\n",
        "  12.82892279733259,\n",
        "  4.101009750647914,\n",
        "  13.55141136826722,\n",
        "  14.91716104873818,\n",
        "  9.269857853945236,\n",
        "  9.037582545979674,\n",
        "  8.29983019702486,\n",
        "  5.1331273600501195,\n",
        "  18.317379773118493,\n",
        "  6.01899026596183,\n",
        "  14.399468643540464,\n",
        "  5.341557146244211,\n",
        "  6.123504152241712,\n",
        "  9.224238532652064,\n",
        "  15.296182792829775,\n",
        "  9.00217269374996,\n",
        "  15.408459296837226,\n",
        "  1.117964011664855,\n",
        "  12.565998854855748,\n",
        "  14.734831160462091,\n",
        "  18.086205198448454,\n",
        "  7.138681838373392,\n",
        "  13.657267766609223,\n",
        "  2.1838571905188666,\n",
        "  9.527926923762012,\n",
        "  11.96086004774464,\n",
        "  16.52131163324908,\n",
        "  15.77419437356578,\n",
        "  13.889600069361256,\n",
        "  11.055768905540408,\n",
        "  11.22001749570319,\n",
        "  18.768491062067508,\n",
        "  15.96952026799299,\n",
        "  14.904952825931826,\n",
        "  16.222945183464848,\n",
        "  12.100431443112805,\n",
        "  16.812386159413357,\n",
        "  11.812306669953365,\n",
        "  19.859594541977476,\n",
        "  3.610036348429434,\n",
        "  12.798144469262336,\n",
        "  15.677117484077492,\n",
        "  6.653981122196968,\n",
        "  19.191847852503358,\n",
        "  7.3661570121811675,\n",
        "  23.17193625157566,\n",
        "  8.088757115427788,\n",
        "  12.301855085293308,\n",
        "  10.728413707064224,\n",
        "  15.412416394886648,\n",
        "  2.481845651975537,\n",
        "  13.526198205463436,\n",
        "  7.452851498017956,\n",
        "  16.12981521019624,\n",
        "  14.873969841042157,\n",
        "  12.982880108907864,\n",
        "  9.638357722061672,\n",
        "  16.89449464684897,\n",
        "  11.20917460413408,\n",
        "  16.700830858411816,\n",
        "  17.248497292860357,\n",
        "  10.510416836618385,\n",
        "  12.75943902631228,\n",
        "  11.708809943206056,\n",
        "  19.173218494367227,\n",
        "  10.66242118327678,\n",
        "  4.439077875330072,\n",
        "  6.782433423012367,\n",
        "  15.77303900325356,\n",
        "  13.570838719884204,\n",
        "  15.793590866812494,\n",
        "  20.581078621329716,\n",
        "  18.163232651091704,\n",
        "  15.732705785599022,\n",
        "  10.07771637654274,\n",
        "  8.664320486604014,\n",
        "  20.167876736238075,\n",
        "  10.063721391785728,\n",
        "  5.3045304557299735,\n",
        "  16.072362207374017,\n",
        "  10.947060533798519,\n",
        "  18.307423594369812,\n",
        "  7.786777411262119,\n",
        "  16.94681600172301,\n",
        "  13.701930605507389,\n",
        "  7.386492404270342,\n",
        "  8.071923350742944,\n",
        "  10.960021346129464,\n",
        "  1.814743438264554,\n",
        "  8.101706443847167,\n",
        "  10.148614909210282,\n",
        "  7.776597775788687,\n",
        "  8.803834213861801,\n",
        "  14.27532840290532,\n",
        "  7.507565998268599,\n",
        "  8.698328612736002,\n",
        "  10.22262724854665,\n",
        "  16.154929912522384,\n",
        "  2.5517061318164496],\n",
        " [1,\n",
        "  9,\n",
        "  1,\n",
        "  2,\n",
        "  4,\n",
        "  2,\n",
        "  11,\n",
        "  5,\n",
        "  6,\n",
        "  5,\n",
        "  8,\n",
        "  4,\n",
        "  4,\n",
        "  2,\n",
        "  9,\n",
        "  1,\n",
        "  1,\n",
        "  1,\n",
        "  1,\n",
        "  7,\n",
        "  4,\n",
        "  5,\n",
        "  1,\n",
        "  10,\n",
        "  5,\n",
        "  0,\n",
        "  9,\n",
        "  7,\n",
        "  9,\n",
        "  7,\n",
        "  5,\n",
        "  8,\n",
        "  10,\n",
        "  1,\n",
        "  8,\n",
        "  4,\n",
        "  10,\n",
        "  6,\n",
        "  0,\n",
        "  5,\n",
        "  2,\n",
        "  2,\n",
        "  5,\n",
        "  1,\n",
        "  8,\n",
        "  4,\n",
        "  2,\n",
        "  9,\n",
        "  10,\n",
        "  1,\n",
        "  5,\n",
        "  11,\n",
        "  10,\n",
        "  5,\n",
        "  4,\n",
        "  5,\n",
        "  0,\n",
        "  4,\n",
        "  4,\n",
        "  11,\n",
        "  2,\n",
        "  6,\n",
        "  4,\n",
        "  4,\n",
        "  4,\n",
        "  0,\n",
        "  5,\n",
        "  0,\n",
        "  7,\n",
        "  11,\n",
        "  10,\n",
        "  9,\n",
        "  4,\n",
        "  1,\n",
        "  2,\n",
        "  9,\n",
        "  1,\n",
        "  0,\n",
        "  4,\n",
        "  9,\n",
        "  8,\n",
        "  6,\n",
        "  5,\n",
        "  1,\n",
        "  2,\n",
        "  10,\n",
        "  10,\n",
        "  2,\n",
        "  8,\n",
        "  2,\n",
        "  11,\n",
        "  10,\n",
        "  11,\n",
        "  6,\n",
        "  11,\n",
        "  2,\n",
        "  5,\n",
        "  1,\n",
        "  9,\n",
        "  3])"
       ]
      }
     ],
     "prompt_number": 123
    },
    {
     "cell_type": "code",
     "collapsed": false,
     "input": [
      "G = G_bf(points)"
     ],
     "language": "python",
     "metadata": {},
     "outputs": [],
     "prompt_number": 124
    },
    {
     "cell_type": "code",
     "collapsed": false,
     "input": [
      "F_cdf = F_cdf_bf(points)"
     ],
     "language": "python",
     "metadata": {},
     "outputs": [],
     "prompt_number": 125
    },
    {
     "cell_type": "code",
     "collapsed": false,
     "input": [
      "F_cdf = np.array(F_cdf).T"
     ],
     "language": "python",
     "metadata": {},
     "outputs": [],
     "prompt_number": 126
    },
    {
     "cell_type": "code",
     "collapsed": false,
     "input": [
      "scatter(F_cdf[:,0], F_cdf[:,1])\n",
      "xlim(0,40)\n",
      "ylim(0,1.0)"
     ],
     "language": "python",
     "metadata": {},
     "outputs": [
      {
       "metadata": {},
       "output_type": "pyout",
       "prompt_number": 127,
       "text": [
        "(0, 1.0)"
       ]
      },
      {
       "metadata": {},
       "output_type": "display_data",
       "png": "[encoded data removed]",
       "text": [
        "<matplotlib.figure.Figure at 0x10a324590>"
       ]
      }
     ],
     "prompt_number": 127
    },
    {
     "cell_type": "code",
     "collapsed": false,
     "input": [
      "G = np.array(G).T"
     ],
     "language": "python",
     "metadata": {},
     "outputs": [],
     "prompt_number": 128
    },
    {
     "cell_type": "code",
     "collapsed": false,
     "input": [
      "scatter(G[:,0], G[:,1])\n",
      "xlim(0,40)\n",
      "ylim(0,1.)"
     ],
     "language": "python",
     "metadata": {},
     "outputs": [
      {
       "metadata": {},
       "output_type": "pyout",
       "prompt_number": 129,
       "text": [
        "(0, 1.0)"
       ]
      },
      {
       "metadata": {},
       "output_type": "display_data",
       "png": "[encoded data removed]",
       "text": [
        "<matplotlib.figure.Figure at 0x109dae090>"
       ]
      }
     ],
     "prompt_number": 129
    },
    {
     "cell_type": "code",
     "collapsed": false,
     "input": [
      "plot(G[:,0], G[:,1],label='G')\n",
      "F = F_cdf\n",
      "plot(F[:,0], F[:,1], label='F')\n",
      "legend(loc='lower right')"
     ],
     "language": "python",
     "metadata": {},
     "outputs": [
      {
       "metadata": {},
       "output_type": "pyout",
       "prompt_number": 130,
       "text": [
        "<matplotlib.legend.Legend at 0x10a10f310>"
       ]
      },
      {
       "metadata": {},
       "output_type": "display_data",
       "png": "[encoded data removed]",
       "text": [
        "<matplotlib.figure.Figure at 0x10a10f150>"
       ]
      }
     ],
     "prompt_number": 130
    },
    {
     "cell_type": "code",
     "collapsed": false,
     "input": [
      "k_bf(points)"
     ],
     "language": "python",
     "metadata": {},
     "outputs": [
      {
       "metadata": {},
       "output_type": "pyout",
       "prompt_number": 131,
       "text": [
        "([0,\n",
        "  0,\n",
        "  0,\n",
        "  0,\n",
        "  0,\n",
        "  0,\n",
        "  0,\n",
        "  0,\n",
        "  2,\n",
        "  2,\n",
        "  2,\n",
        "  2,\n",
        "  2,\n",
        "  4,\n",
        "  4,\n",
        "  4,\n",
        "  4,\n",
        "  6,\n",
        "  8,\n",
        "  10,\n",
        "  12,\n",
        "  14,\n",
        "  16,\n",
        "  20,\n",
        "  20,\n",
        "  22,\n",
        "  24,\n",
        "  24,\n",
        "  28,\n",
        "  34,\n",
        "  36,\n",
        "  38,\n",
        "  40,\n",
        "  40,\n",
        "  40,\n",
        "  40,\n",
        "  46,\n",
        "  46,\n",
        "  50,\n",
        "  50,\n",
        "  54,\n",
        "  56,\n",
        "  58,\n",
        "  58,\n",
        "  62,\n",
        "  66,\n",
        "  70,\n",
        "  76,\n",
        "  80,\n",
        "  82,\n",
        "  84,\n",
        "  84,\n",
        "  86,\n",
        "  86,\n",
        "  86,\n",
        "  88,\n",
        "  90,\n",
        "  96,\n",
        "  100,\n",
        "  102,\n",
        "  102,\n",
        "  104,\n",
        "  108,\n",
        "  110,\n",
        "  110,\n",
        "  112,\n",
        "  116,\n",
        "  118,\n",
        "  122,\n",
        "  124,\n",
        "  124,\n",
        "  126,\n",
        "  126,\n",
        "  126,\n",
        "  126,\n",
        "  126,\n",
        "  126,\n",
        "  128,\n",
        "  128,\n",
        "  128,\n",
        "  130,\n",
        "  130,\n",
        "  132,\n",
        "  132,\n",
        "  132,\n",
        "  132,\n",
        "  132,\n",
        "  132,\n",
        "  132,\n",
        "  132,\n",
        "  132,\n",
        "  132,\n",
        "  132,\n",
        "  132,\n",
        "  132,\n",
        "  132,\n",
        "  132,\n",
        "  132,\n",
        "  132,\n",
        "  132],\n",
        " [0.0,\n",
        "  1.2499815323602625,\n",
        "  2.499963064720525,\n",
        "  3.7499445970807876,\n",
        "  4.99992612944105,\n",
        "  6.249907661801313,\n",
        "  7.499889194161575,\n",
        "  8.749870726521838,\n",
        "  9.9998522588821,\n",
        "  11.249833791242363,\n",
        "  12.499815323602625,\n",
        "  13.749796855962888,\n",
        "  14.99977838832315,\n",
        "  16.249759920683413,\n",
        "  17.499741453043676,\n",
        "  18.74972298540394,\n",
        "  19.9997045177642,\n",
        "  21.249686050124463,\n",
        "  22.499667582484726,\n",
        "  23.74964911484499,\n",
        "  24.99963064720525,\n",
        "  26.249612179565514,\n",
        "  27.499593711925776,\n",
        "  28.74957524428604,\n",
        "  29.9995567766463,\n",
        "  31.249538309006564,\n",
        "  32.499519841366826,\n",
        "  33.749501373727085,\n",
        "  34.99948290608735,\n",
        "  36.24946443844762,\n",
        "  37.49944597080788,\n",
        "  38.749427503168135,\n",
        "  39.9994090355284,\n",
        "  41.24939056788867,\n",
        "  42.49937210024893,\n",
        "  43.749353632609186,\n",
        "  44.99933516496945,\n",
        "  46.24931669732972,\n",
        "  47.49929822968998,\n",
        "  48.749279762050236,\n",
        "  49.9992612944105,\n",
        "  51.24924282677077,\n",
        "  52.49922435913103,\n",
        "  53.749205891491286,\n",
        "  54.99918742385155,\n",
        "  56.24916895621182,\n",
        "  57.49915048857208,\n",
        "  58.749132020932336,\n",
        "  59.9991135532926,\n",
        "  61.24909508565287,\n",
        "  62.49907661801313,\n",
        "  63.749058150373386,\n",
        "  64.99903968273365,\n",
        "  66.24902121509392,\n",
        "  67.49900274745417,\n",
        "  68.74898427981444,\n",
        "  69.9989658121747,\n",
        "  71.24894734453497,\n",
        "  72.49892887689523,\n",
        "  73.74891040925549,\n",
        "  74.99889194161575,\n",
        "  76.24887347397602,\n",
        "  77.49885500633627,\n",
        "  78.74883653869654,\n",
        "  79.9988180710568,\n",
        "  81.24879960341707,\n",
        "  82.49878113577734,\n",
        "  83.74876266813759,\n",
        "  84.99874420049785,\n",
        "  86.24872573285812,\n",
        "  87.49870726521837,\n",
        "  88.74868879757864,\n",
        "  89.9986703299389,\n",
        "  91.24865186229917,\n",
        "  92.49863339465944,\n",
        "  93.74861492701969,\n",
        "  94.99859645937995,\n",
        "  96.24857799174022,\n",
        "  97.49855952410047,\n",
        "  98.74854105646074,\n",
        "  99.998522588821,\n",
        "  101.24850412118127,\n",
        "  102.49848565354154,\n",
        "  103.74846718590179,\n",
        "  104.99844871826205,\n",
        "  106.24843025062232,\n",
        "  107.49841178298257,\n",
        "  108.74839331534284,\n",
        "  109.9983748477031,\n",
        "  111.24835638006337,\n",
        "  112.49833791242364,\n",
        "  113.74831944478389,\n",
        "  114.99830097714415,\n",
        "  116.24828250950442,\n",
        "  117.49826404186467,\n",
        "  118.74824557422494,\n",
        "  119.9982271065852,\n",
        "  121.24820863894547,\n",
        "  122.49819017130574,\n",
        "  123.74817170366599])"
       ]
      }
     ],
     "prompt_number": 131
    },
    {
     "cell_type": "code",
     "collapsed": false,
     "input": [
      "12*12 - 12"
     ],
     "language": "python",
     "metadata": {},
     "outputs": [
      {
       "metadata": {},
       "output_type": "pyout",
       "prompt_number": 132,
       "text": [
        "132"
       ]
      }
     ],
     "prompt_number": 132
    },
    {
     "cell_type": "code",
     "collapsed": false,
     "input": [],
     "language": "python",
     "metadata": {},
     "outputs": [],
     "prompt_number": 132
    },
    {
     "cell_type": "code",
     "collapsed": false,
     "input": [
      "np.random.poisson(1.5)"
     ],
     "language": "python",
     "metadata": {},
     "outputs": [
      {
       "metadata": {},
       "output_type": "pyout",
       "prompt_number": 133,
       "text": [
        "1"
       ]
      }
     ],
     "prompt_number": 133
    },
    {
     "cell_type": "code",
     "collapsed": false,
     "input": [
      "c = csr_bf(mbr_bf(points), 12)"
     ],
     "language": "python",
     "metadata": {},
     "outputs": [],
     "prompt_number": 134
    },
    {
     "cell_type": "code",
     "collapsed": false,
     "input": [
      "c"
     ],
     "language": "python",
     "metadata": {},
     "outputs": [
      {
       "metadata": {},
       "output_type": "pyout",
       "prompt_number": 135,
       "text": [
        "[(41.389987559018522, 52.1877520325936),\n",
        " (85.106179497362376, 13.294171830447262),\n",
        " (92.683343104359878, 22.594719137128163),\n",
        " (55.357446406898646, 70.458888055668808),\n",
        " (35.528626843427588, 32.450338488549392),\n",
        " (11.99986196577192, 75.334426961086677),\n",
        " (18.917411509420425, 68.071686034278059),\n",
        " (63.926119461334153, 38.954466081103803),\n",
        " (70.636857703832746, 74.633061169480271),\n",
        " (92.786606122746534, 87.862017347533225),\n",
        " (78.233243458169042, 28.502163785174197),\n",
        " (44.382606082932654, 59.577591934958733)]"
       ]
      }
     ],
     "prompt_number": 135
    },
    {
     "cell_type": "code",
     "collapsed": false,
     "input": [
      "cl = csr_bf(mbr_bf(points),12, n_conditioned=False)"
     ],
     "language": "python",
     "metadata": {},
     "outputs": [],
     "prompt_number": 137
    },
    {
     "cell_type": "code",
     "collapsed": false,
     "input": [
      "cl"
     ],
     "language": "python",
     "metadata": {},
     "outputs": [
      {
       "metadata": {},
       "output_type": "pyout",
       "prompt_number": 138,
       "text": [
        "[(17.054928809700513, 81.779848270885367),\n",
        " (63.78775182951685, 24.477582713217078),\n",
        " (17.554037679105157, 90.190465583743929),\n",
        " (32.98317214733575, 87.255879791329704),\n",
        " (55.058199515358595, 60.021328345215316),\n",
        " (33.346485156365574, 31.704136240559503),\n",
        " (87.431249541430219, 46.368549759369863),\n",
        " (29.178903428685771, 53.179513688573842),\n",
        " (56.036017699659595, 72.038400570374847),\n",
        " (55.898410442449517, 49.142351756394305)]"
       ]
      }
     ],
     "prompt_number": 138
    },
    {
     "cell_type": "code",
     "collapsed": false,
     "input": [
      "import shapely"
     ],
     "language": "python",
     "metadata": {},
     "outputs": [],
     "prompt_number": 139
    },
    {
     "cell_type": "code",
     "collapsed": false,
     "input": [],
     "language": "python",
     "metadata": {},
     "outputs": []
    }
   ],
   "metadata": {}
  }
 ]
}