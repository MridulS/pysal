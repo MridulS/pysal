{
 "cells": [
  {
   "cell_type": "code",
   "execution_count": 1,
   "metadata": {
    "collapsed": true
   },
   "outputs": [],
   "source": [
    "import numpy as np\n",
    "from distance_statistics import Point_Pattern\n",
    "points = [[66.22, 32.54], [22.52, 22.39], [31.01, 81.21], [9.47, 31.02],\n",
    "               [30.78, 60.10], [75.21, 58.93], [79.26,  7.68], [8.23, 39.93],\n",
    "               [98.73, 80.53], [89.78, 42.53], [65.19, 92.08], [54.46, 8.48]]"
   ]
  },
  {
   "cell_type": "code",
   "execution_count": 2,
   "metadata": {
    "collapsed": true
   },
   "outputs": [],
   "source": [
    "from centrography import hull, mbr, mean_center, weighted_mean_center, manhattan_median"
   ]
  },
  {
   "cell_type": "code",
   "execution_count": 3,
   "metadata": {
    "collapsed": false
   },
   "outputs": [
    {
     "data": {
      "text/plain": [
       "array([[ 31.01,  81.21],\n",
       "       [  8.23,  39.93],\n",
       "       [  9.47,  31.02],\n",
       "       [ 22.52,  22.39],\n",
       "       [ 54.46,   8.48],\n",
       "       [ 79.26,   7.68],\n",
       "       [ 89.78,  42.53],\n",
       "       [ 98.73,  80.53],\n",
       "       [ 65.19,  92.08]])"
      ]
     },
     "execution_count": 3,
     "metadata": {},
     "output_type": "execute_result"
    }
   ],
   "source": [
    "pp = Point_Pattern(points)\n",
    "hull(pp.points)"
   ]
  },
  {
   "cell_type": "code",
   "execution_count": 4,
   "metadata": {
    "collapsed": false
   },
   "outputs": [
    {
     "data": {
      "text/plain": [
       "(8.2300000000000004,\n",
       " 7.6799999999999997,\n",
       " 98.730000000000004,\n",
       " 92.079999999999998)"
      ]
     },
     "execution_count": 4,
     "metadata": {},
     "output_type": "execute_result"
    }
   ],
   "source": [
    "mbr(pp.points)"
   ]
  },
  {
   "cell_type": "code",
   "execution_count": 5,
   "metadata": {
    "collapsed": false
   },
   "outputs": [
    {
     "data": {
      "text/plain": [
       "array([ 52.57166667,  46.45166667])"
      ]
     },
     "execution_count": 5,
     "metadata": {},
     "output_type": "execute_result"
    }
   ],
   "source": [
    "mean_center(pp.points)"
   ]
  },
  {
   "cell_type": "code",
   "execution_count": 6,
   "metadata": {
    "collapsed": false
   },
   "outputs": [
    {
     "name": "stderr",
     "output_type": "stream",
     "text": [
      "centrography.py:65: UserWarning: Manhattan Median is not unique for even point patterns.\n",
      "  warnings.warn(s)\n"
     ]
    },
    {
     "data": {
      "text/plain": [
       "array([ 59.825,  41.23 ])"
      ]
     },
     "execution_count": 6,
     "metadata": {},
     "output_type": "execute_result"
    }
   ],
   "source": [
    "manhattan_median(pp.points)"
   ]
  },
  {
   "cell_type": "code",
   "execution_count": null,
   "metadata": {
    "collapsed": true
   },
   "outputs": [],
   "source": []
  },
  {
   "cell_type": "code",
   "execution_count": 7,
   "metadata": {
    "collapsed": false
   },
   "outputs": [
    {
     "data": {
      "text/plain": [
       "array([ 59.825,  41.23 ])"
      ]
     },
     "execution_count": 7,
     "metadata": {},
     "output_type": "execute_result"
    }
   ],
   "source": [
    "np.median(points, axis=0)"
   ]
  },
  {
   "cell_type": "code",
   "execution_count": 8,
   "metadata": {
    "collapsed": false
   },
   "outputs": [],
   "source": [
    "points = np.array(points)"
   ]
  },
  {
   "cell_type": "code",
   "execution_count": 9,
   "metadata": {
    "collapsed": false
   },
   "outputs": [
    {
     "data": {
      "text/plain": [
       "array([[ 66.22,  32.54],\n",
       "       [ 22.52,  22.39],\n",
       "       [ 31.01,  81.21],\n",
       "       [  9.47,  31.02],\n",
       "       [ 30.78,  60.1 ],\n",
       "       [ 75.21,  58.93],\n",
       "       [ 79.26,   7.68],\n",
       "       [  8.23,  39.93],\n",
       "       [ 98.73,  80.53],\n",
       "       [ 89.78,  42.53],\n",
       "       [ 65.19,  92.08],\n",
       "       [ 54.46,   8.48]])"
      ]
     },
     "execution_count": 9,
     "metadata": {},
     "output_type": "execute_result"
    }
   ],
   "source": [
    "points"
   ]
  },
  {
   "cell_type": "code",
   "execution_count": 10,
   "metadata": {
    "collapsed": false
   },
   "outputs": [
    {
     "data": {
      "text/plain": [
       "array([ 60.51681818,  48.17575758])"
      ]
     },
     "execution_count": 10,
     "metadata": {},
     "output_type": "execute_result"
    }
   ],
   "source": [
    "weights = np.arange(12)\n",
    "weighted_mean_center(pp.points, weights)"
   ]
  },
  {
   "cell_type": "code",
   "execution_count": null,
   "metadata": {
    "collapsed": true
   },
   "outputs": [],
   "source": []
  }
 ],
 "metadata": {
  "kernelspec": {
   "display_name": "Python 2",
   "language": "python",
   "name": "python2"
  },
  "language_info": {
   "codemirror_mode": {
    "name": "ipython",
    "version": 2
   },
   "file_extension": ".py",
   "mimetype": "text/x-python",
   "name": "python",
   "nbconvert_exporter": "python",
   "pygments_lexer": "ipython2",
   "version": "2.7.11"
  }
 },
 "nbformat": 4,
 "nbformat_minor": 0
}
