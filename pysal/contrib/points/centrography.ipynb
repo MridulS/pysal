{
 "cells": [
  {
   "cell_type": "code",
   "execution_count": 1,
   "metadata": {
    "collapsed": true
   },
   "outputs": [],
   "source": [
    "import numpy as np\n",
    "from pointpattern import PointPattern\n",
    "%matplotlib inline\n",
    "import matplotlib.pyplot as plt\n",
    "points = [[66.22, 32.54], [22.52, 22.39], [31.01, 81.21], [9.47, 31.02],\n",
    "               [30.78, 60.10], [75.21, 58.93], [79.26,  7.68], [8.23, 39.93],\n",
    "               [98.73, 80.53], [89.78, 42.53], [65.19, 92.08], [54.46, 8.48]]"
   ]
  },
  {
   "cell_type": "code",
   "execution_count": 2,
   "metadata": {
    "collapsed": false
   },
   "outputs": [],
   "source": [
    "from centrography import hull, mbr, mean_center, weighted_mean_center, manhattan_median, std_distance"
   ]
  },
  {
   "cell_type": "code",
   "execution_count": 3,
   "metadata": {
    "collapsed": false
   },
   "outputs": [
    {
     "data": {
      "text/plain": [
       "array([[ 31.01,  81.21],\n",
       "       [  8.23,  39.93],\n",
       "       [  9.47,  31.02],\n",
       "       [ 22.52,  22.39],\n",
       "       [ 54.46,   8.48],\n",
       "       [ 79.26,   7.68],\n",
       "       [ 89.78,  42.53],\n",
       "       [ 98.73,  80.53],\n",
       "       [ 65.19,  92.08]])"
      ]
     },
     "execution_count": 3,
     "metadata": {},
     "output_type": "execute_result"
    }
   ],
   "source": [
    "pp = PointPattern(points)\n",
    "hull(pp.points)"
   ]
  },
  {
   "cell_type": "code",
   "execution_count": 4,
   "metadata": {
    "collapsed": false
   },
   "outputs": [
    {
     "data": {
      "text/plain": [
       "40.376087326260034"
      ]
     },
     "execution_count": 4,
     "metadata": {},
     "output_type": "execute_result"
    }
   ],
   "source": [
    "std_distance(pp.points)"
   ]
  },
  {
   "cell_type": "code",
   "execution_count": 5,
   "metadata": {
    "collapsed": false
   },
   "outputs": [
    {
     "data": {
      "text/plain": [
       "array([ 52.57166667,  46.45166667])"
      ]
     },
     "execution_count": 5,
     "metadata": {},
     "output_type": "execute_result"
    }
   ],
   "source": [
    "mean_center(pp.points)"
   ]
  },
  {
   "cell_type": "code",
   "execution_count": 6,
   "metadata": {
    "collapsed": false
   },
   "outputs": [
    {
     "name": "stderr",
     "output_type": "stream",
     "text": [
      "centrography.py:81: UserWarning: Manhattan Median is not unique for even point patterns.\n",
      "  warnings.warn(s)\n"
     ]
    },
    {
     "data": {
      "text/plain": [
       "array([ 59.825,  41.23 ])"
      ]
     },
     "execution_count": 6,
     "metadata": {},
     "output_type": "execute_result"
    }
   ],
   "source": [
    "manhattan_median(pp.points)"
   ]
  },
  {
   "cell_type": "code",
   "execution_count": null,
   "metadata": {
    "collapsed": true
   },
   "outputs": [],
   "source": []
  },
  {
   "cell_type": "code",
   "execution_count": 7,
   "metadata": {
    "collapsed": false
   },
   "outputs": [
    {
     "data": {
      "text/plain": [
       "array([ 59.825,  41.23 ])"
      ]
     },
     "execution_count": 7,
     "metadata": {},
     "output_type": "execute_result"
    }
   ],
   "source": [
    "np.median(points, axis=0)"
   ]
  },
  {
   "cell_type": "code",
   "execution_count": 9,
   "metadata": {
    "collapsed": false
   },
   "outputs": [],
   "source": [
    "points = np.array(points)"
   ]
  },
  {
   "cell_type": "code",
   "execution_count": 10,
   "metadata": {
    "collapsed": false
   },
   "outputs": [
    {
     "data": {
      "text/plain": [
       "array([[ 66.22,  32.54],\n",
       "       [ 22.52,  22.39],\n",
       "       [ 31.01,  81.21],\n",
       "       [  9.47,  31.02],\n",
       "       [ 30.78,  60.1 ],\n",
       "       [ 75.21,  58.93],\n",
       "       [ 79.26,   7.68],\n",
       "       [  8.23,  39.93],\n",
       "       [ 98.73,  80.53],\n",
       "       [ 89.78,  42.53],\n",
       "       [ 65.19,  92.08],\n",
       "       [ 54.46,   8.48]])"
      ]
     },
     "execution_count": 10,
     "metadata": {},
     "output_type": "execute_result"
    }
   ],
   "source": [
    "points"
   ]
  },
  {
   "cell_type": "code",
   "execution_count": 11,
   "metadata": {
    "collapsed": false
   },
   "outputs": [],
   "source": [
    "weights = np.arange(12)\n",
    "wmc = weighted_mean_center(pp.points, weights)\n",
    "wmc\n",
    "med = manhattan_median(pp.points)\n",
    "mc = mean_center(pp.points)"
   ]
  },
  {
   "cell_type": "code",
   "execution_count": 12,
   "metadata": {
    "collapsed": false
   },
   "outputs": [
    {
     "data": {
      "text/plain": [
       "<matplotlib.legend.Legend at 0x10d7e1d10>"
      ]
     },
     "execution_count": 12,
     "metadata": {},
     "output_type": "execute_result"
    },
    {
     "data": {
      "image/png": "[encoded data removed]",
      "text/plain": [
       "<matplotlib.figure.Figure at 0x10a580190>"
      ]
     },
     "metadata": {},
     "output_type": "display_data"
    }
   ],
   "source": [
    "pp.plot(title='Centers', hull=True )\n",
    "plt.plot(wmc[0], wmc[1], 'g.', label='wmc')\n",
    "plt.plot(med[0], med[1], 'r.', label='man')\n",
    "plt.plot(mc[0], mc[1], 'b.', label='mc')\n",
    "plt.legend(loc=0)\n",
    "\n"
   ]
  },
  {
   "cell_type": "code",
   "execution_count": 13,
   "metadata": {
    "collapsed": false
   },
   "outputs": [
    {
     "data": {
      "text/plain": [
       "[<matplotlib.lines.Line2D at 0x10d8c0e10>]"
      ]
     },
     "execution_count": 13,
     "metadata": {},
     "output_type": "execute_result"
    },
    {
     "data": {
      "image/png": "[encoded data removed]",
      "text/plain": [
       "<matplotlib.figure.Figure at 0x10a4f6cd0>"
      ]
     },
     "metadata": {},
     "output_type": "display_data"
    }
   ],
   "source": [
    "ax = pp.plot(title='test', get_ax=True)\n",
    "ax.plot(wmc[0], wmc[1], 'r.')\n",
    "ax.plot(40,50, 'g.')\n"
   ]
  },
  {
   "cell_type": "code",
   "execution_count": 14,
   "metadata": {
    "collapsed": false
   },
   "outputs": [
    {
     "data": {
      "image/png": "[encoded data removed]",
      "text/plain": [
       "<matplotlib.figure.Figure at 0x10da995d0>"
      ]
     },
     "metadata": {},
     "output_type": "display_data"
    }
   ],
   "source": [
    "pp.plot(hull=True)"
   ]
  },
  {
   "cell_type": "code",
   "execution_count": 15,
   "metadata": {
    "collapsed": false
   },
   "outputs": [
    {
     "data": {
      "image/png": "[encoded data removed]",
      "text/plain": [
       "<matplotlib.figure.Figure at 0x10dac5810>"
      ]
     },
     "metadata": {},
     "output_type": "display_data"
    }
   ],
   "source": [
    "pp.plot(hull=True, window=True)"
   ]
  },
  {
   "cell_type": "code",
   "execution_count": 38,
   "metadata": {
    "collapsed": false
   },
   "outputs": [
    {
     "data": {
      "image/png": "[encoded data removed]",
      "text/plain": [
       "<matplotlib.figure.Figure at 0x10daa34d0>"
      ]
     },
     "metadata": {},
     "output_type": "display_data"
    }
   ],
   "source": [
    "stdd = std_distance(pp.points)\n",
    "circle1=plt.Circle((mc[0], mc[1]),stdd,color='r')\n",
    "ax = pp.plot(get_ax=True, title='Standard Distance Circle')\n",
    "ax.add_artist(circle1)\n",
    "plt.plot(mc[0], mc[1], 'b.', label='mc')\n",
    "ax.set_aspect('equal')\n",
    "\n",
    "\n",
    "#plt.xlim(-100,100)\n",
    "#plt.ylim(-100,100)\n",
    "\n",
    "#plt.show()\n"
   ]
  },
  {
   "cell_type": "code",
   "execution_count": 40,
   "metadata": {
    "collapsed": false
   },
   "outputs": [
    {
     "data": {
      "image/png": "[encoded data removed]",
      "text/plain": [
       "<matplotlib.figure.Figure at 0x10e4ddd50>"
      ]
     },
     "metadata": {},
     "output_type": "display_data"
    }
   ],
   "source": [
    "stdd = std_distance(pp.points)\n",
    "circle1=plt.Circle((mc[0], mc[1]),stdd,color='r',alpha=0.2)\n",
    "ax = pp.plot(get_ax=True, title='Standard Distance Circle', hull=True)\n",
    "ax.add_artist(circle1)\n",
    "plt.plot(mc[0], mc[1], 'b.', label='mc')\n",
    "ax.set_aspect('equal')\n",
    "\n",
    "\n",
    "#plt.xlim(-100,100)\n",
    "#plt.ylim(-100,100)\n",
    "\n",
    "#plt.show()\n"
   ]
  },
  {
   "cell_type": "code",
   "execution_count": null,
   "metadata": {
    "collapsed": true
   },
   "outputs": [],
   "source": []
  },
  {
   "cell_type": "code",
   "execution_count": 16,
   "metadata": {
    "collapsed": false
   },
   "outputs": [
    {
     "data": {
      "text/plain": [
       "array([[ 31.01,  81.21],\n",
       "       [  8.23,  39.93],\n",
       "       [  9.47,  31.02],\n",
       "       [ 22.52,  22.39],\n",
       "       [ 54.46,   8.48],\n",
       "       [ 79.26,   7.68],\n",
       "       [ 89.78,  42.53],\n",
       "       [ 98.73,  80.53],\n",
       "       [ 65.19,  92.08]])"
      ]
     },
     "execution_count": 16,
     "metadata": {},
     "output_type": "execute_result"
    }
   ],
   "source": [
    "pp.hull"
   ]
  },
  {
   "cell_type": "code",
   "execution_count": 17,
   "metadata": {
    "collapsed": false
   },
   "outputs": [
    {
     "data": {
      "text/plain": [
       "<matplotlib.text.Text at 0x10de562d0>"
      ]
     },
     "execution_count": 17,
     "metadata": {},
     "output_type": "execute_result"
    },
    {
     "data": {
      "image/png": "[encoded data removed]",
      "text/plain": [
       "<matplotlib.figure.Figure at 0x10dd06050>"
      ]
     },
     "metadata": {},
     "output_type": "display_data"
    }
   ],
   "source": [
    "ax = pp.plot(hull=True, window=True, get_ax=True)\n",
    "ax.set_xlim(0,200)\n",
    "ax.plot(60,50,'r.')\n",
    "plt.title('new')"
   ]
  },
  {
   "cell_type": "code",
   "execution_count": 18,
   "metadata": {
    "collapsed": false
   },
   "outputs": [
    {
     "data": {
      "text/plain": [
       "['__class__',\n",
       " '__delattr__',\n",
       " '__dict__',\n",
       " '__doc__',\n",
       " '__format__',\n",
       " '__getattribute__',\n",
       " '__getstate__',\n",
       " '__hash__',\n",
       " '__init__',\n",
       " '__module__',\n",
       " '__new__',\n",
       " '__reduce__',\n",
       " '__reduce_ex__',\n",
       " '__repr__',\n",
       " '__setattr__',\n",
       " '__setstate__',\n",
       " '__sizeof__',\n",
       " '__str__',\n",
       " '__subclasshook__',\n",
       " '__weakref__',\n",
       " '_adjustable',\n",
       " '_agg_filter',\n",
       " '_alpha',\n",
       " '_anchor',\n",
       " '_animated',\n",
       " '_aspect',\n",
       " '_autoscaleXon',\n",
       " '_autoscaleYon',\n",
       " '_axes',\n",
       " u'_axes_class',\n",
       " '_axes_locator',\n",
       " '_axisbelow',\n",
       " '_axisbg',\n",
       " '_cachedRenderer',\n",
       " '_clipon',\n",
       " '_clippath',\n",
       " '_connected',\n",
       " '_contains',\n",
       " '_current_image',\n",
       " '_cursorProps',\n",
       " '_frameon',\n",
       " '_gci',\n",
       " '_gen_axes_patch',\n",
       " '_gen_axes_spines',\n",
       " '_get_axis_list',\n",
       " '_get_legend_handles',\n",
       " '_get_lines',\n",
       " '_get_patches_for_fill',\n",
       " '_get_view',\n",
       " '_gid',\n",
       " '_gridOn',\n",
       " '_hold',\n",
       " '_init_axis',\n",
       " '_label',\n",
       " '_left_title',\n",
       " '_make_twin_axes',\n",
       " '_mouseover',\n",
       " '_navigate',\n",
       " '_navigate_mode',\n",
       " '_oid',\n",
       " '_originalPosition',\n",
       " '_path_effects',\n",
       " '_pcolorargs',\n",
       " '_picker',\n",
       " '_position',\n",
       " '_process_unit_info',\n",
       " '_propobservers',\n",
       " '_rasterization_zorder',\n",
       " '_rasterized',\n",
       " '_remove_method',\n",
       " '_right_title',\n",
       " '_sci',\n",
       " '_set_artist_props',\n",
       " '_set_gc_clip',\n",
       " '_set_lim_and_transforms',\n",
       " '_set_view',\n",
       " '_set_view_from_bbox',\n",
       " '_shared_x_axes',\n",
       " '_shared_y_axes',\n",
       " '_sharex',\n",
       " '_sharey',\n",
       " '_sketch',\n",
       " '_snap',\n",
       " '_stale',\n",
       " '_subplotspec',\n",
       " '_tight',\n",
       " '_transform',\n",
       " '_transformSet',\n",
       " '_update_line_limits',\n",
       " '_update_patch_limits',\n",
       " '_update_transScale',\n",
       " '_url',\n",
       " '_visible',\n",
       " '_xaxis_transform',\n",
       " '_xcid',\n",
       " '_xmargin',\n",
       " '_yaxis_transform',\n",
       " '_ycid',\n",
       " '_ymargin',\n",
       " 'acorr',\n",
       " 'add_artist',\n",
       " 'add_callback',\n",
       " 'add_collection',\n",
       " 'add_container',\n",
       " 'add_image',\n",
       " 'add_line',\n",
       " 'add_patch',\n",
       " 'add_table',\n",
       " 'aname',\n",
       " 'angle_spectrum',\n",
       " 'annotate',\n",
       " 'apply_aspect',\n",
       " 'arrow',\n",
       " 'artists',\n",
       " 'autoscale',\n",
       " 'autoscale_view',\n",
       " 'axes',\n",
       " 'axesPatch',\n",
       " 'axhline',\n",
       " 'axhspan',\n",
       " 'axis',\n",
       " 'axison',\n",
       " 'axvline',\n",
       " 'axvspan',\n",
       " 'bar',\n",
       " 'barbs',\n",
       " 'barh',\n",
       " 'bbox',\n",
       " 'boxplot',\n",
       " 'broken_barh',\n",
       " 'bxp',\n",
       " 'callbacks',\n",
       " 'can_pan',\n",
       " 'can_zoom',\n",
       " 'change_geometry',\n",
       " 'cla',\n",
       " 'clabel',\n",
       " 'clear',\n",
       " 'clipbox',\n",
       " 'cohere',\n",
       " 'colNum',\n",
       " 'collections',\n",
       " 'containers',\n",
       " 'contains',\n",
       " 'contains_point',\n",
       " 'contour',\n",
       " 'contourf',\n",
       " 'convert_xunits',\n",
       " 'convert_yunits',\n",
       " 'csd',\n",
       " 'dataLim',\n",
       " 'drag_pan',\n",
       " 'draw',\n",
       " 'draw_artist',\n",
       " 'end_pan',\n",
       " 'errorbar',\n",
       " 'eventplot',\n",
       " 'eventson',\n",
       " 'figbox',\n",
       " 'figure',\n",
       " 'fill',\n",
       " 'fill_between',\n",
       " 'fill_betweenx',\n",
       " 'findobj',\n",
       " 'fmt_xdata',\n",
       " 'fmt_ydata',\n",
       " 'format_coord',\n",
       " 'format_cursor_data',\n",
       " 'format_xdata',\n",
       " 'format_ydata',\n",
       " 'get_adjustable',\n",
       " 'get_agg_filter',\n",
       " 'get_alpha',\n",
       " 'get_anchor',\n",
       " 'get_animated',\n",
       " 'get_aspect',\n",
       " 'get_autoscale_on',\n",
       " 'get_autoscalex_on',\n",
       " 'get_autoscaley_on',\n",
       " 'get_axes',\n",
       " 'get_axes_locator',\n",
       " 'get_axis_bgcolor',\n",
       " 'get_axisbelow',\n",
       " 'get_children',\n",
       " 'get_clip_box',\n",
       " 'get_clip_on',\n",
       " 'get_clip_path',\n",
       " 'get_contains',\n",
       " 'get_cursor_data',\n",
       " 'get_cursor_props',\n",
       " 'get_data_ratio',\n",
       " 'get_data_ratio_log',\n",
       " 'get_default_bbox_extra_artists',\n",
       " 'get_figure',\n",
       " 'get_frame_on',\n",
       " 'get_geometry',\n",
       " 'get_gid',\n",
       " 'get_images',\n",
       " 'get_label',\n",
       " 'get_legend',\n",
       " 'get_legend_handles_labels',\n",
       " 'get_lines',\n",
       " 'get_navigate',\n",
       " 'get_navigate_mode',\n",
       " 'get_path_effects',\n",
       " 'get_picker',\n",
       " 'get_position',\n",
       " 'get_rasterization_zorder',\n",
       " 'get_rasterized',\n",
       " 'get_renderer_cache',\n",
       " 'get_shared_x_axes',\n",
       " 'get_shared_y_axes',\n",
       " 'get_sketch_params',\n",
       " 'get_snap',\n",
       " 'get_subplotspec',\n",
       " 'get_tightbbox',\n",
       " 'get_title',\n",
       " 'get_transform',\n",
       " 'get_transformed_clip_path_and_affine',\n",
       " 'get_url',\n",
       " 'get_visible',\n",
       " 'get_window_extent',\n",
       " 'get_xaxis',\n",
       " 'get_xaxis_text1_transform',\n",
       " 'get_xaxis_text2_transform',\n",
       " 'get_xaxis_transform',\n",
       " 'get_xbound',\n",
       " 'get_xgridlines',\n",
       " 'get_xlabel',\n",
       " 'get_xlim',\n",
       " 'get_xmajorticklabels',\n",
       " 'get_xminorticklabels',\n",
       " 'get_xscale',\n",
       " 'get_xticklabels',\n",
       " 'get_xticklines',\n",
       " 'get_xticks',\n",
       " 'get_yaxis',\n",
       " 'get_yaxis_text1_transform',\n",
       " 'get_yaxis_text2_transform',\n",
       " 'get_yaxis_transform',\n",
       " 'get_ybound',\n",
       " 'get_ygridlines',\n",
       " 'get_ylabel',\n",
       " 'get_ylim',\n",
       " 'get_ymajorticklabels',\n",
       " 'get_yminorticklabels',\n",
       " 'get_yscale',\n",
       " 'get_yticklabels',\n",
       " 'get_yticklines',\n",
       " 'get_yticks',\n",
       " 'get_zorder',\n",
       " 'grid',\n",
       " 'has_data',\n",
       " 'have_units',\n",
       " 'hexbin',\n",
       " 'hist',\n",
       " 'hist2d',\n",
       " 'hitlist',\n",
       " 'hlines',\n",
       " 'hold',\n",
       " 'ignore_existing_data_limits',\n",
       " 'images',\n",
       " 'imshow',\n",
       " 'in_axes',\n",
       " 'invert_xaxis',\n",
       " 'invert_yaxis',\n",
       " 'is_figure_set',\n",
       " 'is_first_col',\n",
       " 'is_first_row',\n",
       " 'is_last_col',\n",
       " 'is_last_row',\n",
       " 'is_transform_set',\n",
       " 'ishold',\n",
       " 'label_outer',\n",
       " 'legend',\n",
       " 'legend_',\n",
       " 'lines',\n",
       " 'locator_params',\n",
       " 'loglog',\n",
       " 'magnitude_spectrum',\n",
       " 'margins',\n",
       " 'matshow',\n",
       " 'minorticks_off',\n",
       " 'minorticks_on',\n",
       " 'mouseover',\n",
       " 'mouseover_set',\n",
       " 'name',\n",
       " 'numCols',\n",
       " 'numRows',\n",
       " 'patch',\n",
       " 'patches',\n",
       " 'pchanged',\n",
       " 'pcolor',\n",
       " 'pcolorfast',\n",
       " 'pcolormesh',\n",
       " 'phase_spectrum',\n",
       " 'pick',\n",
       " 'pickable',\n",
       " 'pie',\n",
       " 'plot',\n",
       " 'plot_date',\n",
       " 'properties',\n",
       " 'psd',\n",
       " 'quiver',\n",
       " 'quiverkey',\n",
       " 'redraw_in_frame',\n",
       " 'relim',\n",
       " 'remove',\n",
       " 'remove_callback',\n",
       " 'reset_position',\n",
       " 'rowNum',\n",
       " 'scatter',\n",
       " 'semilogx',\n",
       " 'semilogy',\n",
       " 'set',\n",
       " 'set_adjustable',\n",
       " 'set_agg_filter',\n",
       " 'set_alpha',\n",
       " 'set_anchor',\n",
       " 'set_animated',\n",
       " 'set_aspect',\n",
       " 'set_autoscale_on',\n",
       " 'set_autoscalex_on',\n",
       " 'set_autoscaley_on',\n",
       " 'set_axes',\n",
       " 'set_axes_locator',\n",
       " 'set_axis_bgcolor',\n",
       " 'set_axis_off',\n",
       " 'set_axis_on',\n",
       " 'set_axisbelow',\n",
       " 'set_clip_box',\n",
       " 'set_clip_on',\n",
       " 'set_clip_path',\n",
       " 'set_color_cycle',\n",
       " 'set_contains',\n",
       " 'set_cursor_props',\n",
       " 'set_figure',\n",
       " 'set_frame_on',\n",
       " 'set_gid',\n",
       " 'set_label',\n",
       " 'set_navigate',\n",
       " 'set_navigate_mode',\n",
       " 'set_path_effects',\n",
       " 'set_picker',\n",
       " 'set_position',\n",
       " 'set_prop_cycle',\n",
       " 'set_rasterization_zorder',\n",
       " 'set_rasterized',\n",
       " 'set_sketch_params',\n",
       " 'set_snap',\n",
       " 'set_subplotspec',\n",
       " 'set_title',\n",
       " 'set_transform',\n",
       " 'set_url',\n",
       " 'set_visible',\n",
       " 'set_xbound',\n",
       " 'set_xlabel',\n",
       " 'set_xlim',\n",
       " 'set_xmargin',\n",
       " 'set_xscale',\n",
       " 'set_xticklabels',\n",
       " 'set_xticks',\n",
       " 'set_ybound',\n",
       " 'set_ylabel',\n",
       " 'set_ylim',\n",
       " 'set_ymargin',\n",
       " 'set_yscale',\n",
       " 'set_yticklabels',\n",
       " 'set_yticks',\n",
       " 'set_zorder',\n",
       " 'specgram',\n",
       " 'spines',\n",
       " 'spy',\n",
       " 'stackplot',\n",
       " 'stale',\n",
       " 'stale_callback',\n",
       " 'start_pan',\n",
       " 'stem',\n",
       " 'step',\n",
       " 'streamplot',\n",
       " 'table',\n",
       " 'tables',\n",
       " 'text',\n",
       " 'texts',\n",
       " 'tick_params',\n",
       " 'ticklabel_format',\n",
       " 'title',\n",
       " 'titleOffsetTrans',\n",
       " 'transAxes',\n",
       " 'transData',\n",
       " 'transLimits',\n",
       " 'transScale',\n",
       " 'tricontour',\n",
       " 'tricontourf',\n",
       " 'tripcolor',\n",
       " 'triplot',\n",
       " 'twinx',\n",
       " 'twiny',\n",
       " 'update',\n",
       " 'update_datalim',\n",
       " 'update_datalim_bounds',\n",
       " 'update_datalim_numerix',\n",
       " 'update_from',\n",
       " 'update_params',\n",
       " 'viewLim',\n",
       " 'violin',\n",
       " 'violinplot',\n",
       " 'vlines',\n",
       " 'xaxis',\n",
       " 'xaxis_date',\n",
       " 'xaxis_inverted',\n",
       " 'xcorr',\n",
       " 'yaxis',\n",
       " 'yaxis_date',\n",
       " 'yaxis_inverted',\n",
       " 'zorder']"
      ]
     },
     "execution_count": 18,
     "metadata": {},
     "output_type": "execute_result"
    }
   ],
   "source": [
    "dir(ax)"
   ]
  },
  {
   "cell_type": "code",
   "execution_count": null,
   "metadata": {
    "collapsed": true
   },
   "outputs": [],
   "source": []
  },
  {
   "cell_type": "code",
   "execution_count": null,
   "metadata": {
    "collapsed": true
   },
   "outputs": [],
   "source": []
  }
 ],
 "metadata": {
  "kernelspec": {
   "display_name": "Python 2",
   "language": "python",
   "name": "python2"
  },
  "language_info": {
   "codemirror_mode": {
    "name": "ipython",
    "version": 2
   },
   "file_extension": ".py",
   "mimetype": "text/x-python",
   "name": "python",
   "nbconvert_exporter": "python",
   "pygments_lexer": "ipython2",
   "version": "2.7.11"
  }
 },
 "nbformat": 4,
 "nbformat_minor": 0
}
