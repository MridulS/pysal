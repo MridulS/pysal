{
 "cells": [
  {
   "cell_type": "markdown",
   "metadata": {},
   "source": [
    "## Distance Based Statistical Method for Planar Point Patterns\n",
    "\n",
    "**Authors: Serge Rey <sjsrey@gmail.com> and Wei Kang <wkang12@asu.edu>**\n",
    "\n",
    "## Introduction\n",
    "\n",
    "Distance based methods for point patterns are of three types:\n",
    "\n",
    "* [Mean Nearest Neighbor Distance Statistics](#[Mean Nearest Neighbor Distance Statistics)\n",
    "* [Nearest Neighbor Distance Functions](#Nearest-Neighbor-Distance-Functions)\n",
    "* [Interevent Distance Functions](#Interevent-Distance-Functions)\n",
    "\n",
    "In addition, we are going to introduce a computational technique [Simulation Envelopes](#Simulation-Envelopes) to aid the inference. An [example](#CSR-Example) is used to demonstrate how to use and interprete simulation envelopes."
   ]
  },
  {
   "cell_type": "code",
   "execution_count": 1,
   "metadata": {
    "collapsed": false
   },
   "outputs": [],
   "source": [
    "import scipy.spatial\n",
    "import pysal as ps\n",
    "import numpy as np\n",
    "from pointpattern import PointPattern\n",
    "from process import PoissonPointProcess \n",
    "from window import as_window\n",
    "from distance_statistics import G, F, J, K, L\n",
    "from distance_statistics import Genv, Fenv, Jenv, Kenv, Lenv\n",
    "%matplotlib inline\n",
    "import matplotlib.pyplot as plt"
   ]
  },
  {
   "cell_type": "markdown",
   "metadata": {},
   "source": [
    "## Mean Nearest Neighbor Distance Statistics\n",
    "\n",
    "Nearest neighbor(s) for a point $u$ is the point(s) $N(u)$ which meet the condition\n",
    "$$d_{u,N(u)} \\leq d_{u,j} \\forall j \\in S - u$$\n",
    "\n",
    "The distance between the nearest neighbor(s) $N(u)$ and the point $u$ is nearest neighbor distance for $u$. After searching for nearest neighbor(s) for all the points and calculating the corresponding distances, we are able to calculate mean nearest neighbor distance by averaging these distances.\n",
    "\n",
    "It was demonstrated by Clark and Evans(1954) that mean nearest neighbor distance statistics distribution is a normal distribution under null hypothesis (underlying spatial process is CSR). We can utilize the test statistics to determine whether the point pattern is the outcome of CSR. If not, is it the outcome of cluster or regular\n",
    "spatial process?\n",
    "\n",
    "Mean nearest neighbor distance statistic\n",
    "\n",
    "$$\\bar{d}_{min}=\\frac{1}{n} \\sum_{i=1}^n d_{min}(s_i)$$"
   ]
  },
  {
   "cell_type": "code",
   "execution_count": 2,
   "metadata": {
    "collapsed": false
   },
   "outputs": [],
   "source": [
    "points = [[66.22, 32.54], [22.52, 22.39], [31.01, 81.21],\n",
    "          [9.47, 31.02],  [30.78, 60.10], [75.21, 58.93],\n",
    "          [79.26,  7.68], [8.23, 39.93],  [98.73, 77.17],\n",
    "          [89.78, 42.53], [65.19, 92.08], [54.46, 8.48]]\n",
    "pp = PointPattern(points)"
   ]
  },
  {
   "cell_type": "code",
   "execution_count": 3,
   "metadata": {
    "collapsed": false
   },
   "outputs": [
    {
     "name": "stdout",
     "output_type": "stream",
     "text": [
      "Point Pattern\n",
      "12 points\n",
      "Bounding rectangle [(8.23,7.68), (98.73,92.08)]\n",
      "Area of window: 7638.2\n",
      "Intensity estimate for window: 0.00157105077112\n",
      "       x      y\n",
      "0  66.22  32.54\n",
      "1  22.52  22.39\n",
      "2  31.01  81.21\n",
      "3   9.47  31.02\n",
      "4  30.78  60.10\n"
     ]
    }
   ],
   "source": [
    "pp.summary()"
   ]
  },
  {
   "cell_type": "markdown",
   "metadata": {},
   "source": [
    "We may call the method **knn** in PointPattern class to find $k$ nearest neighbors for each point in the point pattern *pp*."
   ]
  },
  {
   "cell_type": "code",
   "execution_count": 4,
   "metadata": {
    "collapsed": false
   },
   "outputs": [
    {
     "data": {
      "text/plain": [
       "(array([[ 9],\n",
       "        [ 3],\n",
       "        [ 4],\n",
       "        [ 7],\n",
       "        [ 2],\n",
       "        [ 9],\n",
       "        [11],\n",
       "        [ 3],\n",
       "        [ 5],\n",
       "        [ 5],\n",
       "        [ 5],\n",
       "        [ 6]]), array([[ 25.59050019],\n",
       "        [ 15.64542745],\n",
       "        [ 21.11125292],\n",
       "        [  8.99587128],\n",
       "        [ 21.11125292],\n",
       "        [ 21.93729473],\n",
       "        [ 24.81289987],\n",
       "        [  8.99587128],\n",
       "        [ 29.76387072],\n",
       "        [ 21.93729473],\n",
       "        [ 34.63124168],\n",
       "        [ 24.81289987]]))"
      ]
     },
     "execution_count": 4,
     "metadata": {},
     "output_type": "execute_result"
    }
   ],
   "source": [
    "# one nearest neighbor (default)\n",
    "pp.knn()"
   ]
  },
  {
   "cell_type": "markdown",
   "metadata": {},
   "source": [
    "The first array is the ids of the most nearest neighbor for each point, the second array is the distance between each point and its  most nearest neighbor."
   ]
  },
  {
   "cell_type": "code",
   "execution_count": 5,
   "metadata": {
    "collapsed": false
   },
   "outputs": [
    {
     "data": {
      "text/plain": [
       "(array([[ 9, 11],\n",
       "        [ 3,  7],\n",
       "        [ 4, 10],\n",
       "        [ 7,  1],\n",
       "        [ 2,  7],\n",
       "        [ 9,  0],\n",
       "        [11,  0],\n",
       "        [ 3,  1],\n",
       "        [ 5,  9],\n",
       "        [ 5,  0],\n",
       "        [ 5,  2],\n",
       "        [ 6,  0]]), array([[ 25.59050019,  26.78023898],\n",
       "        [ 15.64542745,  22.62422816],\n",
       "        [ 21.11125292,  35.86682729],\n",
       "        [  8.99587128,  15.64542745],\n",
       "        [ 21.11125292,  30.2544443 ],\n",
       "        [ 21.93729473,  27.87924317],\n",
       "        [ 24.81289987,  28.07242775],\n",
       "        [  8.99587128,  22.62422816],\n",
       "        [ 29.76387072,  35.77753625],\n",
       "        [ 21.93729473,  25.59050019],\n",
       "        [ 34.63124168,  35.86682729],\n",
       "        [ 24.81289987,  26.78023898]]))"
      ]
     },
     "execution_count": 5,
     "metadata": {},
     "output_type": "execute_result"
    }
   ],
   "source": [
    "# two nearest neighbors\n",
    "pp.knn(2)"
   ]
  },
  {
   "cell_type": "code",
   "execution_count": 6,
   "metadata": {
    "collapsed": false
   },
   "outputs": [
    {
     "data": {
      "text/plain": [
       "34.63124167568931"
      ]
     },
     "execution_count": 6,
     "metadata": {},
     "output_type": "execute_result"
    }
   ],
   "source": [
    "pp.max_nnd # Maximum nearest neighbor distance"
   ]
  },
  {
   "cell_type": "code",
   "execution_count": 7,
   "metadata": {
    "collapsed": false
   },
   "outputs": [
    {
     "data": {
      "text/plain": [
       "8.9958712752017522"
      ]
     },
     "execution_count": 7,
     "metadata": {},
     "output_type": "execute_result"
    }
   ],
   "source": [
    "pp.min_nnd # Minimum nearest neighbor distance"
   ]
  },
  {
   "cell_type": "code",
   "execution_count": 8,
   "metadata": {
    "collapsed": false
   },
   "outputs": [
    {
     "data": {
      "text/plain": [
       "21.612139802089246"
      ]
     },
     "execution_count": 8,
     "metadata": {},
     "output_type": "execute_result"
    }
   ],
   "source": [
    "pp.mean_nnd # mean nearest neighbor distance"
   ]
  },
  {
   "cell_type": "code",
   "execution_count": 9,
   "metadata": {
    "collapsed": false
   },
   "outputs": [
    {
     "data": {
      "text/plain": [
       "array([[ 25.59050019],\n",
       "       [ 15.64542745],\n",
       "       [ 21.11125292],\n",
       "       [  8.99587128],\n",
       "       [ 21.11125292],\n",
       "       [ 21.93729473],\n",
       "       [ 24.81289987],\n",
       "       [  8.99587128],\n",
       "       [ 29.76387072],\n",
       "       [ 21.93729473],\n",
       "       [ 34.63124168],\n",
       "       [ 24.81289987]])"
      ]
     },
     "execution_count": 9,
     "metadata": {},
     "output_type": "execute_result"
    }
   ],
   "source": [
    "pp.nnd # Nearest neighbor distances"
   ]
  },
  {
   "cell_type": "code",
   "execution_count": 10,
   "metadata": {
    "collapsed": false
   },
   "outputs": [
    {
     "data": {
      "text/plain": [
       "21.612139802089246"
      ]
     },
     "execution_count": 10,
     "metadata": {},
     "output_type": "execute_result"
    }
   ],
   "source": [
    "pp.nnd.sum()/pp.n # same as pp.mean_nnd"
   ]
  },
  {
   "cell_type": "code",
   "execution_count": 11,
   "metadata": {
    "collapsed": false
   },
   "outputs": [
    {
     "data": {
      "image/png": "[encoded data removed]",
      "text/plain": [
       "<matplotlib.figure.Figure at 0x103f1e890>"
      ]
     },
     "metadata": {},
     "output_type": "display_data"
    }
   ],
   "source": [
    "pp.plot()"
   ]
  },
  {
   "cell_type": "markdown",
   "metadata": {},
   "source": [
    "## Nearest Neighbor Distance Functions\n",
    "\n",
    "Nearest neighbour distance distribution functions (including the nearest “event-to-event” and “point-event” distance distribution functions) of a point process are cumulative distribution functions of several kinds -- $G, F, J$. By comparing the distance function of the observed point pattern with that of the point pattern from CSR, we are able to infer whether the underlying spatial process of the observed point pattern is CSR or not for a given confidence level."
   ]
  },
  {
   "cell_type": "markdown",
   "metadata": {},
   "source": [
    "#### $G$ function - event-to-event\n",
    "\n",
    "$G$ function is defined as follows: for a given distance $d$, $G(d)$ is the proportion of nearest neighbor distances that are less than $d$.\n",
    "$$G(d) = \\sum_{i=1}^n \\frac{ \\phi_i^d}{n}$$\n",
    "\n",
    "$$ \n",
    "\\phi_i^d =\n",
    " \\begin{cases}\n",
    "    1       & \\quad \\text{if } d_{min}(s_i)<d \\\\\n",
    "    0       & \\quad \\text{otherwise } \\\\\n",
    "  \\end{cases}\n",
    "$$\n",
    "\n",
    "If the underlying point process is a CSR process, $G$ function has an expectionation of:\n",
    "$$\n",
    "G(d) = 1-e(-\\lambda \\pi d^2)\n",
    "$$\n",
    "However, if $G$ function plot is above the expectation this reflects clustering, while departures below expectation reflect dispersion."
   ]
  },
  {
   "cell_type": "code",
   "execution_count": 12,
   "metadata": {
    "collapsed": false
   },
   "outputs": [
    {
     "data": {
      "image/png": "[encoded data removed]",
      "text/plain": [
       "<matplotlib.figure.Figure at 0x1084f9050>"
      ]
     },
     "metadata": {},
     "output_type": "display_data"
    }
   ],
   "source": [
    "gp1 = G(pp, intervals=20)\n",
    "gp1.plot()\n"
   ]
  },
  {
   "cell_type": "code",
   "execution_count": null,
   "metadata": {
    "collapsed": true
   },
   "outputs": [],
   "source": []
  },
  {
   "cell_type": "markdown",
   "metadata": {},
   "source": [
    "It is obvious that the above $G$ increases very slowly at small distances and the line is below the expected value for a CSR process (green dashed line). We might think that the underlying spatial process is regular point process. However, this visual inspection is not enough for a final conclusion.  In [Simulation Envelopes](#Simulation-Envelopes), we are going to demonstrate how to simulate data under CSR many times and construct the $95\\%$ simulation envelope for $G$."
   ]
  },
  {
   "cell_type": "code",
   "execution_count": 13,
   "metadata": {
    "collapsed": false
   },
   "outputs": [
    {
     "data": {
      "text/plain": [
       "array([  0.        ,   1.73156208,   3.46312417,   5.19468625,\n",
       "         6.92624834,   8.65781042,  10.3893725 ,  12.12093459,\n",
       "        13.85249667,  15.58405875,  17.31562084,  19.04718292,\n",
       "        20.77874501,  22.51030709,  24.24186917,  25.97343126,\n",
       "        27.70499334,  29.43655542,  31.16811751,  32.89967959,\n",
       "        34.63124168,  36.36280376])"
      ]
     },
     "execution_count": 13,
     "metadata": {},
     "output_type": "execute_result"
    }
   ],
   "source": [
    "gp1.d # distance domain sequence (corresponding to the x-axis)"
   ]
  },
  {
   "cell_type": "code",
   "execution_count": 14,
   "metadata": {
    "collapsed": false
   },
   "outputs": [
    {
     "data": {
      "text/plain": [
       "array([ 0.        ,  0.        ,  0.        ,  0.        ,  0.        ,\n",
       "        0.        ,  0.16666667,  0.16666667,  0.16666667,  0.16666667,\n",
       "        0.25      ,  0.25      ,  0.25      ,  0.58333333,  0.58333333,\n",
       "        0.83333333,  0.83333333,  0.83333333,  0.91666667,  0.91666667,\n",
       "        1.        ,  1.        ])"
      ]
     },
     "execution_count": 14,
     "metadata": {},
     "output_type": "execute_result"
    }
   ],
   "source": [
    "gp1.G #cumulative nearest neighbor distance distribution over d (corresponding to the y-axis))"
   ]
  },
  {
   "cell_type": "markdown",
   "metadata": {},
   "source": [
    "#### $F$ function - \"point-event\" \n",
    "\n",
    "When the number of events in a point pattern is small, $G$ function is rough (see the $G$ function plot for the 12 size point pattern above). One way to get around this is to turn to $F$ funtion where a given number of randomly distributed points are generated in the domain and the nearest event neighbor distance is calculated for each point. The cumulative distribution of all nearest event neighbor distances is called $F$ function."
   ]
  },
  {
   "cell_type": "code",
   "execution_count": 15,
   "metadata": {
    "collapsed": false
   },
   "outputs": [
    {
     "data": {
      "image/png": "[encoded data removed]",
      "text/plain": [
       "<matplotlib.figure.Figure at 0x103f1e7d0>"
      ]
     },
     "metadata": {},
     "output_type": "display_data"
    }
   ],
   "source": [
    "fp1 = F(pp, intervals=20) # The default is to randomly generate 100 points.\n",
    "fp1.plot()"
   ]
  },
  {
   "cell_type": "markdown",
   "metadata": {},
   "source": [
    "We can increase the number of intervals to make $F$ more smooth."
   ]
  },
  {
   "cell_type": "code",
   "execution_count": 16,
   "metadata": {
    "collapsed": false
   },
   "outputs": [
    {
     "data": {
      "image/png": "[encoded data removed]",
      "text/plain": [
       "<matplotlib.figure.Figure at 0x10b8b62d0>"
      ]
     },
     "metadata": {},
     "output_type": "display_data"
    }
   ],
   "source": [
    "fp1 = F(pp, intervals=50)\n",
    "fp1.plot()"
   ]
  },
  {
   "cell_type": "markdown",
   "metadata": {},
   "source": [
    "$F$ function is more smooth than $G$ function. "
   ]
  },
  {
   "cell_type": "markdown",
   "metadata": {},
   "source": [
    "#### $J$ function - a combination of \"event-event\" and \"point-event\"\n",
    "\n",
    "$J$ function is defined as follows:\n",
    "\n",
    "$$J(d) = \\frac{1-G(d)}{1-F(d)}$$\n",
    "\n",
    "If $J(d)<1$, the underlying point process is a cluster point process; if $J(d)=1$, the underlying point process is a random point process; otherwise, it is a regular point process."
   ]
  },
  {
   "cell_type": "code",
   "execution_count": 17,
   "metadata": {
    "collapsed": false
   },
   "outputs": [
    {
     "data": {
      "image/png": "[encoded data removed]",
      "text/plain": [
       "<matplotlib.figure.Figure at 0x10bb13150>"
      ]
     },
     "metadata": {},
     "output_type": "display_data"
    }
   ],
   "source": [
    "jp1 = J(pp, intervals=20)\n",
    "jp1.plot()"
   ]
  },
  {
   "cell_type": "markdown",
   "metadata": {},
   "source": [
    "From the above figure, we can observe that $J$ function is obviously above the $J(d)=1$ horizontal line. It is approaching infinity with nearest neighbor distance increasing. We might tend to conclude that the underlying point process is a regular one."
   ]
  },
  {
   "cell_type": "markdown",
   "metadata": {},
   "source": [
    "## Interevent Distance Functions\n",
    "\n",
    "Nearest neighbor distance functions consider only the nearest neighbor distances, \"event-event\", \"point-event\" or the combination. Thus, distances to higer order neighbors are ignored, which might reveal important information regarding the point process. Interevent distance functions, including $K$ and $L$ functions, are proposed to consider distances between all pairs of event points. Similar to $G$, $F$ and $J$ functions, $K$ and $L$ functions are also cumulative distribution function.\n",
    "\n",
    "#### $K$ function - \"interevent\"\n",
    "\n",
    "Given distance $d$, $K(d)$ is defined as:\n",
    "$$K(d) = \\frac{\\sum_{i=1}^n \\sum_{j=1}^n \\psi_{ij}(d)}{n \\hat{\\lambda}}$$\n",
    "\n",
    "where\n",
    "$$ \n",
    "\\psi_{ij}(d) =\n",
    " \\begin{cases}\n",
    "    1       & \\quad \\text{if } d_{ij}<d \\\\\n",
    "    0       & \\quad \\text{otherwise } \\\\\n",
    "  \\end{cases}\n",
    "$$\n",
    "\n",
    "$\\sum_{j=1}^n \\psi_{ij}(d)$ is the number of events within a circle of radius $d$ centered on event $s_i$ .\n",
    "\n",
    "Still, we use CSR as the benchmark (null hypothesis) and see how the $K$ funtion estimated from the observed point pattern deviate from that under CSR, which is $K(d)=\\pi d^2$. $K(d)<\\pi d^2$ indicates that the underlying point process is a regular point process. $K(d)>\\pi d^2$ indicates that the underlying point process is a cluster point process. "
   ]
  },
  {
   "cell_type": "code",
   "execution_count": 18,
   "metadata": {
    "collapsed": false
   },
   "outputs": [
    {
     "data": {
      "image/png": "[encoded data removed]",
      "text/plain": [
       "<matplotlib.figure.Figure at 0x10be95210>"
      ]
     },
     "metadata": {},
     "output_type": "display_data"
    }
   ],
   "source": [
    "kp1 = K(pp)\n",
    "kp1.plot()"
   ]
  },
  {
   "cell_type": "markdown",
   "metadata": {},
   "source": [
    "#### $L$ function - \"interevent\"\n",
    "\n",
    "$L$ function is a scaled version of $K$ function, defined as:\n",
    "$$L(d) = \\sqrt{\\frac{K(d)}{\\pi}}-d$$"
   ]
  },
  {
   "cell_type": "code",
   "execution_count": null,
   "metadata": {
    "collapsed": false
   },
   "outputs": [],
   "source": [
    "lp1 = L(pp)\n",
    "lp1.plot()"
   ]
  },
  {
   "cell_type": "markdown",
   "metadata": {},
   "source": [
    "## Simulation Envelopes\n",
    "\n",
    "[Simulation envelope](http://www.esajournals.org/doi/pdf/10.1890/13-2042.1) is a computer intensive technique for inferring whether an observed pattern significantly deviates from what would be expected under a specific process. Here, we always use CSR as the benchmark. In order to construct a simulation envelope for a given function, we need to simulate CSR a lot of times, say $1000$ times. Then, we can calculate the function for each simulated point pattern. For every distance $d$, we sort the function values of the $1000$ simulated point patterns. Given a confidence level, say $95\\%$, we can acquire the $25$th and $975$th value for every distance $d$. Thus, a simulation envelope is constructed. "
   ]
  },
  {
   "cell_type": "markdown",
   "metadata": {},
   "source": [
    "#### Simulation Envelope for G function\n",
    "\n",
    "**Genv** class in pysal."
   ]
  },
  {
   "cell_type": "code",
   "execution_count": null,
   "metadata": {
    "collapsed": false
   },
   "outputs": [],
   "source": [
    "realizations = PoissonPointProcess(pp.window, pp.n, 100, asPP=True) # simulate CSR 100 times\n",
    "genv = Genv(pp, intervals=20, realizations=realizations) # call Genv to generate simulation envelope\n",
    "genv"
   ]
  },
  {
   "cell_type": "code",
   "execution_count": null,
   "metadata": {
    "collapsed": false
   },
   "outputs": [],
   "source": [
    "genv.observed "
   ]
  },
  {
   "cell_type": "code",
   "execution_count": null,
   "metadata": {
    "collapsed": false
   },
   "outputs": [],
   "source": [
    "genv.plot()"
   ]
  },
  {
   "cell_type": "markdown",
   "metadata": {},
   "source": [
    "In the above figure, **LB** and **UB** comprise the simulation envelope. **CSR** is the mean function calculated from the simulated data. **G** is the function estimated from the observed point pattern. It is well below the simulation envelope. We can infer that the underlying point process is a regular one."
   ]
  },
  {
   "cell_type": "markdown",
   "metadata": {},
   "source": [
    "#### Simulation Envelope for F function\n",
    "\n",
    "**Fenv** class in pysal."
   ]
  },
  {
   "cell_type": "code",
   "execution_count": null,
   "metadata": {
    "collapsed": false
   },
   "outputs": [],
   "source": [
    "fenv = Fenv(pp, intervals=20, realizations=realizations)\n",
    "fenv.plot()"
   ]
  },
  {
   "cell_type": "markdown",
   "metadata": {},
   "source": [
    "#### Simulation Envelope for J function\n",
    "\n",
    "**Jenv** class in pysal."
   ]
  },
  {
   "cell_type": "code",
   "execution_count": null,
   "metadata": {
    "collapsed": false
   },
   "outputs": [],
   "source": [
    "jenv = Jenv(pp, intervals=20, realizations=realizations)\n",
    "jenv.plot()"
   ]
  },
  {
   "cell_type": "markdown",
   "metadata": {},
   "source": [
    "#### Simulation Envelope for K function\n",
    "\n",
    "**Kenv** class in pysal."
   ]
  },
  {
   "cell_type": "code",
   "execution_count": null,
   "metadata": {
    "collapsed": false
   },
   "outputs": [],
   "source": [
    "kenv = Kenv(pp, intervals=20, realizations=realizations)\n",
    "kenv.plot()"
   ]
  },
  {
   "cell_type": "markdown",
   "metadata": {},
   "source": [
    "#### Simulation Envelope for L function\n",
    "\n",
    "**Lenv** class in pysal."
   ]
  },
  {
   "cell_type": "code",
   "execution_count": null,
   "metadata": {
    "collapsed": false
   },
   "outputs": [],
   "source": [
    "lenv = Lenv(pp, intervals=20, realizations=realizations)\n",
    "lenv.plot()"
   ]
  },
  {
   "cell_type": "markdown",
   "metadata": {},
   "source": [
    "## CSR Example\n",
    "In this example, we are going to generate a point pattern as the \"observed\" point pattern. The data generating process is CSR. Then, we will simulate CSR in the same domain for 100 times and construct a simulation envelope for each function."
   ]
  },
  {
   "cell_type": "code",
   "execution_count": null,
   "metadata": {
    "collapsed": true
   },
   "outputs": [],
   "source": [
    "from pysal.contrib import shapely_ext\n",
    "from window import Window\n",
    "va = ps.open(ps.examples.get_path(\"vautm17n.shp\"))\n",
    "polys = [shp for shp in va]\n",
    "state = shapely_ext.cascaded_union(polys)"
   ]
  },
  {
   "cell_type": "markdown",
   "metadata": {},
   "source": [
    "Generate the point pattern **pp** (size 100) from CSR as the \"observed\" point pattern."
   ]
  },
  {
   "cell_type": "code",
   "execution_count": null,
   "metadata": {
    "collapsed": false
   },
   "outputs": [],
   "source": [
    "a = [[1],[1,2]]\n",
    "np.asarray(a)"
   ]
  },
  {
   "cell_type": "code",
   "execution_count": null,
   "metadata": {
    "collapsed": false
   },
   "outputs": [],
   "source": [
    "n = 100\n",
    "samples = 1\n",
    "pp = PoissonPointProcess(Window(state.parts), n, samples, asPP=True)\n",
    "pp.realizations[0]"
   ]
  },
  {
   "cell_type": "code",
   "execution_count": null,
   "metadata": {
    "collapsed": false
   },
   "outputs": [],
   "source": [
    "pp.n"
   ]
  },
  {
   "cell_type": "markdown",
   "metadata": {},
   "source": [
    "Simulate CSR in the same domian for 100 times which would be used for constructing simulation envelope under the null hypothesis of CSR."
   ]
  },
  {
   "cell_type": "code",
   "execution_count": null,
   "metadata": {
    "collapsed": false
   },
   "outputs": [],
   "source": [
    "csrs = PoissonPointProcess(pp.window, 100, 100, asPP=True)\n",
    "csrs"
   ]
  },
  {
   "cell_type": "markdown",
   "metadata": {},
   "source": [
    "Construct the simulation envelope for $G$ function."
   ]
  },
  {
   "cell_type": "code",
   "execution_count": null,
   "metadata": {
    "collapsed": false
   },
   "outputs": [],
   "source": [
    "genv = Genv(pp.realizations[0], realizations=csrs)\n",
    "genv.plot()"
   ]
  },
  {
   "cell_type": "markdown",
   "metadata": {},
   "source": [
    "Since the \"observed\" $G$ is well contained by the simulation envelope, we infer that the underlying point process is a random process."
   ]
  },
  {
   "cell_type": "code",
   "execution_count": null,
   "metadata": {
    "collapsed": false
   },
   "outputs": [],
   "source": [
    "genv.low # lower bound of the simulation envelope for G"
   ]
  },
  {
   "cell_type": "code",
   "execution_count": null,
   "metadata": {
    "collapsed": false
   },
   "outputs": [],
   "source": [
    "genv.high # higher bound of the simulation envelope for G"
   ]
  },
  {
   "cell_type": "markdown",
   "metadata": {},
   "source": [
    "Construct the simulation envelope for $F$ function."
   ]
  },
  {
   "cell_type": "code",
   "execution_count": null,
   "metadata": {
    "collapsed": false
   },
   "outputs": [],
   "source": [
    "fenv = Fenv(pp.realizations[0], realizations=csrs)\n",
    "fenv.plot()"
   ]
  },
  {
   "cell_type": "markdown",
   "metadata": {},
   "source": [
    "Construct the simulation envelope for $J$ function."
   ]
  },
  {
   "cell_type": "code",
   "execution_count": null,
   "metadata": {
    "collapsed": false
   },
   "outputs": [],
   "source": [
    "jenv = Jenv(pp.realizations[0], realizations=csrs)\n",
    "jenv.plot()"
   ]
  },
  {
   "cell_type": "markdown",
   "metadata": {},
   "source": [
    "Construct the simulation envelope for $K$ function."
   ]
  },
  {
   "cell_type": "code",
   "execution_count": null,
   "metadata": {
    "collapsed": false
   },
   "outputs": [],
   "source": [
    "kenv = Kenv(pp.realizations[0], realizations=csrs)\n",
    "kenv.plot()"
   ]
  },
  {
   "cell_type": "markdown",
   "metadata": {},
   "source": [
    "Construct the simulation envelope for $L$ function."
   ]
  },
  {
   "cell_type": "code",
   "execution_count": null,
   "metadata": {
    "collapsed": false
   },
   "outputs": [],
   "source": [
    "lenv = Lenv(pp.realizations[0], realizations=csrs)\n",
    "lenv.plot()"
   ]
  },
  {
   "cell_type": "code",
   "execution_count": null,
   "metadata": {
    "collapsed": true
   },
   "outputs": [],
   "source": []
  }
 ],
 "metadata": {
  "kernelspec": {
   "display_name": "Python 2",
   "language": "python",
   "name": "python2"
  },
  "language_info": {
   "codemirror_mode": {
    "name": "ipython",
    "version": 2
   },
   "file_extension": ".py",
   "mimetype": "text/x-python",
   "name": "python",
   "nbconvert_exporter": "python",
   "pygments_lexer": "ipython2",
   "version": "2.7.11"
  }
 },
 "nbformat": 4,
 "nbformat_minor": 0
}
