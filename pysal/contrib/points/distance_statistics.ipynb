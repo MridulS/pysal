{
 "cells": [
  {
   "cell_type": "code",
   "execution_count": 1,
   "metadata": {
    "collapsed": false
   },
   "outputs": [],
   "source": [
    "import scipy.spatial\n",
    "import pysal as ps\n",
    "import numpy as np\n",
    "from pointpattern import PointPattern\n",
    "from process import PoissonPointProcess as csr\n",
    "from window import as_window\n",
    "%matplotlib inline\n",
    "import matplotlib.pyplot as plt\n",
    "from distance_statistics import G, g, g_envelopes, f, f_envelopes, j, j_envelopes\n",
    "from distance_statistics import Genv, Fenv"
   ]
  },
  {
   "cell_type": "code",
   "execution_count": 2,
   "metadata": {
    "collapsed": false
   },
   "outputs": [],
   "source": [
    "points = [[66.22, 32.54], [22.52, 22.39], [31.01, 81.21], [9.47, 31.02],\n",
    "               [30.78, 60.10], [75.21, 58.93], [79.26,  7.68], [8.23, 39.93],\n",
    "               [98.73, 80.53], [89.78, 42.53], [65.19, 92.08], [54.46, 8.48]]\n",
    "p1 = PointPattern(points)"
   ]
  },
  {
   "cell_type": "code",
   "execution_count": 3,
   "metadata": {
    "collapsed": false
   },
   "outputs": [
    {
     "name": "stdout",
     "output_type": "stream",
     "text": [
      "Point Pattern\n",
      "12 points\n",
      "Bounding rectangle [(8.23,7.68), (98.73,92.08)]\n",
      "Area of window: 7638.2\n",
      "Intensity estimate for window: 0.00157105077112\n"
     ]
    }
   ],
   "source": [
    "p1.summary()"
   ]
  },
  {
   "cell_type": "code",
   "execution_count": 4,
   "metadata": {
    "collapsed": false
   },
   "outputs": [
    {
     "data": {
      "text/plain": [
       "<matplotlib.text.Text at 0x100735110>"
      ]
     },
     "execution_count": 4,
     "metadata": {},
     "output_type": "execute_result"
    },
    {
     "data": {
      "image/png": "[encoded data removed]",
      "text/plain": [
       "<matplotlib.figure.Figure at 0x109c6dc10>"
      ]
     },
     "metadata": {},
     "output_type": "display_data"
    }
   ],
   "source": [
    "gp1 = g(p1, intervals=20)\n",
    "plt.plot(gp1[:,0], gp1[:,1])\n",
    "plt.title(\"Nearest neighbor G function\")\n",
    "plt.ylabel(\"G(d)\")\n",
    "plt.xlabel(\"d\")"
   ]
  },
  {
   "cell_type": "code",
   "execution_count": 5,
   "metadata": {
    "collapsed": false
   },
   "outputs": [
    {
     "data": {
      "image/png": "[encoded data removed]",
      "text/plain": [
       "<matplotlib.figure.Figure at 0x109d58150>"
      ]
     },
     "metadata": {},
     "output_type": "display_data"
    }
   ],
   "source": [
    "gp1 = G(p1, intervals=20)\n",
    "gp1.plot()"
   ]
  },
  {
   "cell_type": "code",
   "execution_count": 6,
   "metadata": {
    "collapsed": false
   },
   "outputs": [
    {
     "data": {
      "text/plain": [
       "array([  0.        ,   1.73156208,   3.46312417,   5.19468625,\n",
       "         6.92624834,   8.65781042,  10.3893725 ,  12.12093459,\n",
       "        13.85249667,  15.58405875,  17.31562084,  19.04718292,\n",
       "        20.77874501,  22.51030709,  24.24186917,  25.97343126,\n",
       "        27.70499334,  29.43655542,  31.16811751,  32.89967959,\n",
       "        34.63124168,  36.36280376])"
      ]
     },
     "execution_count": 6,
     "metadata": {},
     "output_type": "execute_result"
    }
   ],
   "source": [
    "gp1.d"
   ]
  },
  {
   "cell_type": "code",
   "execution_count": 7,
   "metadata": {
    "collapsed": false
   },
   "outputs": [],
   "source": [
    "realizations = csr(p1.window, p1.n, 100, asPP=True)\n",
    "genv = Genv(p1, intervals=20, realizations=realizations)"
   ]
  },
  {
   "cell_type": "code",
   "execution_count": 8,
   "metadata": {
    "collapsed": false
   },
   "outputs": [
    {
     "data": {
      "text/plain": [
       "array([[  0.        ,   0.        ],\n",
       "       [  1.73156208,   0.        ],\n",
       "       [  3.46312417,   0.        ],\n",
       "       [  5.19468625,   0.        ],\n",
       "       [  6.92624834,   0.        ],\n",
       "       [  8.65781042,   0.        ],\n",
       "       [ 10.3893725 ,   0.16666667],\n",
       "       [ 12.12093459,   0.16666667],\n",
       "       [ 13.85249667,   0.16666667],\n",
       "       [ 15.58405875,   0.16666667],\n",
       "       [ 17.31562084,   0.25      ],\n",
       "       [ 19.04718292,   0.25      ],\n",
       "       [ 20.77874501,   0.25      ],\n",
       "       [ 22.51030709,   0.58333333],\n",
       "       [ 24.24186917,   0.58333333],\n",
       "       [ 25.97343126,   0.83333333],\n",
       "       [ 27.70499334,   0.83333333],\n",
       "       [ 29.43655542,   0.83333333],\n",
       "       [ 31.16811751,   0.83333333],\n",
       "       [ 32.89967959,   0.91666667],\n",
       "       [ 34.63124168,   1.        ],\n",
       "       [ 36.36280376,   1.        ]])"
      ]
     },
     "execution_count": 8,
     "metadata": {},
     "output_type": "execute_result"
    }
   ],
   "source": [
    "genv.observed"
   ]
  },
  {
   "cell_type": "code",
   "execution_count": 9,
   "metadata": {
    "collapsed": false
   },
   "outputs": [
    {
     "data": {
      "image/png": "[encoded data removed]",
      "text/plain": [
       "<matplotlib.figure.Figure at 0x109f2f950>"
      ]
     },
     "metadata": {},
     "output_type": "display_data"
    }
   ],
   "source": [
    "genv.plot()"
   ]
  },
  {
   "cell_type": "code",
   "execution_count": 10,
   "metadata": {
    "collapsed": false
   },
   "outputs": [
    {
     "data": {
      "image/png": "[encoded data removed]",
      "text/plain": [
       "<matplotlib.figure.Figure at 0x10b03a310>"
      ]
     },
     "metadata": {},
     "output_type": "display_data"
    }
   ],
   "source": [
    "fenv = Fenv(p1, intervals=20, realizations=realizations)\n",
    "fenv.plot()"
   ]
  },
  {
   "cell_type": "code",
   "execution_count": 11,
   "metadata": {
    "collapsed": false
   },
   "outputs": [
    {
     "name": "stdout",
     "output_type": "stream",
     "text": [
      "0\n",
      "1\n",
      "2\n",
      "3\n",
      "4\n",
      "5\n",
      "6\n",
      "7\n",
      "8\n",
      "9\n",
      "10\n",
      "11\n",
      "12\n",
      "13\n",
      "14\n",
      "15\n",
      "16\n",
      "17\n",
      "18\n",
      "19\n",
      "20\n",
      "21\n",
      "22\n",
      "23\n",
      "24\n",
      "25\n",
      "26\n",
      "27\n",
      "28\n",
      "29\n",
      "30\n",
      "31\n",
      "32\n",
      "33\n",
      "34\n",
      "35\n",
      "36\n",
      "37\n",
      "38\n",
      "39\n",
      "40\n",
      "41\n",
      "42\n",
      "43\n",
      "44\n",
      "45\n",
      "46\n",
      "47\n",
      "48\n",
      "49\n",
      "50\n",
      "51\n",
      "52\n",
      "53\n",
      "54\n",
      "55\n",
      "56\n",
      "57\n",
      "58\n",
      "59\n",
      "60\n",
      "61\n",
      "62\n",
      "63\n",
      "64\n",
      "65\n",
      "66\n",
      "67\n",
      "68\n",
      "69\n",
      "70\n",
      "71\n",
      "72\n",
      "73\n",
      "74\n",
      "75\n",
      "76\n",
      "77\n",
      "78\n",
      "79\n",
      "80\n",
      "81\n",
      "82\n",
      "83\n",
      "84\n",
      "85\n",
      "86\n",
      "87\n",
      "88\n",
      "89\n",
      "90\n",
      "91\n",
      "92\n",
      "93\n",
      "94\n",
      "95\n",
      "96\n",
      "97\n",
      "98\n",
      "99\n"
     ]
    },
    {
     "data": {
      "text/plain": [
       "{0: <pointpattern.PointPattern at 0x109d981d0>,\n",
       " 1: <pointpattern.PointPattern at 0x109c87490>,\n",
       " 2: <pointpattern.PointPattern at 0x109c87450>,\n",
       " 3: <pointpattern.PointPattern at 0x109f3a850>,\n",
       " 4: <pointpattern.PointPattern at 0x109f93650>,\n",
       " 5: <pointpattern.PointPattern at 0x109f93450>,\n",
       " 6: <pointpattern.PointPattern at 0x109f93810>,\n",
       " 7: <pointpattern.PointPattern at 0x109f937d0>,\n",
       " 8: <pointpattern.PointPattern at 0x109f93090>,\n",
       " 9: <pointpattern.PointPattern at 0x109f930d0>,\n",
       " 10: <pointpattern.PointPattern at 0x109f93750>,\n",
       " 11: <pointpattern.PointPattern at 0x109f93690>,\n",
       " 12: <pointpattern.PointPattern at 0x109cf2d50>,\n",
       " 13: <pointpattern.PointPattern at 0x109cf2650>,\n",
       " 14: <pointpattern.PointPattern at 0x109cf2e90>,\n",
       " 15: <pointpattern.PointPattern at 0x109cf2450>,\n",
       " 16: <pointpattern.PointPattern at 0x109cf2050>,\n",
       " 17: <pointpattern.PointPattern at 0x109cf2c50>,\n",
       " 18: <pointpattern.PointPattern at 0x109cf2f90>,\n",
       " 19: <pointpattern.PointPattern at 0x109cf28d0>,\n",
       " 20: <pointpattern.PointPattern at 0x109cff650>,\n",
       " 21: <pointpattern.PointPattern at 0x109c6db90>,\n",
       " 22: <pointpattern.PointPattern at 0x109c6db50>,\n",
       " 23: <pointpattern.PointPattern at 0x109c6d390>,\n",
       " 24: <pointpattern.PointPattern at 0x109c6d650>,\n",
       " 25: <pointpattern.PointPattern at 0x109c6d8d0>,\n",
       " 26: <pointpattern.PointPattern at 0x109c6dbd0>,\n",
       " 27: <pointpattern.PointPattern at 0x109c6dd10>,\n",
       " 28: <pointpattern.PointPattern at 0x109c6d9d0>,\n",
       " 29: <pointpattern.PointPattern at 0x10494d8d0>,\n",
       " 30: <pointpattern.PointPattern at 0x10494d410>,\n",
       " 31: <pointpattern.PointPattern at 0x10494d6d0>,\n",
       " 32: <pointpattern.PointPattern at 0x10494dfd0>,\n",
       " 33: <pointpattern.PointPattern at 0x10494dd90>,\n",
       " 34: <pointpattern.PointPattern at 0x109cdcb50>,\n",
       " 35: <pointpattern.PointPattern at 0x109cdc790>,\n",
       " 36: <pointpattern.PointPattern at 0x10495e4d0>,\n",
       " 37: <pointpattern.PointPattern at 0x10495e0d0>,\n",
       " 38: <pointpattern.PointPattern at 0x109d20ed0>,\n",
       " 39: <pointpattern.PointPattern at 0x109d76510>,\n",
       " 40: <pointpattern.PointPattern at 0x109d76610>,\n",
       " 41: <pointpattern.PointPattern at 0x109d76190>,\n",
       " 42: <pointpattern.PointPattern at 0x109d76250>,\n",
       " 43: <pointpattern.PointPattern at 0x109d761d0>,\n",
       " 44: <pointpattern.PointPattern at 0x109d76390>,\n",
       " 45: <pointpattern.PointPattern at 0x109d76290>,\n",
       " 46: <pointpattern.PointPattern at 0x109c93310>,\n",
       " 47: <pointpattern.PointPattern at 0x109c934d0>,\n",
       " 48: <pointpattern.PointPattern at 0x109d625d0>,\n",
       " 49: <pointpattern.PointPattern at 0x109d62cd0>,\n",
       " 50: <pointpattern.PointPattern at 0x109d62f10>,\n",
       " 51: <pointpattern.PointPattern at 0x109d62190>,\n",
       " 52: <pointpattern.PointPattern at 0x109d62090>,\n",
       " 53: <pointpattern.PointPattern at 0x109d628d0>,\n",
       " 54: <pointpattern.PointPattern at 0x109d62750>,\n",
       " 55: <pointpattern.PointPattern at 0x109d627d0>,\n",
       " 56: <pointpattern.PointPattern at 0x109d62590>,\n",
       " 57: <pointpattern.PointPattern at 0x109d42f90>,\n",
       " 58: <pointpattern.PointPattern at 0x109d42250>,\n",
       " 59: <pointpattern.PointPattern at 0x109d420d0>,\n",
       " 60: <pointpattern.PointPattern at 0x109d424d0>,\n",
       " 61: <pointpattern.PointPattern at 0x109da1950>,\n",
       " 62: <pointpattern.PointPattern at 0x109da19d0>,\n",
       " 63: <pointpattern.PointPattern at 0x109da1a50>,\n",
       " 64: <pointpattern.PointPattern at 0x109da1190>,\n",
       " 65: <pointpattern.PointPattern at 0x109da1ad0>,\n",
       " 66: <pointpattern.PointPattern at 0x109da1210>,\n",
       " 67: <pointpattern.PointPattern at 0x109da1990>,\n",
       " 68: <pointpattern.PointPattern at 0x109fd1f10>,\n",
       " 69: <pointpattern.PointPattern at 0x109fd1ed0>,\n",
       " 70: <pointpattern.PointPattern at 0x109fd1c90>,\n",
       " 71: <pointpattern.PointPattern at 0x109dad590>,\n",
       " 72: <pointpattern.PointPattern at 0x109dada90>,\n",
       " 73: <pointpattern.PointPattern at 0x109dada50>,\n",
       " 74: <pointpattern.PointPattern at 0x109dadb90>,\n",
       " 75: <pointpattern.PointPattern at 0x109daddd0>,\n",
       " 76: <pointpattern.PointPattern at 0x109f25e10>,\n",
       " 77: <pointpattern.PointPattern at 0x109f25fd0>,\n",
       " 78: <pointpattern.PointPattern at 0x109f25d10>,\n",
       " 79: <pointpattern.PointPattern at 0x109f25710>,\n",
       " 80: <pointpattern.PointPattern at 0x109f259d0>,\n",
       " 81: <pointpattern.PointPattern at 0x109f25810>,\n",
       " 82: <pointpattern.PointPattern at 0x109f258d0>,\n",
       " 83: <pointpattern.PointPattern at 0x109f25750>,\n",
       " 84: <pointpattern.PointPattern at 0x109f25910>,\n",
       " 85: <pointpattern.PointPattern at 0x109f25590>,\n",
       " 86: <pointpattern.PointPattern at 0x109f25bd0>,\n",
       " 87: <pointpattern.PointPattern at 0x109f25e50>,\n",
       " 88: <pointpattern.PointPattern at 0x109f86450>,\n",
       " 89: <pointpattern.PointPattern at 0x109f863d0>,\n",
       " 90: <pointpattern.PointPattern at 0x109f86fd0>,\n",
       " 91: <pointpattern.PointPattern at 0x109f86ed0>,\n",
       " 92: <pointpattern.PointPattern at 0x109f86f50>,\n",
       " 93: <pointpattern.PointPattern at 0x109f86d50>,\n",
       " 94: <pointpattern.PointPattern at 0x109f86d90>,\n",
       " 95: <pointpattern.PointPattern at 0x109f86850>,\n",
       " 96: <pointpattern.PointPattern at 0x109f868d0>,\n",
       " 97: <pointpattern.PointPattern at 0x109f86910>,\n",
       " 98: <pointpattern.PointPattern at 0x109f86150>,\n",
       " 99: <pointpattern.PointPattern at 0x109f867d0>}"
      ]
     },
     "execution_count": 11,
     "metadata": {},
     "output_type": "execute_result"
    }
   ],
   "source": [
    "for real in realizations.realizations:\n",
    "    print real\n",
    "realizations.realizations"
   ]
  },
  {
   "cell_type": "code",
   "execution_count": 12,
   "metadata": {
    "collapsed": false
   },
   "outputs": [],
   "source": [
    "g??"
   ]
  },
  {
   "cell_type": "code",
   "execution_count": 13,
   "metadata": {
    "collapsed": false
   },
   "outputs": [],
   "source": [
    "fenv = Fenv(p1, intervals=20, realizations=realizations)"
   ]
  },
  {
   "cell_type": "code",
   "execution_count": 14,
   "metadata": {
    "collapsed": false
   },
   "outputs": [
    {
     "ename": "AttributeError",
     "evalue": "'Fenv' object has no attribute 'obs'",
     "output_type": "error",
     "traceback": [
      "\u001b[0;31m---------------------------------------------------------------------------\u001b[0m",
      "\u001b[0;31mAttributeError\u001b[0m                            Traceback (most recent call last)",
      "\u001b[0;32m<ipython-input-14-0b168736c9aa>\u001b[0m in \u001b[0;36m<module>\u001b[0;34m()\u001b[0m\n\u001b[0;32m----> 1\u001b[0;31m \u001b[0mfenv\u001b[0m\u001b[0;34m.\u001b[0m\u001b[0mobs\u001b[0m\u001b[0;34m\u001b[0m\u001b[0m\n\u001b[0m",
      "\u001b[0;31mAttributeError\u001b[0m: 'Fenv' object has no attribute 'obs'"
     ]
    }
   ],
   "source": [
    "fenv.obs"
   ]
  },
  {
   "cell_type": "code",
   "execution_count": null,
   "metadata": {
    "collapsed": false
   },
   "outputs": [],
   "source": [
    "fp1 = f(p1, intervals=20)\n",
    "plt.plot(fp1[:,0], fp1[:,1])\n",
    "plt.title(\"Empty Space F function\")\n",
    "plt.ylabel(\"F(d)\")\n",
    "plt.xlabel(\"d\")"
   ]
  },
  {
   "cell_type": "code",
   "execution_count": null,
   "metadata": {
    "collapsed": false
   },
   "outputs": [],
   "source": [
    "jp1 = j(p1, intervals=20)\n",
    "plt.plot(jp1[:,0], jp1[:,1])\n",
    "plt.title(\"J function\")\n",
    "plt.ylabel(\"J(d)\")\n",
    "plt.xlabel(\"d\")\n",
    "plt.plot(jp1[:,0], jp1[:,1])"
   ]
  },
  {
   "cell_type": "code",
   "execution_count": null,
   "metadata": {
    "collapsed": false
   },
   "outputs": [],
   "source": [
    "sim = g_envelopes(p1, intervals=20, reps=100)\n",
    "gs, x, fobs, mean, low, high = sim\n",
    "plt.plot(x, fobs, label='G')\n",
    "plt.plot(x, mean, 'g-.', label='CSR')\n",
    "plt.plot(x, low, 'r-.', label='LB')\n",
    "plt.plot(x, high, 'r-.', label=\"UB\")\n",
    "plt.ylabel(\"G(d)\")\n",
    "plt.xlabel('d')\n",
    "plt.title('G Simulation Envelopes')\n",
    "plt.legend(loc=0)"
   ]
  },
  {
   "cell_type": "code",
   "execution_count": null,
   "metadata": {
    "collapsed": false
   },
   "outputs": [],
   "source": [
    "sim = f_envelopes(p1, intervals=20, reps=100)\n",
    "fs, x, fobs, mean, low, high = sim\n",
    "plt.plot(x, fobs, label='F')\n",
    "plt.plot(x, mean, 'g-.', label='CSR')\n",
    "plt.plot(x, low, 'r-.', label='LB')\n",
    "plt.plot(x, high, 'r-.', label=\"UB\")\n",
    "plt.ylabel(\"F(d)\")\n",
    "plt.xlabel('d')\n",
    "plt.title('F Simulation Envelopes')\n",
    "plt.legend(loc=0)"
   ]
  },
  {
   "cell_type": "code",
   "execution_count": null,
   "metadata": {
    "collapsed": false
   },
   "outputs": [],
   "source": [
    "sim = j_envelopes(p1, intervals=20, reps=100)\n",
    "js, x, jobs, mean, low, high = sim\n",
    "plt.plot(x, jobs, label='J')\n",
    "plt.plot(x, mean, 'g-.', label='CSR')\n",
    "plt.plot(x, low, 'r-.', label='LB')\n",
    "plt.plot(x, high, 'r-.', label=\"UB\")\n",
    "plt.ylabel(\"J(d)\")\n",
    "plt.xlabel('d')\n",
    "plt.title('J Simulation Envelopes')\n",
    "plt.legend(loc=0)"
   ]
  },
  {
   "cell_type": "code",
   "execution_count": null,
   "metadata": {
    "collapsed": true
   },
   "outputs": [],
   "source": [
    "from pysal.contrib import shapely_ext\n",
    "va = ps.open(ps.examples.get_path(\"virginia.shp\"))\n",
    "polys = [shp for shp in va]\n",
    "vapnts = ps.open(ps.examples.get_path(\"vapoints.shp\"))\n",
    "points = [shp for shp in vapnts]\n",
    "state = shapely_ext.cascaded_union(polys)"
   ]
  },
  {
   "cell_type": "code",
   "execution_count": null,
   "metadata": {
    "collapsed": true
   },
   "outputs": [],
   "source": [
    "vpp = PointPattern(vapnts)"
   ]
  },
  {
   "cell_type": "code",
   "execution_count": null,
   "metadata": {
    "collapsed": true
   },
   "outputs": [],
   "source": [
    "gvpp = g(vpp)"
   ]
  },
  {
   "cell_type": "code",
   "execution_count": null,
   "metadata": {
    "collapsed": false
   },
   "outputs": [],
   "source": [
    "gvpp"
   ]
  },
  {
   "cell_type": "code",
   "execution_count": null,
   "metadata": {
    "collapsed": true
   },
   "outputs": [],
   "source": [
    "gevpp = g_envelopes(vpp)"
   ]
  },
  {
   "cell_type": "code",
   "execution_count": null,
   "metadata": {
    "collapsed": false
   },
   "outputs": [],
   "source": [
    "gs, x, gobs, mean, low, high = gevpp\n",
    "plt.plot(x, gobs)\n",
    "plt.plot(x, mean, 'g-.')\n",
    "plt.plot(x, low, 'r-.')\n",
    "plt.plot(x, high, 'r-.')"
   ]
  },
  {
   "cell_type": "code",
   "execution_count": null,
   "metadata": {
    "collapsed": true
   },
   "outputs": [],
   "source": [
    "vppw = PointPattern(vapnts, window = as_window(state))"
   ]
  },
  {
   "cell_type": "code",
   "execution_count": null,
   "metadata": {
    "collapsed": true
   },
   "outputs": [],
   "source": [
    "gevppw = g_envelopes(vppw)"
   ]
  },
  {
   "cell_type": "code",
   "execution_count": null,
   "metadata": {
    "collapsed": false
   },
   "outputs": [],
   "source": [
    "gs, x, gobs, mean, low, high = gevppw\n",
    "plt.plot(x, gobs)\n",
    "plt.plot(x, mean, 'g-.')\n",
    "plt.plot(x, low, 'r-.')\n",
    "plt.plot(x, high, 'r-.')"
   ]
  },
  {
   "cell_type": "code",
   "execution_count": null,
   "metadata": {
    "collapsed": true
   },
   "outputs": [],
   "source": [
    "gevppw = g_envelopes(vppw, reps=50)"
   ]
  },
  {
   "cell_type": "code",
   "execution_count": null,
   "metadata": {
    "collapsed": false
   },
   "outputs": [],
   "source": [
    "gs, x, gobs, mean, low, high = gevppw\n",
    "plt.plot(x, gobs)\n",
    "plt.plot(x, mean, 'g-.')\n",
    "plt.plot(x, low, 'r-.')\n",
    "plt.plot(x, high, 'r-.')"
   ]
  },
  {
   "cell_type": "code",
   "execution_count": null,
   "metadata": {
    "collapsed": true
   },
   "outputs": [],
   "source": []
  }
 ],
 "metadata": {
  "kernelspec": {
   "display_name": "Python 2",
   "language": "python",
   "name": "python2"
  },
  "language_info": {
   "codemirror_mode": {
    "name": "ipython",
    "version": 2
   },
   "file_extension": ".py",
   "mimetype": "text/x-python",
   "name": "python",
   "nbconvert_exporter": "python",
   "pygments_lexer": "ipython2",
   "version": "2.7.11"
  }
 },
 "nbformat": 4,
 "nbformat_minor": 0
}
