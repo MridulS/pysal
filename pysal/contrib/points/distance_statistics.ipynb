{
 "cells": [
  {
   "cell_type": "code",
   "execution_count": 1,
   "metadata": {
    "collapsed": false
   },
   "outputs": [],
   "source": [
    "import scipy.spatial\n",
    "import pysal as ps\n",
    "import numpy as np\n",
    "from pointpattern import PointPattern\n",
    "from process import PoissonPointProcess as csr\n",
    "from window import as_window\n",
    "%matplotlib inline\n",
    "import matplotlib.pyplot as plt\n",
    "from distance_statistics import g, g_envelopes, f, f_envelopes, j, j_envelopes\n",
    "from distance_statistics import Genv, Fenv"
   ]
  },
  {
   "cell_type": "code",
   "execution_count": 2,
   "metadata": {
    "collapsed": false
   },
   "outputs": [],
   "source": [
    "points = [[66.22, 32.54], [22.52, 22.39], [31.01, 81.21], [9.47, 31.02],\n",
    "               [30.78, 60.10], [75.21, 58.93], [79.26,  7.68], [8.23, 39.93],\n",
    "               [98.73, 80.53], [89.78, 42.53], [65.19, 92.08], [54.46, 8.48]]\n",
    "p1 = PointPattern(points)"
   ]
  },
  {
   "cell_type": "code",
   "execution_count": 3,
   "metadata": {
    "collapsed": false
   },
   "outputs": [
    {
     "name": "stdout",
     "output_type": "stream",
     "text": [
      "Point Pattern\n",
      "12 points\n",
      "Bounding rectangle [(8.23,7.68), (98.73,92.08)]\n",
      "Area of window: 7638.2\n",
      "Intensity estimate for window: 0.00157105077112\n"
     ]
    }
   ],
   "source": [
    "p1.summary()"
   ]
  },
  {
   "cell_type": "code",
   "execution_count": 4,
   "metadata": {
    "collapsed": false
   },
   "outputs": [
    {
     "data": {
      "text/plain": [
       "<matplotlib.text.Text at 0x101235110>"
      ]
     },
     "execution_count": 4,
     "metadata": {},
     "output_type": "execute_result"
    },
    {
     "data": {
      "image/png": "[encoded data removed]",
      "text/plain": [
       "<matplotlib.figure.Figure at 0x10a498850>"
      ]
     },
     "metadata": {},
     "output_type": "display_data"
    }
   ],
   "source": [
    "gp1 = g(p1, intervals=20)\n",
    "plt.plot(gp1[:,0], gp1[:,1])\n",
    "plt.title(\"Nearest neighbor G function\")\n",
    "plt.ylabel(\"G(d)\")\n",
    "plt.xlabel(\"d\")"
   ]
  },
  {
   "cell_type": "code",
   "execution_count": 5,
   "metadata": {
    "collapsed": false
   },
   "outputs": [
    {
     "name": "stdout",
     "output_type": "stream",
     "text": [
      "(<pointpattern.PointPattern object at 0x10a4989d0>,)\n",
      "{'realizations': <process.PoissonPointProcess object at 0x10a582590>, 'name': 'G'}\n"
     ]
    }
   ],
   "source": [
    "realizations = csr(p1.window, p1.n, 100, asPP=True)\n",
    "genv = Genv(p1, intervals=20, realizations=realizations)"
   ]
  },
  {
   "cell_type": "code",
   "execution_count": 6,
   "metadata": {
    "collapsed": false
   },
   "outputs": [
    {
     "data": {
      "text/plain": [
       "array([[  0.        ,   0.        ],\n",
       "       [  1.73156208,   0.        ],\n",
       "       [  3.46312417,   0.        ],\n",
       "       [  5.19468625,   0.        ],\n",
       "       [  6.92624834,   0.        ],\n",
       "       [  8.65781042,   0.        ],\n",
       "       [ 10.3893725 ,   0.16666667],\n",
       "       [ 12.12093459,   0.16666667],\n",
       "       [ 13.85249667,   0.16666667],\n",
       "       [ 15.58405875,   0.16666667],\n",
       "       [ 17.31562084,   0.25      ],\n",
       "       [ 19.04718292,   0.25      ],\n",
       "       [ 20.77874501,   0.25      ],\n",
       "       [ 22.51030709,   0.58333333],\n",
       "       [ 24.24186917,   0.58333333],\n",
       "       [ 25.97343126,   0.83333333],\n",
       "       [ 27.70499334,   0.83333333],\n",
       "       [ 29.43655542,   0.83333333],\n",
       "       [ 31.16811751,   0.83333333],\n",
       "       [ 32.89967959,   0.91666667],\n",
       "       [ 34.63124168,   1.        ],\n",
       "       [ 36.36280376,   1.        ]])"
      ]
     },
     "execution_count": 6,
     "metadata": {},
     "output_type": "execute_result"
    }
   ],
   "source": [
    "genv.observed"
   ]
  },
  {
   "cell_type": "code",
   "execution_count": 7,
   "metadata": {
    "collapsed": false
   },
   "outputs": [
    {
     "ename": "AttributeError",
     "evalue": "'str' object has no attribute 'self'",
     "output_type": "error",
     "traceback": [
      "\u001b[0;31m---------------------------------------------------------------------------\u001b[0m",
      "\u001b[0;31mAttributeError\u001b[0m                            Traceback (most recent call last)",
      "\u001b[0;32m<ipython-input-7-099d0eba7ec6>\u001b[0m in \u001b[0;36m<module>\u001b[0;34m()\u001b[0m\n\u001b[0;32m----> 1\u001b[0;31m \u001b[0mgenv\u001b[0m\u001b[0;34m.\u001b[0m\u001b[0mplot\u001b[0m\u001b[0;34m(\u001b[0m\u001b[0;34m)\u001b[0m\u001b[0;34m\u001b[0m\u001b[0m\n\u001b[0m",
      "\u001b[0;32m/Users/serge/Dropbox/p/pysal/src/pysal/pysal/contrib/points/distance_statistics.py\u001b[0m in \u001b[0;36mplot\u001b[0;34m(self)\u001b[0m\n\u001b[1;32m    133\u001b[0m         \u001b[0mplt\u001b[0m\u001b[0;34m.\u001b[0m\u001b[0mylabel\u001b[0m\u001b[0;34m(\u001b[0m\u001b[0;34m\"{}(d)\"\u001b[0m\u001b[0;34m.\u001b[0m\u001b[0mformat\u001b[0m\u001b[0;34m(\u001b[0m\u001b[0mself\u001b[0m\u001b[0;34m.\u001b[0m\u001b[0mname\u001b[0m\u001b[0;34m)\u001b[0m\u001b[0;34m)\u001b[0m\u001b[0;34m\u001b[0m\u001b[0m\n\u001b[1;32m    134\u001b[0m         \u001b[0mplt\u001b[0m\u001b[0;34m.\u001b[0m\u001b[0mxlabel\u001b[0m\u001b[0;34m(\u001b[0m\u001b[0;34m'd'\u001b[0m\u001b[0;34m)\u001b[0m\u001b[0;34m\u001b[0m\u001b[0m\n\u001b[0;32m--> 135\u001b[0;31m         \u001b[0mplt\u001b[0m\u001b[0;34m.\u001b[0m\u001b[0mtitle\u001b[0m\u001b[0;34m(\u001b[0m\u001b[0;34m'{} Simulation Envelopes'\u001b[0m\u001b[0;34m.\u001b[0m\u001b[0mself\u001b[0m\u001b[0;34m.\u001b[0m\u001b[0mformat\u001b[0m\u001b[0;34m(\u001b[0m\u001b[0mself\u001b[0m\u001b[0;34m.\u001b[0m\u001b[0mname\u001b[0m\u001b[0;34m)\u001b[0m\u001b[0;34m)\u001b[0m\u001b[0;34m\u001b[0m\u001b[0m\n\u001b[0m\u001b[1;32m    136\u001b[0m         \u001b[0mplt\u001b[0m\u001b[0;34m.\u001b[0m\u001b[0mlegend\u001b[0m\u001b[0;34m(\u001b[0m\u001b[0mloc\u001b[0m\u001b[0;34m=\u001b[0m\u001b[0;36m0\u001b[0m\u001b[0;34m)\u001b[0m\u001b[0;34m\u001b[0m\u001b[0m\n\u001b[1;32m    137\u001b[0m \u001b[0;34m\u001b[0m\u001b[0m\n",
      "\u001b[0;31mAttributeError\u001b[0m: 'str' object has no attribute 'self'"
     ]
    },
    {
     "data": {
      "image/png": "[encoded data removed]",
      "text/plain": [
       "<matplotlib.figure.Figure at 0x10a58de50>"
      ]
     },
     "metadata": {},
     "output_type": "display_data"
    }
   ],
   "source": [
    "genv.plot()"
   ]
  },
  {
   "cell_type": "code",
   "execution_count": null,
   "metadata": {
    "collapsed": false
   },
   "outputs": [],
   "source": [
    "for real in realizations.realizations:\n",
    "    print real\n",
    "realizations.realizations"
   ]
  },
  {
   "cell_type": "code",
   "execution_count": null,
   "metadata": {
    "collapsed": false
   },
   "outputs": [],
   "source": [
    "g??"
   ]
  },
  {
   "cell_type": "code",
   "execution_count": null,
   "metadata": {
    "collapsed": false
   },
   "outputs": [],
   "source": [
    "fenv = Fenv(p1, intervals=20, realizations=realizations)"
   ]
  },
  {
   "cell_type": "code",
   "execution_count": null,
   "metadata": {
    "collapsed": false
   },
   "outputs": [],
   "source": [
    "fenv.obs"
   ]
  },
  {
   "cell_type": "code",
   "execution_count": null,
   "metadata": {
    "collapsed": false
   },
   "outputs": [],
   "source": [
    "fp1 = f(p1, intervals=20)\n",
    "plt.plot(fp1[:,0], fp1[:,1])\n",
    "plt.title(\"Empty Space F function\")\n",
    "plt.ylabel(\"F(d)\")\n",
    "plt.xlabel(\"d\")"
   ]
  },
  {
   "cell_type": "code",
   "execution_count": null,
   "metadata": {
    "collapsed": false
   },
   "outputs": [],
   "source": [
    "jp1 = j(p1, intervals=20)\n",
    "plt.plot(jp1[:,0], jp1[:,1])\n",
    "plt.title(\"J function\")\n",
    "plt.ylabel(\"J(d)\")\n",
    "plt.xlabel(\"d\")\n",
    "plt.plot(jp1[:,0], jp1[:,1])"
   ]
  },
  {
   "cell_type": "code",
   "execution_count": null,
   "metadata": {
    "collapsed": false
   },
   "outputs": [],
   "source": [
    "sim = g_envelopes(p1, intervals=20, reps=100)\n",
    "gs, x, fobs, mean, low, high = sim\n",
    "plt.plot(x, fobs, label='G')\n",
    "plt.plot(x, mean, 'g-.', label='CSR')\n",
    "plt.plot(x, low, 'r-.', label='LB')\n",
    "plt.plot(x, high, 'r-.', label=\"UB\")\n",
    "plt.ylabel(\"G(d)\")\n",
    "plt.xlabel('d')\n",
    "plt.title('G Simulation Envelopes')\n",
    "plt.legend(loc=0)"
   ]
  },
  {
   "cell_type": "code",
   "execution_count": null,
   "metadata": {
    "collapsed": false
   },
   "outputs": [],
   "source": [
    "sim = f_envelopes(p1, intervals=20, reps=100)\n",
    "fs, x, fobs, mean, low, high = sim\n",
    "plt.plot(x, fobs, label='F')\n",
    "plt.plot(x, mean, 'g-.', label='CSR')\n",
    "plt.plot(x, low, 'r-.', label='LB')\n",
    "plt.plot(x, high, 'r-.', label=\"UB\")\n",
    "plt.ylabel(\"F(d)\")\n",
    "plt.xlabel('d')\n",
    "plt.title('F Simulation Envelopes')\n",
    "plt.legend(loc=0)"
   ]
  },
  {
   "cell_type": "code",
   "execution_count": null,
   "metadata": {
    "collapsed": false
   },
   "outputs": [],
   "source": [
    "sim = j_envelopes(p1, intervals=20, reps=100)\n",
    "js, x, jobs, mean, low, high = sim\n",
    "plt.plot(x, jobs, label='J')\n",
    "plt.plot(x, mean, 'g-.', label='CSR')\n",
    "plt.plot(x, low, 'r-.', label='LB')\n",
    "plt.plot(x, high, 'r-.', label=\"UB\")\n",
    "plt.ylabel(\"J(d)\")\n",
    "plt.xlabel('d')\n",
    "plt.title('J Simulation Envelopes')\n",
    "plt.legend(loc=0)"
   ]
  },
  {
   "cell_type": "code",
   "execution_count": null,
   "metadata": {
    "collapsed": true
   },
   "outputs": [],
   "source": [
    "from pysal.contrib import shapely_ext\n",
    "va = ps.open(ps.examples.get_path(\"virginia.shp\"))\n",
    "polys = [shp for shp in va]\n",
    "vapnts = ps.open(ps.examples.get_path(\"vapoints.shp\"))\n",
    "points = [shp for shp in vapnts]\n",
    "state = shapely_ext.cascaded_union(polys)"
   ]
  },
  {
   "cell_type": "code",
   "execution_count": null,
   "metadata": {
    "collapsed": true
   },
   "outputs": [],
   "source": [
    "vpp = PointPattern(vapnts)"
   ]
  },
  {
   "cell_type": "code",
   "execution_count": null,
   "metadata": {
    "collapsed": true
   },
   "outputs": [],
   "source": [
    "gvpp = g(vpp)"
   ]
  },
  {
   "cell_type": "code",
   "execution_count": null,
   "metadata": {
    "collapsed": false
   },
   "outputs": [],
   "source": [
    "gvpp"
   ]
  },
  {
   "cell_type": "code",
   "execution_count": null,
   "metadata": {
    "collapsed": true
   },
   "outputs": [],
   "source": [
    "gevpp = g_envelopes(vpp)"
   ]
  },
  {
   "cell_type": "code",
   "execution_count": null,
   "metadata": {
    "collapsed": false
   },
   "outputs": [],
   "source": [
    "gs, x, gobs, mean, low, high = gevpp\n",
    "plt.plot(x, gobs)\n",
    "plt.plot(x, mean, 'g-.')\n",
    "plt.plot(x, low, 'r-.')\n",
    "plt.plot(x, high, 'r-.')"
   ]
  },
  {
   "cell_type": "code",
   "execution_count": null,
   "metadata": {
    "collapsed": true
   },
   "outputs": [],
   "source": [
    "vppw = PointPattern(vapnts, window = as_window(state))"
   ]
  },
  {
   "cell_type": "code",
   "execution_count": null,
   "metadata": {
    "collapsed": true
   },
   "outputs": [],
   "source": [
    "gevppw = g_envelopes(vppw)"
   ]
  },
  {
   "cell_type": "code",
   "execution_count": null,
   "metadata": {
    "collapsed": false
   },
   "outputs": [],
   "source": [
    "gs, x, gobs, mean, low, high = gevppw\n",
    "plt.plot(x, gobs)\n",
    "plt.plot(x, mean, 'g-.')\n",
    "plt.plot(x, low, 'r-.')\n",
    "plt.plot(x, high, 'r-.')"
   ]
  },
  {
   "cell_type": "code",
   "execution_count": null,
   "metadata": {
    "collapsed": true
   },
   "outputs": [],
   "source": [
    "gevppw = g_envelopes(vppw, reps=50)"
   ]
  },
  {
   "cell_type": "code",
   "execution_count": null,
   "metadata": {
    "collapsed": false
   },
   "outputs": [],
   "source": [
    "gs, x, gobs, mean, low, high = gevppw\n",
    "plt.plot(x, gobs)\n",
    "plt.plot(x, mean, 'g-.')\n",
    "plt.plot(x, low, 'r-.')\n",
    "plt.plot(x, high, 'r-.')"
   ]
  },
  {
   "cell_type": "code",
   "execution_count": null,
   "metadata": {
    "collapsed": true
   },
   "outputs": [],
   "source": []
  }
 ],
 "metadata": {
  "kernelspec": {
   "display_name": "Python 2",
   "language": "python",
   "name": "python2"
  },
  "language_info": {
   "codemirror_mode": {
    "name": "ipython",
    "version": 2
   },
   "file_extension": ".py",
   "mimetype": "text/x-python",
   "name": "python",
   "nbconvert_exporter": "python",
   "pygments_lexer": "ipython2",
   "version": "2.7.11"
  }
 },
 "nbformat": 4,
 "nbformat_minor": 0
}
