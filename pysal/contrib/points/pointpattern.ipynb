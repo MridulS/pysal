{
 "cells": [
  {
   "cell_type": "code",
   "execution_count": 1,
   "metadata": {
    "collapsed": false
   },
   "outputs": [
    {
     "name": "stdout",
     "output_type": "stream",
     "text": [
      "Populating the interactive namespace from numpy and matplotlib\n"
     ]
    }
   ],
   "source": [
    "import scipy.spatial\n",
    "import pysal as ps\n",
    "import numpy as np\n",
    "from pointpattern import PointPattern\n",
    "%pylab inline"
   ]
  },
  {
   "cell_type": "code",
   "execution_count": 2,
   "metadata": {
    "collapsed": false
   },
   "outputs": [],
   "source": [
    "points = [[66.22, 32.54], [22.52, 22.39], [31.01, 81.21], [9.47, 31.02],\n",
    "               [30.78, 60.10], [75.21, 58.93], [79.26,  7.68], [8.23, 39.93],\n",
    "               [98.73, 80.53], [89.78, 42.53], [65.19, 92.08], [54.46, 8.48]]\n",
    "p1 = PointPattern(points)"
   ]
  },
  {
   "cell_type": "code",
   "execution_count": 3,
   "metadata": {
    "collapsed": false
   },
   "outputs": [
    {
     "data": {
      "text/plain": [
       "<pointpattern.PointPattern at 0x10a552d90>"
      ]
     },
     "execution_count": 3,
     "metadata": {},
     "output_type": "execute_result"
    }
   ],
   "source": [
    "p1"
   ]
  },
  {
   "cell_type": "code",
   "execution_count": 4,
   "metadata": {
    "collapsed": false
   },
   "outputs": [
    {
     "data": {
      "text/plain": [
       "array([  8.23,   7.68,  98.73,  92.08])"
      ]
     },
     "execution_count": 4,
     "metadata": {},
     "output_type": "execute_result"
    }
   ],
   "source": [
    "p1.window"
   ]
  },
  {
   "cell_type": "code",
   "execution_count": 5,
   "metadata": {
    "collapsed": false
   },
   "outputs": [
    {
     "name": "stdout",
     "output_type": "stream",
     "text": [
      "Point Pattern\n",
      "12 points\n",
      "Bounding rectangle [(8.23,7.68), (98.73,92.08)]\n",
      "Area of window: 7638.2\n",
      "Intensity estimate for window: 0.00157105077112\n"
     ]
    }
   ],
   "source": [
    "p1.summary()"
   ]
  },
  {
   "cell_type": "code",
   "execution_count": 6,
   "metadata": {
    "collapsed": false
   },
   "outputs": [],
   "source": [
    "p2 = PointPattern(p1.points[0:6])\n",
    "p3 = PointPattern(p1.points[6:])"
   ]
  },
  {
   "cell_type": "code",
   "execution_count": 7,
   "metadata": {
    "collapsed": false
   },
   "outputs": [
    {
     "data": {
      "text/plain": [
       "array([  9.47,  22.39,  75.21,  81.21])"
      ]
     },
     "execution_count": 7,
     "metadata": {},
     "output_type": "execute_result"
    }
   ],
   "source": [
    "p2.window"
   ]
  },
  {
   "cell_type": "code",
   "execution_count": 8,
   "metadata": {
    "collapsed": false
   },
   "outputs": [
    {
     "name": "stdout",
     "output_type": "stream",
     "text": [
      "Point Pattern\n",
      "6 points\n",
      "Bounding rectangle [(9.47,22.39), (75.21,81.21)]\n",
      "Area of window: 3866.8268\n",
      "Intensity estimate for window: 0.00155165987781\n"
     ]
    }
   ],
   "source": [
    "p2.summary()"
   ]
  },
  {
   "cell_type": "code",
   "execution_count": 9,
   "metadata": {
    "collapsed": false
   },
   "outputs": [
    {
     "name": "stdout",
     "output_type": "stream",
     "text": [
      "Point Pattern\n",
      "6 points\n",
      "Bounding rectangle [(8.23,7.68), (98.73,92.08)]\n",
      "Area of window: 7638.2\n",
      "Intensity estimate for window: 0.000785525385562\n"
     ]
    }
   ],
   "source": [
    "p3.summary()"
   ]
  },
  {
   "cell_type": "code",
   "execution_count": 10,
   "metadata": {
    "collapsed": false
   },
   "outputs": [
    {
     "name": "stdout",
     "output_type": "stream",
     "text": [
      "(0.0015710507711240867, 0.0022491642316574308)\n",
      "(0.0015516598778098883, 0.0025576181277493591)\n",
      "(0.00078552538556204336, 0.0013273939092862321)\n"
     ]
    }
   ],
   "source": [
    "for pp in (p1, p2, p3):\n",
    "    print (pp.lambda_mbb, pp.lambda_hull)"
   ]
  },
  {
   "cell_type": "code",
   "execution_count": 11,
   "metadata": {
    "collapsed": false
   },
   "outputs": [
    {
     "data": {
      "text/plain": [
       "['F',\n",
       " 'G',\n",
       " 'J',\n",
       " 'K',\n",
       " '__class__',\n",
       " '__delattr__',\n",
       " '__dict__',\n",
       " '__doc__',\n",
       " '__format__',\n",
       " '__getattribute__',\n",
       " '__hash__',\n",
       " '__init__',\n",
       " '__module__',\n",
       " '__new__',\n",
       " '__reduce__',\n",
       " '__reduce_ex__',\n",
       " '__repr__',\n",
       " '__setattr__',\n",
       " '__sizeof__',\n",
       " '__str__',\n",
       " '__subclasshook__',\n",
       " '__weakref__',\n",
       " '_build_tree',\n",
       " '_cache',\n",
       " '_hull',\n",
       " '_hull_area',\n",
       " '_lambda_hull',\n",
       " '_lambda_mbb',\n",
       " '_marks',\n",
       " '_max_nnd',\n",
       " '_mbb',\n",
       " '_mbb_area',\n",
       " '_mean_nnd',\n",
       " '_min_nnd',\n",
       " '_n',\n",
       " '_nn_sum',\n",
       " '_p',\n",
       " '_window',\n",
       " 'csr',\n",
       " 'find_pairs',\n",
       " 'get_window',\n",
       " 'hull',\n",
       " 'hull_area',\n",
       " 'knn',\n",
       " 'knn_other',\n",
       " 'lambda_hull',\n",
       " 'lambda_mbb',\n",
       " 'max_nnd',\n",
       " 'mbb',\n",
       " 'mbb_area',\n",
       " 'mean_nnd',\n",
       " 'min_nnd',\n",
       " 'n',\n",
       " 'nnd',\n",
       " 'points',\n",
       " 'set_window',\n",
       " 'summary',\n",
       " 'tree',\n",
       " 'window']"
      ]
     },
     "execution_count": 11,
     "metadata": {},
     "output_type": "execute_result"
    }
   ],
   "source": [
    "dir(p2)"
   ]
  },
  {
   "cell_type": "code",
   "execution_count": 12,
   "metadata": {
    "collapsed": false
   },
   "outputs": [
    {
     "data": {
      "text/plain": [
       "(array([[ 9],\n",
       "        [ 3],\n",
       "        [ 4],\n",
       "        [ 7],\n",
       "        [ 2],\n",
       "        [ 9],\n",
       "        [11],\n",
       "        [ 3],\n",
       "        [ 5],\n",
       "        [ 5],\n",
       "        [ 5],\n",
       "        [ 6]]), array([[ 25.59050019],\n",
       "        [ 15.64542745],\n",
       "        [ 21.11125292],\n",
       "        [  8.99587128],\n",
       "        [ 21.11125292],\n",
       "        [ 21.93729473],\n",
       "        [ 24.81289987],\n",
       "        [  8.99587128],\n",
       "        [ 31.93353097],\n",
       "        [ 21.93729473],\n",
       "        [ 34.63124168],\n",
       "        [ 24.81289987]]))"
      ]
     },
     "execution_count": 12,
     "metadata": {},
     "output_type": "execute_result"
    }
   ],
   "source": [
    "p1.knn()"
   ]
  },
  {
   "cell_type": "code",
   "execution_count": 13,
   "metadata": {
    "collapsed": false
   },
   "outputs": [
    {
     "data": {
      "text/plain": [
       "array([[ 26.89919226,  87.38445931],\n",
       "       [  9.43204481,  23.78929888],\n",
       "       [ 75.14313444,  76.21351389],\n",
       "       [ 98.09697663,  53.20712092],\n",
       "       [ 66.640443  ,  40.64879714],\n",
       "       [ 22.45525698,  81.52755021],\n",
       "       [ 82.17852765,  30.20066355],\n",
       "       [ 80.61161088,  77.98570133],\n",
       "       [ 65.65006037,  58.25045341],\n",
       "       [ 34.10672599,  13.10337612]])"
      ]
     },
     "execution_count": 13,
     "metadata": {},
     "output_type": "execute_result"
    }
   ],
   "source": [
    "p1.csr(10)"
   ]
  },
  {
   "cell_type": "code",
   "execution_count": 14,
   "metadata": {
    "collapsed": false
   },
   "outputs": [
    {
     "data": {
      "text/plain": [
       "array([[  0.        ,   0.        ],\n",
       "       [  5.59134635,   0.        ],\n",
       "       [ 11.1826927 ,   0.        ],\n",
       "       [ 16.77403905,   0.        ],\n",
       "       [ 22.3653854 ,   0.        ],\n",
       "       [ 27.95673175,   0.33333333],\n",
       "       [ 33.5480781 ,   0.33333333],\n",
       "       [ 39.13942445,   0.83333333],\n",
       "       [ 44.7307708 ,   0.83333333],\n",
       "       [ 50.32211715,   0.83333333],\n",
       "       [ 55.91346349,   1.        ],\n",
       "       [ 61.50480984,   1.        ]])"
      ]
     },
     "execution_count": 14,
     "metadata": {},
     "output_type": "execute_result"
    }
   ],
   "source": [
    "pp.G()"
   ]
  },
  {
   "cell_type": "code",
   "execution_count": 15,
   "metadata": {
    "collapsed": false
   },
   "outputs": [
    {
     "data": {
      "text/plain": [
       "array([[  0.        ,   5.59134635,  11.1826927 ,  16.77403905,\n",
       "         22.3653854 ,  27.95673175,  33.5480781 ,  39.13942445,  44.7307708 ],\n",
       "       [  1.        ,   0.95      ,   0.8       ,   0.65      ,\n",
       "          0.46      ,   0.525     ,   0.24      ,   0.54      ,   0.3       ]])"
      ]
     },
     "execution_count": 15,
     "metadata": {},
     "output_type": "execute_result"
    }
   ],
   "source": [
    "pp.J()"
   ]
  },
  {
   "cell_type": "code",
   "execution_count": 16,
   "metadata": {
    "collapsed": false
   },
   "outputs": [
    {
     "data": {
      "text/plain": [
       "[<matplotlib.lines.Line2D at 0x10a620290>]"
      ]
     },
     "execution_count": 16,
     "metadata": {},
     "output_type": "execute_result"
    },
    {
     "data": {
      "image/png": "[encoded data removed]",
      "text/plain": [
       "<matplotlib.figure.Figure at 0x10a552c90>"
      ]
     },
     "metadata": {},
     "output_type": "display_data"
    }
   ],
   "source": [
    "j = pp.J().T\n",
    "plot(j[:,0], j[:,1])"
   ]
  },
  {
   "cell_type": "code",
   "execution_count": 17,
   "metadata": {
    "collapsed": false
   },
   "outputs": [
    {
     "data": {
      "text/plain": [
       "[<matplotlib.lines.Line2D at 0x10a706b50>]"
      ]
     },
     "execution_count": 17,
     "metadata": {},
     "output_type": "execute_result"
    },
    {
     "data": {
      "image/png": "[encoded data removed]",
      "text/plain": [
       "<matplotlib.figure.Figure at 0x10a5d18d0>"
      ]
     },
     "metadata": {},
     "output_type": "display_data"
    }
   ],
   "source": [
    "g = pp.G()\n",
    "plot(g[:,0], g[:,1])"
   ]
  },
  {
   "cell_type": "code",
   "execution_count": 18,
   "metadata": {
    "collapsed": false
   },
   "outputs": [
    {
     "data": {
      "text/plain": [
       "[<matplotlib.lines.Line2D at 0x10a85d410>]"
      ]
     },
     "execution_count": 18,
     "metadata": {},
     "output_type": "execute_result"
    },
    {
     "data": {
      "image/png": "[encoded data removed]",
      "text/plain": [
       "<matplotlib.figure.Figure at 0x10a7b84d0>"
      ]
     },
     "metadata": {},
     "output_type": "display_data"
    }
   ],
   "source": [
    "f = pp.F()\n",
    "plot(f[:,0], f[:,1])"
   ]
  },
  {
   "cell_type": "code",
   "execution_count": 19,
   "metadata": {
    "collapsed": false
   },
   "outputs": [
    {
     "data": {
      "text/plain": [
       "array([[  0.        ,   0.        ],\n",
       "       [  5.59134635,   0.        ],\n",
       "       [ 11.1826927 ,   0.        ],\n",
       "       [ 16.77403905,   0.        ],\n",
       "       [ 22.3653854 ,   0.        ],\n",
       "       [ 27.95673175,   0.33333333],\n",
       "       [ 33.5480781 ,   0.33333333],\n",
       "       [ 39.13942445,   0.83333333],\n",
       "       [ 44.7307708 ,   0.83333333],\n",
       "       [ 50.32211715,   0.83333333],\n",
       "       [ 55.91346349,   1.        ],\n",
       "       [ 61.50480984,   1.        ]])"
      ]
     },
     "execution_count": 19,
     "metadata": {},
     "output_type": "execute_result"
    }
   ],
   "source": [
    "pp.G(10)"
   ]
  },
  {
   "cell_type": "code",
   "execution_count": 20,
   "metadata": {
    "collapsed": false
   },
   "outputs": [
    {
     "data": {
      "text/plain": [
       "array([[  0.        ,   0.        ],\n",
       "       [  2.23653854,   0.        ],\n",
       "       [  4.47307708,   0.        ],\n",
       "       [  6.70961562,   0.        ],\n",
       "       [  8.94615416,   0.        ],\n",
       "       [ 11.1826927 ,   0.        ],\n",
       "       [ 13.41923124,   0.        ],\n",
       "       [ 15.65576978,   0.        ],\n",
       "       [ 17.89230832,   0.        ],\n",
       "       [ 20.12884686,   0.        ],\n",
       "       [ 22.3653854 ,   0.        ],\n",
       "       [ 24.60192394,   0.        ],\n",
       "       [ 26.83846248,   0.33333333],\n",
       "       [ 29.07500102,   0.33333333],\n",
       "       [ 31.31153956,   0.33333333],\n",
       "       [ 33.5480781 ,   0.33333333],\n",
       "       [ 35.78461664,   0.66666667],\n",
       "       [ 38.02115518,   0.83333333],\n",
       "       [ 40.25769372,   0.83333333],\n",
       "       [ 42.49423226,   0.83333333],\n",
       "       [ 44.7307708 ,   0.83333333],\n",
       "       [ 46.96730934,   0.83333333],\n",
       "       [ 49.20384788,   0.83333333],\n",
       "       [ 51.44038642,   0.83333333],\n",
       "       [ 53.67692496,   0.83333333],\n",
       "       [ 55.91346349,   1.        ],\n",
       "       [ 58.15000203,   1.        ]])"
      ]
     },
     "execution_count": 20,
     "metadata": {},
     "output_type": "execute_result"
    }
   ],
   "source": [
    "pp.G(25)"
   ]
  },
  {
   "cell_type": "code",
   "execution_count": 22,
   "metadata": {
    "collapsed": false
   },
   "outputs": [
    {
     "data": {
      "text/plain": [
       "(array([0, 1, 2, 3, 4, 5]), array([ 0.,  0.,  0.,  0.,  0.,  0.]))"
      ]
     },
     "execution_count": 22,
     "metadata": {},
     "output_type": "execute_result"
    }
   ],
   "source": [
    "p1.knn_other(p2, k=1)"
   ]
  },
  {
   "cell_type": "code",
   "execution_count": 23,
   "metadata": {
    "collapsed": false
   },
   "outputs": [
    {
     "data": {
      "text/plain": [
       "(array([0, 1, 2, 3, 4, 5, 0, 3, 5, 5, 5, 0]),\n",
       " array([  0.        ,   0.        ,   0.        ,   0.        ,\n",
       "          0.        ,   0.        ,  28.07242775,   8.99587128,\n",
       "         31.93353097,  21.93729473,  34.63124168,  26.78023898]))"
      ]
     },
     "execution_count": 23,
     "metadata": {},
     "output_type": "execute_result"
    }
   ],
   "source": [
    "p2.knn_other(p1, k=1)"
   ]
  },
  {
   "cell_type": "code",
   "execution_count": 24,
   "metadata": {
    "collapsed": false
   },
   "outputs": [
    {
     "data": {
      "text/plain": [
       "array([[  0.        ,   2.78792432,   5.57584863,   8.36377295,\n",
       "         11.15169727,  13.93962159,  16.7275459 ,  19.51547022,\n",
       "         22.30339454,  25.09131886],\n",
       "       [  1.        ,   0.99      ,   0.9       ,   0.74      ,\n",
       "          0.59      ,   0.42      ,   0.465     ,   0.21      ,\n",
       "          0.12      ,   0.03      ]])"
      ]
     },
     "execution_count": 24,
     "metadata": {},
     "output_type": "execute_result"
    }
   ],
   "source": [
    "p2.J()"
   ]
  },
  {
   "cell_type": "code",
   "execution_count": 27,
   "metadata": {
    "collapsed": false
   },
   "outputs": [
    {
     "data": {
      "text/plain": [
       "{(1, 3), (3, 7)}"
      ]
     },
     "execution_count": 27,
     "metadata": {},
     "output_type": "execute_result"
    }
   ],
   "source": [
    "p1.find_pairs(20.0)"
   ]
  },
  {
   "cell_type": "code",
   "execution_count": 28,
   "metadata": {
    "collapsed": false
   },
   "outputs": [
    {
     "name": "stdout",
     "output_type": "stream",
     "text": [
      "Populating the interactive namespace from numpy and matplotlib\n"
     ]
    }
   ],
   "source": [
    "%pylab inline"
   ]
  },
  {
   "cell_type": "code",
   "execution_count": 29,
   "metadata": {
    "collapsed": false
   },
   "outputs": [
    {
     "data": {
      "text/plain": [
       "<matplotlib.collections.PathCollection at 0x10ac06850>"
      ]
     },
     "execution_count": 29,
     "metadata": {},
     "output_type": "execute_result"
    },
    {
     "data": {
      "image/png": "[encoded data removed]",
      "text/plain": [
       "<matplotlib.figure.Figure at 0x10a983890>"
      ]
     },
     "metadata": {},
     "output_type": "display_data"
    }
   ],
   "source": [
    "import numpy as np\n",
    "points = np.array(points)\n",
    "scatter(points[:,0], points[:,1])\n",
    "#xlim([0,100])\n",
    "#ylim([0,100])"
   ]
  },
  {
   "cell_type": "code",
   "execution_count": 30,
   "metadata": {
    "collapsed": false
   },
   "outputs": [
    {
     "data": {
      "text/plain": [
       "4.0"
      ]
     },
     "execution_count": 30,
     "metadata": {},
     "output_type": "execute_result"
    }
   ],
   "source": [
    "40 / 10."
   ]
  }
 ],
 "metadata": {
  "kernelspec": {
   "display_name": "Python 2",
   "language": "python",
   "name": "python2"
  },
  "language_info": {
   "codemirror_mode": {
    "name": "ipython",
    "version": 2
   },
   "file_extension": ".py",
   "mimetype": "text/x-python",
   "name": "python",
   "nbconvert_exporter": "python",
   "pygments_lexer": "ipython2",
   "version": "2.7.11"
  }
 },
 "nbformat": 4,
 "nbformat_minor": 0
}
