{
 "cells": [
  {
   "cell_type": "markdown",
   "metadata": {},
   "source": [
    "# Planar Point Patterns in PySAL\n",
    "\n",
    "**Author: Serge Rey <sjsrey@gmail.com>**\n",
    "\n",
    "## Introduction\n",
    "This notebook introduces the basic PointPattern class in PySAL and covers the following:\n",
    "\n",
    "* [Creating Point Patterns](#Creating-Point-Patterns)\n",
    "* [Atributes of Point Patterns](#Attributes-of-PySAL-Point-Patterns)\n",
    "* [Intensity Estimates](#Intensity-Estimates)\n",
    "* [Next steps](#Next-steps)"
   ]
  },
  {
   "cell_type": "code",
   "execution_count": 2,
   "metadata": {
    "collapsed": false
   },
   "outputs": [],
   "source": [
    "import pysal as ps\n",
    "import numpy as np\n",
    "from pysal.contrib.points.pointpattern import PointPattern"
   ]
  },
  {
   "cell_type": "markdown",
   "metadata": {},
   "source": [
    "## Creating Point Patterns"
   ]
  },
  {
   "cell_type": "markdown",
   "metadata": {},
   "source": [
    "### From lists"
   ]
  },
  {
   "cell_type": "code",
   "execution_count": 3,
   "metadata": {
    "collapsed": false
   },
   "outputs": [],
   "source": [
    "points = [[66.22, 32.54], [22.52, 22.39], [31.01, 81.21], [9.47, 31.02],\n",
    "               [30.78, 60.10], [75.21, 58.93], [79.26,  7.68], [8.23, 39.93],\n",
    "               [98.73, 80.53], [89.78, 42.53], [65.19, 92.08], [54.46, 8.48]]\n",
    "p1 = PointPattern(points)"
   ]
  },
  {
   "cell_type": "code",
   "execution_count": 4,
   "metadata": {
    "collapsed": false
   },
   "outputs": [
    {
     "name": "stdout",
     "output_type": "stream",
     "text": [
      "Point Pattern\n",
      "12 points\n",
      "Bounding rectangle [(8.23,7.68), (98.73,92.08)]\n",
      "Area of window: 7638.2\n",
      "Intensity estimate for window: 0.00157105077112\n",
      "       x      y\n",
      "0  66.22  32.54\n",
      "1  22.52  22.39\n",
      "2  31.01  81.21\n",
      "3   9.47  31.02\n",
      "4  30.78  60.10\n"
     ]
    }
   ],
   "source": [
    "p1.summary()"
   ]
  },
  {
   "cell_type": "markdown",
   "metadata": {},
   "source": [
    "### From numpy arrays"
   ]
  },
  {
   "cell_type": "code",
   "execution_count": 5,
   "metadata": {
    "collapsed": false
   },
   "outputs": [
    {
     "data": {
      "text/plain": [
       "array([[ 66.22,  32.54],\n",
       "       [ 22.52,  22.39],\n",
       "       [ 31.01,  81.21],\n",
       "       [  9.47,  31.02],\n",
       "       [ 30.78,  60.1 ],\n",
       "       [ 75.21,  58.93],\n",
       "       [ 79.26,   7.68],\n",
       "       [  8.23,  39.93],\n",
       "       [ 98.73,  80.53],\n",
       "       [ 89.78,  42.53],\n",
       "       [ 65.19,  92.08],\n",
       "       [ 54.46,   8.48]])"
      ]
     },
     "execution_count": 5,
     "metadata": {},
     "output_type": "execute_result"
    }
   ],
   "source": [
    "points = np.asarray(points)\n",
    "points"
   ]
  },
  {
   "cell_type": "code",
   "execution_count": 6,
   "metadata": {
    "collapsed": false
   },
   "outputs": [
    {
     "name": "stdout",
     "output_type": "stream",
     "text": [
      "Point Pattern\n",
      "12 points\n",
      "Bounding rectangle [(8.23,7.68), (98.73,92.08)]\n",
      "Area of window: 7638.2\n",
      "Intensity estimate for window: 0.00157105077112\n",
      "       x      y\n",
      "0  66.22  32.54\n",
      "1  22.52  22.39\n",
      "2  31.01  81.21\n",
      "3   9.47  31.02\n",
      "4  30.78  60.10\n"
     ]
    }
   ],
   "source": [
    "p1_np = PointPattern(points)\n",
    "p1_np.summary()"
   ]
  },
  {
   "cell_type": "markdown",
   "metadata": {},
   "source": [
    "### From shapefiles\n",
    "\n",
    "This example uses 200 randomly distributed points within the counties of Virginia. Coordinates are for UTM zone 17 N."
   ]
  },
  {
   "cell_type": "code",
   "execution_count": 7,
   "metadata": {
    "collapsed": false
   },
   "outputs": [
    {
     "name": "stdout",
     "output_type": "stream",
     "text": [
      "Point Pattern\n",
      "200 points\n",
      "Bounding rectangle [(273959.664381,4049220.90341), (972595.989578,4359604.85978)]\n",
      "Area of window: 2.16845506675e+11\n",
      "Intensity estimate for window: 9.22315629531e-10\n",
      "               x               y\n",
      "0  865322.486181  4150317.315954\n",
      "1  774479.213103  4258993.023041\n",
      "2  308048.692232  4054699.778123\n",
      "3  670711.529980  4258863.858165\n",
      "4  666254.475614  4256514.364659\n"
     ]
    }
   ],
   "source": [
    "f = ps.examples.get_path('vautm17n_points.shp')\n",
    "fo = ps.open(f)\n",
    "pp_va = PointPattern(np.asarray([pnt for pnt in fo]))\n",
    "fo.close()\n",
    "pp_va.summary()"
   ]
  },
  {
   "cell_type": "markdown",
   "metadata": {},
   "source": [
    "## Attributes of PySAL Point Patterns"
   ]
  },
  {
   "cell_type": "code",
   "execution_count": 8,
   "metadata": {
    "collapsed": false
   },
   "outputs": [
    {
     "name": "stdout",
     "output_type": "stream",
     "text": [
      "Point Pattern\n",
      "200 points\n",
      "Bounding rectangle [(273959.664381,4049220.90341), (972595.989578,4359604.85978)]\n",
      "Area of window: 2.16845506675e+11\n",
      "Intensity estimate for window: 9.22315629531e-10\n",
      "               x               y\n",
      "0  865322.486181  4150317.315954\n",
      "1  774479.213103  4258993.023041\n",
      "2  308048.692232  4054699.778123\n",
      "3  670711.529980  4258863.858165\n",
      "4  666254.475614  4256514.364659\n"
     ]
    }
   ],
   "source": [
    "pp_va.summary()"
   ]
  },
  {
   "cell_type": "code",
   "execution_count": 9,
   "metadata": {
    "collapsed": false
   },
   "outputs": [
    {
     "data": {
      "text/html": [
       "<div>\n",
       "<table border=\"1\" class=\"dataframe\">\n",
       "  <thead>\n",
       "    <tr style=\"text-align: right;\">\n",
       "      <th></th>\n",
       "      <th>x</th>\n",
       "      <th>y</th>\n",
       "    </tr>\n",
       "  </thead>\n",
       "  <tbody>\n",
       "    <tr>\n",
       "      <th>0</th>\n",
       "      <td>865322.486181</td>\n",
       "      <td>4150317.315954</td>\n",
       "    </tr>\n",
       "    <tr>\n",
       "      <th>1</th>\n",
       "      <td>774479.213103</td>\n",
       "      <td>4258993.023041</td>\n",
       "    </tr>\n",
       "    <tr>\n",
       "      <th>2</th>\n",
       "      <td>308048.692232</td>\n",
       "      <td>4054699.778123</td>\n",
       "    </tr>\n",
       "    <tr>\n",
       "      <th>3</th>\n",
       "      <td>670711.529980</td>\n",
       "      <td>4258863.858165</td>\n",
       "    </tr>\n",
       "    <tr>\n",
       "      <th>4</th>\n",
       "      <td>666254.475614</td>\n",
       "      <td>4256514.364659</td>\n",
       "    </tr>\n",
       "    <tr>\n",
       "      <th>5</th>\n",
       "      <td>664464.571678</td>\n",
       "      <td>4061241.753305</td>\n",
       "    </tr>\n",
       "    <tr>\n",
       "      <th>6</th>\n",
       "      <td>784718.209785</td>\n",
       "      <td>4076109.338374</td>\n",
       "    </tr>\n",
       "    <tr>\n",
       "      <th>7</th>\n",
       "      <td>972595.989578</td>\n",
       "      <td>4183781.377045</td>\n",
       "    </tr>\n",
       "    <tr>\n",
       "      <th>8</th>\n",
       "      <td>657798.357403</td>\n",
       "      <td>4253278.358771</td>\n",
       "    </tr>\n",
       "    <tr>\n",
       "      <th>9</th>\n",
       "      <td>682259.020242</td>\n",
       "      <td>4282440.756747</td>\n",
       "    </tr>\n",
       "    <tr>\n",
       "      <th>10</th>\n",
       "      <td>727004.821077</td>\n",
       "      <td>4068344.171405</td>\n",
       "    </tr>\n",
       "    <tr>\n",
       "      <th>11</th>\n",
       "      <td>705895.874812</td>\n",
       "      <td>4266601.787200</td>\n",
       "    </tr>\n",
       "    <tr>\n",
       "      <th>12</th>\n",
       "      <td>828584.046576</td>\n",
       "      <td>4065665.983750</td>\n",
       "    </tr>\n",
       "    <tr>\n",
       "      <th>13</th>\n",
       "      <td>713905.086059</td>\n",
       "      <td>4316151.192604</td>\n",
       "    </tr>\n",
       "    <tr>\n",
       "      <th>14</th>\n",
       "      <td>881552.803340</td>\n",
       "      <td>4091455.100376</td>\n",
       "    </tr>\n",
       "    <tr>\n",
       "      <th>15</th>\n",
       "      <td>469051.359337</td>\n",
       "      <td>4117701.631544</td>\n",
       "    </tr>\n",
       "    <tr>\n",
       "      <th>16</th>\n",
       "      <td>316765.769715</td>\n",
       "      <td>4074300.303126</td>\n",
       "    </tr>\n",
       "    <tr>\n",
       "      <th>17</th>\n",
       "      <td>697788.542435</td>\n",
       "      <td>4060254.329134</td>\n",
       "    </tr>\n",
       "    <tr>\n",
       "      <th>18</th>\n",
       "      <td>735806.711384</td>\n",
       "      <td>4169687.743472</td>\n",
       "    </tr>\n",
       "    <tr>\n",
       "      <th>19</th>\n",
       "      <td>857188.061626</td>\n",
       "      <td>4069334.963242</td>\n",
       "    </tr>\n",
       "    <tr>\n",
       "      <th>20</th>\n",
       "      <td>840068.036835</td>\n",
       "      <td>4157035.069857</td>\n",
       "    </tr>\n",
       "    <tr>\n",
       "      <th>21</th>\n",
       "      <td>554658.507423</td>\n",
       "      <td>4056777.197577</td>\n",
       "    </tr>\n",
       "    <tr>\n",
       "      <th>22</th>\n",
       "      <td>273959.664381</td>\n",
       "      <td>4057243.769256</td>\n",
       "    </tr>\n",
       "    <tr>\n",
       "      <th>23</th>\n",
       "      <td>751755.354691</td>\n",
       "      <td>4212529.561908</td>\n",
       "    </tr>\n",
       "    <tr>\n",
       "      <th>24</th>\n",
       "      <td>862508.493456</td>\n",
       "      <td>4068195.551044</td>\n",
       "    </tr>\n",
       "    <tr>\n",
       "      <th>25</th>\n",
       "      <td>608082.366460</td>\n",
       "      <td>4137227.372872</td>\n",
       "    </tr>\n",
       "    <tr>\n",
       "      <th>26</th>\n",
       "      <td>783720.206483</td>\n",
       "      <td>4131364.355405</td>\n",
       "    </tr>\n",
       "    <tr>\n",
       "      <th>27</th>\n",
       "      <td>648766.829060</td>\n",
       "      <td>4193105.421440</td>\n",
       "    </tr>\n",
       "    <tr>\n",
       "      <th>28</th>\n",
       "      <td>560753.141222</td>\n",
       "      <td>4059970.501956</td>\n",
       "    </tr>\n",
       "    <tr>\n",
       "      <th>29</th>\n",
       "      <td>659157.093262</td>\n",
       "      <td>4157386.038897</td>\n",
       "    </tr>\n",
       "    <tr>\n",
       "      <th>...</th>\n",
       "      <td>...</td>\n",
       "      <td>...</td>\n",
       "    </tr>\n",
       "    <tr>\n",
       "      <th>170</th>\n",
       "      <td>693186.966524</td>\n",
       "      <td>4139941.149291</td>\n",
       "    </tr>\n",
       "    <tr>\n",
       "      <th>171</th>\n",
       "      <td>845699.719699</td>\n",
       "      <td>4231892.468927</td>\n",
       "    </tr>\n",
       "    <tr>\n",
       "      <th>172</th>\n",
       "      <td>796797.110375</td>\n",
       "      <td>4313533.614237</td>\n",
       "    </tr>\n",
       "    <tr>\n",
       "      <th>173</th>\n",
       "      <td>691583.213674</td>\n",
       "      <td>4074580.596951</td>\n",
       "    </tr>\n",
       "    <tr>\n",
       "      <th>174</th>\n",
       "      <td>752905.895923</td>\n",
       "      <td>4166522.679448</td>\n",
       "    </tr>\n",
       "    <tr>\n",
       "      <th>175</th>\n",
       "      <td>963207.941343</td>\n",
       "      <td>4165624.284632</td>\n",
       "    </tr>\n",
       "    <tr>\n",
       "      <th>176</th>\n",
       "      <td>611691.334171</td>\n",
       "      <td>4049220.903414</td>\n",
       "    </tr>\n",
       "    <tr>\n",
       "      <th>177</th>\n",
       "      <td>777399.041143</td>\n",
       "      <td>4170244.356460</td>\n",
       "    </tr>\n",
       "    <tr>\n",
       "      <th>178</th>\n",
       "      <td>781453.204801</td>\n",
       "      <td>4124116.455520</td>\n",
       "    </tr>\n",
       "    <tr>\n",
       "      <th>179</th>\n",
       "      <td>675900.040876</td>\n",
       "      <td>4059234.979312</td>\n",
       "    </tr>\n",
       "    <tr>\n",
       "      <th>180</th>\n",
       "      <td>530691.417350</td>\n",
       "      <td>4087625.923044</td>\n",
       "    </tr>\n",
       "    <tr>\n",
       "      <th>181</th>\n",
       "      <td>555641.288115</td>\n",
       "      <td>4122359.796293</td>\n",
       "    </tr>\n",
       "    <tr>\n",
       "      <th>182</th>\n",
       "      <td>532600.970765</td>\n",
       "      <td>4051875.740489</td>\n",
       "    </tr>\n",
       "    <tr>\n",
       "      <th>183</th>\n",
       "      <td>800528.454702</td>\n",
       "      <td>4335968.931603</td>\n",
       "    </tr>\n",
       "    <tr>\n",
       "      <th>184</th>\n",
       "      <td>516747.058864</td>\n",
       "      <td>4104977.262351</td>\n",
       "    </tr>\n",
       "    <tr>\n",
       "      <th>185</th>\n",
       "      <td>647291.961412</td>\n",
       "      <td>4223991.184843</td>\n",
       "    </tr>\n",
       "    <tr>\n",
       "      <th>186</th>\n",
       "      <td>673236.038854</td>\n",
       "      <td>4292326.240856</td>\n",
       "    </tr>\n",
       "    <tr>\n",
       "      <th>187</th>\n",
       "      <td>534897.641241</td>\n",
       "      <td>4129232.325428</td>\n",
       "    </tr>\n",
       "    <tr>\n",
       "      <th>188</th>\n",
       "      <td>789507.980935</td>\n",
       "      <td>4240825.180643</td>\n",
       "    </tr>\n",
       "    <tr>\n",
       "      <th>189</th>\n",
       "      <td>701276.258284</td>\n",
       "      <td>4199411.205277</td>\n",
       "    </tr>\n",
       "    <tr>\n",
       "      <th>190</th>\n",
       "      <td>669424.422196</td>\n",
       "      <td>4276722.639986</td>\n",
       "    </tr>\n",
       "    <tr>\n",
       "      <th>191</th>\n",
       "      <td>602477.348747</td>\n",
       "      <td>4146359.813248</td>\n",
       "    </tr>\n",
       "    <tr>\n",
       "      <th>192</th>\n",
       "      <td>872333.052082</td>\n",
       "      <td>4156737.045402</td>\n",
       "    </tr>\n",
       "    <tr>\n",
       "      <th>193</th>\n",
       "      <td>773967.535489</td>\n",
       "      <td>4145192.165356</td>\n",
       "    </tr>\n",
       "    <tr>\n",
       "      <th>194</th>\n",
       "      <td>803387.940279</td>\n",
       "      <td>4173642.026686</td>\n",
       "    </tr>\n",
       "    <tr>\n",
       "      <th>195</th>\n",
       "      <td>876485.065262</td>\n",
       "      <td>4148119.549520</td>\n",
       "    </tr>\n",
       "    <tr>\n",
       "      <th>196</th>\n",
       "      <td>621600.111400</td>\n",
       "      <td>4177462.239644</td>\n",
       "    </tr>\n",
       "    <tr>\n",
       "      <th>197</th>\n",
       "      <td>450246.610116</td>\n",
       "      <td>4106031.045584</td>\n",
       "    </tr>\n",
       "    <tr>\n",
       "      <th>198</th>\n",
       "      <td>740919.375814</td>\n",
       "      <td>4359604.859780</td>\n",
       "    </tr>\n",
       "    <tr>\n",
       "      <th>199</th>\n",
       "      <td>797522.610898</td>\n",
       "      <td>4208606.173928</td>\n",
       "    </tr>\n",
       "  </tbody>\n",
       "</table>\n",
       "<p>200 rows × 2 columns</p>\n",
       "</div>"
      ],
      "text/plain": [
       "                 x               y\n",
       "0    865322.486181  4150317.315954\n",
       "1    774479.213103  4258993.023041\n",
       "2    308048.692232  4054699.778123\n",
       "3    670711.529980  4258863.858165\n",
       "4    666254.475614  4256514.364659\n",
       "5    664464.571678  4061241.753305\n",
       "6    784718.209785  4076109.338374\n",
       "7    972595.989578  4183781.377045\n",
       "8    657798.357403  4253278.358771\n",
       "9    682259.020242  4282440.756747\n",
       "10   727004.821077  4068344.171405\n",
       "11   705895.874812  4266601.787200\n",
       "12   828584.046576  4065665.983750\n",
       "13   713905.086059  4316151.192604\n",
       "14   881552.803340  4091455.100376\n",
       "15   469051.359337  4117701.631544\n",
       "16   316765.769715  4074300.303126\n",
       "17   697788.542435  4060254.329134\n",
       "18   735806.711384  4169687.743472\n",
       "19   857188.061626  4069334.963242\n",
       "20   840068.036835  4157035.069857\n",
       "21   554658.507423  4056777.197577\n",
       "22   273959.664381  4057243.769256\n",
       "23   751755.354691  4212529.561908\n",
       "24   862508.493456  4068195.551044\n",
       "25   608082.366460  4137227.372872\n",
       "26   783720.206483  4131364.355405\n",
       "27   648766.829060  4193105.421440\n",
       "28   560753.141222  4059970.501956\n",
       "29   659157.093262  4157386.038897\n",
       "..             ...             ...\n",
       "170  693186.966524  4139941.149291\n",
       "171  845699.719699  4231892.468927\n",
       "172  796797.110375  4313533.614237\n",
       "173  691583.213674  4074580.596951\n",
       "174  752905.895923  4166522.679448\n",
       "175  963207.941343  4165624.284632\n",
       "176  611691.334171  4049220.903414\n",
       "177  777399.041143  4170244.356460\n",
       "178  781453.204801  4124116.455520\n",
       "179  675900.040876  4059234.979312\n",
       "180  530691.417350  4087625.923044\n",
       "181  555641.288115  4122359.796293\n",
       "182  532600.970765  4051875.740489\n",
       "183  800528.454702  4335968.931603\n",
       "184  516747.058864  4104977.262351\n",
       "185  647291.961412  4223991.184843\n",
       "186  673236.038854  4292326.240856\n",
       "187  534897.641241  4129232.325428\n",
       "188  789507.980935  4240825.180643\n",
       "189  701276.258284  4199411.205277\n",
       "190  669424.422196  4276722.639986\n",
       "191  602477.348747  4146359.813248\n",
       "192  872333.052082  4156737.045402\n",
       "193  773967.535489  4145192.165356\n",
       "194  803387.940279  4173642.026686\n",
       "195  876485.065262  4148119.549520\n",
       "196  621600.111400  4177462.239644\n",
       "197  450246.610116  4106031.045584\n",
       "198  740919.375814  4359604.859780\n",
       "199  797522.610898  4208606.173928\n",
       "\n",
       "[200 rows x 2 columns]"
      ]
     },
     "execution_count": 9,
     "metadata": {},
     "output_type": "execute_result"
    }
   ],
   "source": [
    "pp_va.points"
   ]
  },
  {
   "cell_type": "code",
   "execution_count": 10,
   "metadata": {
    "collapsed": false
   },
   "outputs": [
    {
     "data": {
      "text/html": [
       "<div>\n",
       "<table border=\"1\" class=\"dataframe\">\n",
       "  <thead>\n",
       "    <tr style=\"text-align: right;\">\n",
       "      <th></th>\n",
       "      <th>x</th>\n",
       "      <th>y</th>\n",
       "    </tr>\n",
       "  </thead>\n",
       "  <tbody>\n",
       "    <tr>\n",
       "      <th>0</th>\n",
       "      <td>865322.486181</td>\n",
       "      <td>4150317.315954</td>\n",
       "    </tr>\n",
       "    <tr>\n",
       "      <th>1</th>\n",
       "      <td>774479.213103</td>\n",
       "      <td>4258993.023041</td>\n",
       "    </tr>\n",
       "    <tr>\n",
       "      <th>2</th>\n",
       "      <td>308048.692232</td>\n",
       "      <td>4054699.778123</td>\n",
       "    </tr>\n",
       "    <tr>\n",
       "      <th>3</th>\n",
       "      <td>670711.529980</td>\n",
       "      <td>4258863.858165</td>\n",
       "    </tr>\n",
       "    <tr>\n",
       "      <th>4</th>\n",
       "      <td>666254.475614</td>\n",
       "      <td>4256514.364659</td>\n",
       "    </tr>\n",
       "  </tbody>\n",
       "</table>\n",
       "</div>"
      ],
      "text/plain": [
       "               x               y\n",
       "0  865322.486181  4150317.315954\n",
       "1  774479.213103  4258993.023041\n",
       "2  308048.692232  4054699.778123\n",
       "3  670711.529980  4258863.858165\n",
       "4  666254.475614  4256514.364659"
      ]
     },
     "execution_count": 10,
     "metadata": {},
     "output_type": "execute_result"
    }
   ],
   "source": [
    "pp_va.head()"
   ]
  },
  {
   "cell_type": "code",
   "execution_count": 11,
   "metadata": {
    "collapsed": false
   },
   "outputs": [
    {
     "data": {
      "text/html": [
       "<div>\n",
       "<table border=\"1\" class=\"dataframe\">\n",
       "  <thead>\n",
       "    <tr style=\"text-align: right;\">\n",
       "      <th></th>\n",
       "      <th>x</th>\n",
       "      <th>y</th>\n",
       "    </tr>\n",
       "  </thead>\n",
       "  <tbody>\n",
       "    <tr>\n",
       "      <th>195</th>\n",
       "      <td>876485.065262</td>\n",
       "      <td>4148119.549520</td>\n",
       "    </tr>\n",
       "    <tr>\n",
       "      <th>196</th>\n",
       "      <td>621600.111400</td>\n",
       "      <td>4177462.239644</td>\n",
       "    </tr>\n",
       "    <tr>\n",
       "      <th>197</th>\n",
       "      <td>450246.610116</td>\n",
       "      <td>4106031.045584</td>\n",
       "    </tr>\n",
       "    <tr>\n",
       "      <th>198</th>\n",
       "      <td>740919.375814</td>\n",
       "      <td>4359604.859780</td>\n",
       "    </tr>\n",
       "    <tr>\n",
       "      <th>199</th>\n",
       "      <td>797522.610898</td>\n",
       "      <td>4208606.173928</td>\n",
       "    </tr>\n",
       "  </tbody>\n",
       "</table>\n",
       "</div>"
      ],
      "text/plain": [
       "                 x               y\n",
       "195  876485.065262  4148119.549520\n",
       "196  621600.111400  4177462.239644\n",
       "197  450246.610116  4106031.045584\n",
       "198  740919.375814  4359604.859780\n",
       "199  797522.610898  4208606.173928"
      ]
     },
     "execution_count": 11,
     "metadata": {},
     "output_type": "execute_result"
    }
   ],
   "source": [
    "pp_va.tail()"
   ]
  },
  {
   "cell_type": "markdown",
   "metadata": {},
   "source": [
    "### Intensity Estimates"
   ]
  },
  {
   "cell_type": "markdown",
   "metadata": {},
   "source": [
    "**Intensity estimates are based on the following:**\n",
    "$$\\hat{\\lambda}_{mbb} = \\frac{n}{|W|}$$\n",
    "\n",
    "where $n$ is the number of points in the *window* $W$, and $|W|$ is the area of $W$."
   ]
  },
  {
   "cell_type": "markdown",
   "metadata": {},
   "source": [
    "**Intensity based on minimum bounding box:**\n",
    "$$\\hat{\\lambda}_{mbb} = \\frac{n}{|W_{mbb}|}$$\n",
    "\n",
    "where $W_{mbb}$ is the minimum bounding box for the point pattern."
   ]
  },
  {
   "cell_type": "code",
   "execution_count": 12,
   "metadata": {
    "collapsed": false
   },
   "outputs": [
    {
     "data": {
      "text/plain": [
       "9.2231562953112626e-10"
      ]
     },
     "execution_count": 12,
     "metadata": {},
     "output_type": "execute_result"
    }
   ],
   "source": [
    "pp_va.lambda_mbb"
   ]
  },
  {
   "cell_type": "markdown",
   "metadata": {},
   "source": [
    "**Intensity based on convex hull:**\n",
    "$$\\hat{\\lambda}_{hull} = \\frac{n}{|W_{hull}|}$$\n",
    "\n",
    "where $W_{hull}$ is the convex hull for the point pattern."
   ]
  },
  {
   "cell_type": "code",
   "execution_count": 13,
   "metadata": {
    "collapsed": false
   },
   "outputs": [
    {
     "data": {
      "text/plain": [
       "1.5973789098179388e-09"
      ]
     },
     "execution_count": 13,
     "metadata": {},
     "output_type": "execute_result"
    }
   ],
   "source": [
    "pp_va.lambda_hull"
   ]
  },
  {
   "cell_type": "markdown",
   "metadata": {},
   "source": [
    "## Next steps"
   ]
  },
  {
   "cell_type": "markdown",
   "metadata": {},
   "source": [
    "There is more to learn about point patterns in PySAL. Clearly the window chosen will impact the intensity estimate. For more on **windows** see the [window notebook](window.ipynb).\n",
    "\n",
    "\n",
    "The [centrographic notebook](centrography.ipynb) illustrates a number of spatial descriptive statistics and visualization of point patterns.\n",
    "\n",
    "To test if your point pattern departs from complete spatial randomness see the [distance statistics notebook](distance_statistics.ipynb).\n",
    "\n",
    "\n",
    "To simulate different types of point processes in various windows see [process.ipynb](process.ipynb).\n",
    "\n",
    "If you have point pattern data with additional attributes associated with each point see how to handle this in the [marks notebook](marks.ipynb).\n",
    "\n"
   ]
  }
 ],
 "metadata": {
  "kernelspec": {
   "display_name": "Python 2",
   "language": "python",
   "name": "python2"
  },
  "language_info": {
   "codemirror_mode": {
    "name": "ipython",
    "version": 2
   },
   "file_extension": ".py",
   "mimetype": "text/x-python",
   "name": "python",
   "nbconvert_exporter": "python",
   "pygments_lexer": "ipython2",
   "version": "2.7.10"
  }
 },
 "nbformat": 4,
 "nbformat_minor": 0
}
